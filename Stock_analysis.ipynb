{
 "cells": [
  {
   "cell_type": "markdown",
   "metadata": {},
   "source": [
    "# Analisis stocks inversion"
   ]
  },
  {
   "cell_type": "code",
   "execution_count": 158,
   "metadata": {},
   "outputs": [],
   "source": [
    "import yfinance as yf\n",
    "import pandas as pd\n",
    "import matplotlib.pyplot as plt\n",
    "import os\n",
    "import datetime\n",
    "from selenium import webdriver\n",
    "#from selenium.webdriver.support.ui import Select\n",
    "from selenium.webdriver.common.keys import Keys\n",
    "from selenium.webdriver.support.wait import WebDriverWait\n",
    "from selenium.webdriver.support import expected_conditions as EC\n",
    "from selenium.webdriver.edge.service import Service\n",
    "from selenium.webdriver.common.by import By\n",
    "from plotly.subplots import make_subplots\n",
    "import plotly.graph_objects as go\n",
    "import pandas as pd\n",
    "import time\n",
    "import datetime\n",
    "import os\n",
    "import pickle\n",
    "\n",
    "path = \"F:\\OneDrive - Universidad Católica de Santa María\\Proyectos\\Stock_analysis\\msedgedriver.exe\"\n",
    "#web = \"https://es.investing.com/equities/nvidia-corp-income-statement\"\n",
    "ls_web = [\"https://es.investing.com/equities/ibm-income-statement\",\"https://es.investing.com/equities/microsoft-corp-income-statement\",\"https://es.investing.com/equities/google-inc-c-income-statement\",\"https://es.investing.com/equities/amazon-com-inc-income-statement\",\"https://es.investing.com/equities/oracle-corp-income-statement\",\"https://es.investing.com/equities/sap-ag-ads-exch-income-statement\"]\n",
    "#ls_web = [\"https://es.investing.com/equities/microsoft-corp-income-statement\"]\n",
    "\n",
    "#fig = go.Figure()\n",
    "service = Service(executable_path=path)"
   ]
  },
  {
   "cell_type": "code",
   "execution_count": 159,
   "metadata": {},
   "outputs": [
    {
     "name": "stderr",
     "output_type": "stream",
     "text": [
      "[*********************100%%**********************]  6 of 6 completed\n"
     ]
    }
   ],
   "source": [
    "lst_tickers = [\"IBM\", \"MSFT\", \"GOOG\", \"AMZN\", \"ORCL\", \"SAP\"]\n",
    "start_date = '2023-09-01'\n",
    "#end_date = '2022-12-31'\n",
    "data_yf_stock = yf.download(lst_tickers, start_date, interval=\"1d\")\n",
    "data_yf_stock_close = data_yf_stock.loc[:,\"Close\"]"
   ]
  },
  {
   "cell_type": "code",
   "execution_count": 160,
   "metadata": {},
   "outputs": [],
   "source": [
    "class tp_stock(object):\n",
    "    \n",
    "    def __init__(self, df_resultados, df_balance, df_flujo_caja, df_dividendos):\n",
    "        #Dataframe Resultados procesamiento\n",
    "        self.df_resultados = df_resultados\n",
    "        self.df_resultados = self.df_resultados[self.df_resultados.iloc[:,1].str.len() <= 20]\n",
    "        self.df_resultados.set_index(\"Período terminado:\", inplace=True)\n",
    "        self.df_resultados = self.df_resultados.swapaxes('index', 'columns')\n",
    "        self.df_resultados.index = self.df_resultados.index.str.replace('/', '')\n",
    "        self.df_resultados.index = pd.to_datetime(self.df_resultados.index, format='%Y%d%m')\n",
    "        self.df_resultados = self.df_resultados.replace(\",\", \".\")\n",
    "        self.df_resultados = self.df_resultados.replace(\"-\", float(\"nan\"))\n",
    "        self.df_resultados = self.df_resultados.astype(float)\n",
    "        self.df_resultados[\"Margen_bruto(%)\"] =  ( self.df_resultados[\"Beneficio bruto\"] / self.df_resultados[\"Ingresos totales\"] ) * 100\n",
    "        self.df_resultados[\"Margen_explotacion(%)\"] =  ( self.df_resultados[\"Resultado de explotación\"] / self.df_resultados[\"Ingresos totales\"] ) * 100\n",
    "        self.df_resultados[\"Margen_gnetas(%)\"] =  ( self.df_resultados[\"Resultado del ejercicio\"] / self.df_resultados[\"Ingresos totales\"] ) * 100\n",
    "\n",
    "        #Dataframe Balance procesamiento\n",
    "        self.df_balance = df_balance\n",
    "        self.df_balance = self.df_balance[self.df_balance.iloc[:,1].str.len() <= 20]\n",
    "        self.df_balance.set_index(\"Período terminado:\", inplace=True)\n",
    "        self.df_balance = self.df_balance.swapaxes('index', 'columns')\n",
    "        self.df_balance.index = self.df_balance.index.str.replace('/', '')\n",
    "        self.df_balance.index = pd.to_datetime(self.df_balance.index, format='%Y%d%m')\n",
    "        self.df_balance = self.df_balance.replace(\",\", \".\")\n",
    "        self.df_balance= self.df_balance.replace(\"-\", float(\"nan\"))\n",
    "        self.df_balance = self.df_balance.astype(float)\n",
    "        self.df_balance[\"Ratio solvencia\"] =  ( self.df_balance[\"Total activos\"] / self.df_balance[\"Total pasivo\"] )\n",
    "        self.df_balance[\"Ratio liquidez\"] =  ( self.df_balance[\"Total activos corrientes\"] / self.df_balance[\"Total pasivo corriente\"] )\n",
    "        self.df_balance[\"Endeudamiento a largo plazo\"] =  ( ( self.df_balance[\"Total pasivo\"] - self.df_balance[\"Total pasivo corriente\"] ) / self.df_balance[\"Total activos\"] )\n",
    "        self.df_balance[\"Ratio endeudamiento total\"] =  ( self.df_balance[\"Total pasivo\"] / self.df_balance[\"Total activos\"] )\n",
    "\n",
    "        #Dataframe Flujo de caja procesamiento\n",
    "        self.df_flujo_caja = df_flujo_caja\n",
    "        self.df_flujo_caja.columns = [r_colum[0] for r_colum in self.df_flujo_caja.columns]\n",
    "        self.df_flujo_caja = self.df_flujo_caja[self.df_flujo_caja.iloc[:,1].str.len() <= 20]\n",
    "        self.df_flujo_caja.set_index(\"Período terminado:\", inplace=True)\n",
    "        self.df_flujo_caja = self.df_flujo_caja.swapaxes('index', 'columns')\n",
    "        self.df_flujo_caja.index = self.df_flujo_caja.index.str.replace('/', '')\n",
    "        self.df_flujo_caja.index = pd.to_datetime(self.df_flujo_caja.index, format='%Y%d%m')\n",
    "        self.df_flujo_caja = self.df_flujo_caja.replace(\",\", \".\")\n",
    "        self.df_flujo_caja = self.df_flujo_caja.replace(\"-\", float(\"nan\"))\n",
    "        self.df_flujo_caja = self.df_flujo_caja.astype(float)\n",
    "\n",
    "        #Dataframe Dividendos procesamiento\n",
    "        self.df_dividendos = df_dividendos\n",
    "        self.df_dividendos[\"Fecha de pago\"] = pd.to_datetime(self.df_dividendos[\"Fecha de pago\"] , format='%d.%m.%Y')\n",
    "        self.df_dividendos[\"Rendimiento\"] = self.df_dividendos[\"Rendimiento\"].str.replace(',', '.')\n",
    "        self.df_dividendos[\"Rendimiento\"] = self.df_dividendos[\"Rendimiento\"].str.replace('%', '')\n",
    "        self.df_dividendos[\"Rendimiento\"] = self.df_dividendos[\"Rendimiento\"].replace(\"-\", float(\"nan\"))\n",
    "        self.df_dividendos[\"Rendimiento\"] = self.df_dividendos[\"Rendimiento\"].astype(float)\n",
    "\n",
    "\n",
    "    def graph_resultados(self):\n",
    "        fig = go.Figure()\n",
    "        fig.add_trace(go.Scatter(x=self.df_resultados.index, y= self.df_resultados[\"Ingresos\"], mode='lines+markers'))\n",
    "        fig.update_layout(title='Ingresos vs Período terminado', xaxis_title='Período terminado', yaxis_title='Ingresos')\n",
    "        fig.show()\n",
    "\n",
    "    def graph_balance(self):\n",
    "        fig = go.Figure()\n",
    "        fig.add_trace(go.Scatter(x=self.df_balance.index, y= self.df_balance[\"Total pasivo\"], mode='lines+markers'))\n",
    "        fig.update_layout(title='Pasivos vs Período terminado', xaxis_title='Período terminado', yaxis_title='Pasivos')\n",
    "        fig.show()\n",
    "\n",
    "    def graph_flujo_caja(self):\n",
    "        fig = go.Figure()\n",
    "        fig.add_trace(go.Scatter(x=self.df_flujo_caja.index, y= self.df_flujo_caja[\"Resultado consolidado del ejercicio\"], mode='lines+markers'))\n",
    "        fig.update_layout(title='Resultado del ejercicio vs Período terminado', xaxis_title='Período terminado', yaxis_title='Resultado del ejercicio')\n",
    "        fig.show()\n",
    "\n",
    "    def graph_dividendos(self):\n",
    "        fig = go.Figure()\n",
    "        #self.df_dividendos[\"Rendimiento\"] = self.df_dividendos[\"Rendimiento\"].str.rstrip('%').str.replace(',', '.').astype(float)\n",
    "        fig.add_trace(go.Scatter(x=self.df_dividendos[\"Fecha de pago\"], y= self.df_dividendos[\"Rendimiento\"], mode='lines+markers'))\n",
    "        fig.update_layout(title='Rendimiento vs Fecha de pago', xaxis_title='Fecha de pago', yaxis_title='Rendimiento')\n",
    "        fig.show()"
   ]
  },
  {
   "cell_type": "code",
   "execution_count": 161,
   "metadata": {},
   "outputs": [],
   "source": [
    "\n",
    "def graph_stock_tecnico (name_stock,start_date, int_desv):\n",
    "    data_yf_stock = yf.download(name_stock, start_date)\n",
    "    data_yf_stock = data_yf_stock.loc[:,[\"Close\"]].copy()\n",
    "    data_yf_stock[\"Media\"] = data_yf_stock[\"Close\"].rolling(window=20).mean()\n",
    "    data_yf_stock[\"Desv\"] = data_yf_stock[\"Close\"].rolling(window=20).std()\n",
    "    data_yf_stock[\"Upper_band\"] = data_yf_stock[\"Media\"] + (data_yf_stock[\"Desv\"] * int_desv)\n",
    "    data_yf_stock[\"Lower_band\"] = data_yf_stock[\"Media\"] - (data_yf_stock[\"Desv\"] * int_desv)\n",
    "    #data_yf_stock_close.dropna(inplace=True)\n",
    "    fig = go.Figure()\n",
    "    fig.add_trace(go.Scatter(x=data_yf_stock.index, y= data_yf_stock[\"Close\"], mode='lines+markers', name = name_stock))\n",
    "    fig.add_trace(go.Scatter(x=data_yf_stock.index, y= data_yf_stock[\"Media\"], mode='lines', name = \"Media\"))\n",
    "    fig.add_trace(go.Scatter(x=data_yf_stock.index, y= data_yf_stock[\"Upper_band\"], mode='lines', name = \"Upper band Bollinger\"))\n",
    "    fig.add_trace(go.Scatter(x=data_yf_stock.index, y= data_yf_stock[\"Lower_band\"], mode='lines', name = \"Lower band Bollinger\"))\n",
    "    fig.update_layout(title='Precio de ' + name_stock, xaxis_title='Fecha', yaxis_title='Precio')\n",
    "    #fig.update_layout(shapes=[dict(type=\"rect\", xref=\"x\", yref=\"y\", x0=data_yf_stock_close.iloc[0], x1=data_yf_stock_close.iloc[-1], y0=data_yf_stock_close[\"Lower_band\"].min(), y1=data_yf_stock_close[\"Upper_band\"].max(), fillcolor=\"rgba(0,0,255,0.1)\", layer=\"below\", line=dict(width=0))])\n",
    "    fig.show()\n",
    "\n",
    "def graph_stock_tecnico_var (name_stock,start_date, int_desv):\n",
    "    data_yf_stock = yf.download(name_stock, start_date)\n",
    "    data_yf_stock_highlow = data_yf_stock.loc[:,[\"High\",\"Low\"]].copy()\n",
    "    data_yf_stock_highlow= data_yf_stock_highlow.stack()\n",
    "    data_yf_stock_highlow = data_yf_stock_highlow.reset_index()\n",
    "    data_yf_stock_highlow.columns = [\"Date\",\"Time\",\"Price\"]\n",
    "    data_yf_stock_highlow[\"Media\"] = data_yf_stock_highlow[\"Price\"].rolling(window=20).mean()\n",
    "    data_yf_stock_highlow[\"Desv\"] = data_yf_stock_highlow[\"Price\"].rolling(window=20).std()\n",
    "    data_yf_stock_highlow[\"Upper_band\"] = data_yf_stock_highlow[\"Media\"] + (data_yf_stock_highlow[\"Desv\"] * int_desv)\n",
    "    data_yf_stock_highlow[\"Lower_band\"] = data_yf_stock_highlow[\"Media\"] - (data_yf_stock_highlow[\"Desv\"] * int_desv)\n",
    "    #data_yf_stock_close.dropna(inplace=True)\n",
    "    fig = go.Figure()\n",
    "    fig.add_trace(go.Scatter(x=data_yf_stock_highlow[\"Date\"], y= data_yf_stock_highlow[\"Price\"], mode='lines+markers', name = name_stock))\n",
    "    fig.add_trace(go.Scatter(x=data_yf_stock_highlow[\"Date\"], y= data_yf_stock_highlow[\"Media\"], mode='lines', name = \"Media\"))\n",
    "    fig.add_trace(go.Scatter(x=data_yf_stock_highlow[\"Date\"], y= data_yf_stock_highlow[\"Upper_band\"], mode='lines', name = \"Upper band Bollinger\"))\n",
    "    fig.add_trace(go.Scatter(x=data_yf_stock_highlow[\"Date\"], y= data_yf_stock_highlow[\"Lower_band\"], mode='lines', name = \"Lower band Bollinger\"))\n",
    "    fig.update_layout(title='Precio de ' + name_stock, xaxis_title='Fecha', yaxis_title='Precio')\n",
    "    #fig.update_layout(shapes=[dict(type=\"rect\", xref=\"x\", yref=\"y\", x0=data_yf_stock_close.iloc[0], x1=data_yf_stock_close.iloc[-1], y0=data_yf_stock_close[\"Lower_band\"].min(), y1=data_yf_stock_close[\"Upper_band\"].max(), fillcolor=\"rgba(0,0,255,0.1)\", layer=\"below\", line=dict(width=0))])\n",
    "    fig.show()\n",
    "\n",
    "    "
   ]
  },
  {
   "cell_type": "code",
   "execution_count": 187,
   "metadata": {},
   "outputs": [],
   "source": [
    "driver = webdriver.Edge(service=service)\n",
    "wait = WebDriverWait(driver, 60)\n",
    "wait_6 = WebDriverWait(driver, 6)\n",
    "driver.maximize_window()\n",
    "dic_stocks = {}\n",
    "\n",
    "for web in ls_web:\n",
    "\n",
    "    driver.get(web)\n",
    "    name_stock = wait.until(EC.presence_of_element_located((By.XPATH, \"//h1[@itemprop='name']\"))).text\n",
    "    \n",
    "    #Tabla Resultados Stock\n",
    "    wait.until(EC.element_to_be_clickable((By.XPATH, \"//div[@class='alignBottom']/div/a[@data-ptype='Annual']\"))).click()\n",
    "    html_resultados = wait.until(EC.presence_of_element_located((By.XPATH, \"(//table[@class='genTbl reportTbl'])[1]\"))).get_attribute(\"outerHTML\")\n",
    "    df_resultados = pd.read_html(html_resultados, flavor=\"html5lib\",  thousands='.', decimal=',')[0]\n",
    "    \n",
    "    #Tabla Balance Stock\n",
    "    wait.until(EC.element_to_be_clickable((By.XPATH, \"//a[contains(text(), 'Balance')]\"))).click()\n",
    "    wait.until(EC.element_to_be_clickable((By.XPATH, \"//div[@class='alignBottom']/div/a[@data-ptype='Annual']\"))).click()\n",
    "    html_balance = wait.until(EC.presence_of_element_located((By.XPATH, \"(//table[@class='genTbl reportTbl'])[1]\"))).get_attribute(\"outerHTML\")\n",
    "    df_balance = pd.read_html(html_balance, flavor=\"html5lib\", thousands='.', decimal=',')[0]\n",
    "    \n",
    "    #Tabla Flujo de caja\n",
    "    try:\n",
    "        wait_6.until(EC.element_to_be_clickable((By.XPATH, \"//a[contains(text(), 'Flujo de caja')]\"))).click()\n",
    "    except:\n",
    "        wait.until(EC.element_to_be_clickable((By.XPATH, \"//a[contains(text(), 'Cash Flow')]\"))).click()\n",
    "    wait.until(EC.element_to_be_clickable((By.XPATH, \"//div[@class='alignBottom']/div/a[@data-ptype='Annual']\"))).click()\n",
    "    html_flujo_caja = wait.until(EC.presence_of_element_located((By.XPATH, \"(//table[@class='genTbl reportTbl'])[1]\"))).get_attribute(\"outerHTML\")\n",
    "    df_flujo_caja = pd.read_html(html_flujo_caja, flavor=\"html5lib\",  thousands='.', decimal=',')[0]\n",
    "    \n",
    "    #Tabla Dividendos\n",
    "    try:\n",
    "        try:\n",
    "            wait_6.until(EC.element_to_be_clickable((By.XPATH, \"//a[contains(text(), 'Dividendos')]\"))).click()\n",
    "        except:\n",
    "            wait_6.until(EC.element_to_be_clickable((By.XPATH, \"//a[contains(text(), 'Dividends')]\"))).click()\n",
    "        try:\n",
    "            try:\n",
    "                wait_6.until(EC.element_to_be_clickable((By.XPATH, \"//a[contains(text(), 'Mostrar más')]\"))).click()\n",
    "            except:\n",
    "                wait_6.until(EC.element_to_be_clickable((By.XPATH, \"//a[contains(text(), 'Show more')]\"))).click()\n",
    "        except:\n",
    "            pass\n",
    "        time.sleep(4)\n",
    "        html_dividendos = wait_6.until(EC.presence_of_element_located((By.XPATH, \"//table[starts-with(@id,'dividendsHistoryData')]\"))).get_attribute(\"outerHTML\")\n",
    "        df_dividendos = pd.read_html(html_dividendos, flavor=\"html5lib\", converters={\"Dividendo\":str}, decimal=',')[0]\n",
    "        df_dividendos = df_dividendos[[\"Fecha de pago\", \"Rendimiento\"]]\n",
    "    except:\n",
    "        df_dividendos = pd.DataFrame(columns = [\"Fecha de pago\", \"Rendimiento\"])\n",
    "\n",
    "    stock = tp_stock(df_resultados, df_balance, df_flujo_caja, df_dividendos)\n",
    "    dic_stocks[name_stock] = stock\n",
    "    \n",
    "driver.quit()"
   ]
  },
  {
   "cell_type": "code",
   "execution_count": 188,
   "metadata": {},
   "outputs": [
    {
     "data": {
      "application/vnd.plotly.v1+json": {
       "config": {
        "plotlyServerURL": "https://plot.ly"
       },
       "data": [
        {
         "name": "AMZN",
         "type": "scatter",
         "x": [
          "2023-09-01T00:00:00",
          "2023-09-05T00:00:00",
          "2023-09-06T00:00:00",
          "2023-09-07T00:00:00",
          "2023-09-08T00:00:00",
          "2023-09-11T00:00:00",
          "2023-09-12T00:00:00",
          "2023-09-13T00:00:00",
          "2023-09-14T00:00:00",
          "2023-09-15T00:00:00",
          "2023-09-18T00:00:00",
          "2023-09-19T00:00:00",
          "2023-09-20T00:00:00",
          "2023-09-21T00:00:00",
          "2023-09-22T00:00:00",
          "2023-09-25T00:00:00",
          "2023-09-26T00:00:00",
          "2023-09-27T00:00:00",
          "2023-09-28T00:00:00",
          "2023-09-29T00:00:00",
          "2023-10-02T00:00:00",
          "2023-10-03T00:00:00",
          "2023-10-04T00:00:00",
          "2023-10-05T00:00:00",
          "2023-10-06T00:00:00",
          "2023-10-09T00:00:00",
          "2023-10-10T00:00:00",
          "2023-10-11T00:00:00",
          "2023-10-12T00:00:00",
          "2023-10-13T00:00:00",
          "2023-10-16T00:00:00",
          "2023-10-17T00:00:00",
          "2023-10-18T00:00:00",
          "2023-10-19T00:00:00",
          "2023-10-20T00:00:00",
          "2023-10-23T00:00:00",
          "2023-10-24T00:00:00",
          "2023-10-25T00:00:00",
          "2023-10-26T00:00:00",
          "2023-10-27T00:00:00",
          "2023-10-30T00:00:00",
          "2023-10-31T00:00:00",
          "2023-11-01T00:00:00",
          "2023-11-02T00:00:00",
          "2023-11-03T00:00:00",
          "2023-11-06T00:00:00",
          "2023-11-07T00:00:00",
          "2023-11-08T00:00:00",
          "2023-11-09T00:00:00",
          "2023-11-10T00:00:00",
          "2023-11-13T00:00:00",
          "2023-11-14T00:00:00",
          "2023-11-15T00:00:00",
          "2023-11-16T00:00:00",
          "2023-11-17T00:00:00",
          "2023-11-20T00:00:00",
          "2023-11-21T00:00:00",
          "2023-11-22T00:00:00",
          "2023-11-24T00:00:00",
          "2023-11-27T00:00:00",
          "2023-11-28T00:00:00",
          "2023-11-29T00:00:00",
          "2023-11-30T00:00:00",
          "2023-12-01T00:00:00",
          "2023-12-04T00:00:00",
          "2023-12-05T00:00:00",
          "2023-12-06T00:00:00",
          "2023-12-07T00:00:00",
          "2023-12-08T00:00:00",
          "2023-12-11T00:00:00",
          "2023-12-12T00:00:00",
          "2023-12-13T00:00:00",
          "2023-12-14T00:00:00",
          "2023-12-15T00:00:00",
          "2023-12-18T00:00:00",
          "2023-12-19T00:00:00",
          "2023-12-20T00:00:00",
          "2023-12-21T00:00:00",
          "2023-12-22T00:00:00",
          "2023-12-26T00:00:00",
          "2023-12-27T00:00:00",
          "2023-12-28T00:00:00",
          "2023-12-29T00:00:00",
          "2024-01-02T00:00:00",
          "2024-01-03T00:00:00",
          "2024-01-04T00:00:00",
          "2024-01-05T00:00:00",
          "2024-01-08T00:00:00",
          "2024-01-09T00:00:00",
          "2024-01-10T00:00:00",
          "2024-01-11T00:00:00",
          "2024-01-12T00:00:00",
          "2024-01-16T00:00:00",
          "2024-01-17T00:00:00",
          "2024-01-18T00:00:00",
          "2024-01-19T00:00:00",
          "2024-01-22T00:00:00",
          "2024-01-23T00:00:00",
          "2024-01-24T00:00:00",
          "2024-01-25T00:00:00",
          "2024-01-26T00:00:00",
          "2024-01-29T00:00:00",
          "2024-01-30T00:00:00",
          "2024-01-31T00:00:00",
          "2024-02-01T00:00:00",
          "2024-02-02T00:00:00",
          "2024-02-05T00:00:00",
          "2024-02-06T00:00:00",
          "2024-02-07T00:00:00",
          "2024-02-08T00:00:00",
          "2024-02-09T00:00:00",
          "2024-02-12T00:00:00",
          "2024-02-13T00:00:00",
          "2024-02-14T00:00:00",
          "2024-02-15T00:00:00",
          "2024-02-16T00:00:00"
         ],
         "xaxis": "x",
         "y": [
          138.1199951171875,
          137.27000427246094,
          135.36000061035156,
          137.85000610351562,
          138.22999572753906,
          143.10000610351562,
          141.22999572753906,
          144.85000610351562,
          144.72000122070312,
          140.38999938964844,
          139.97999572753906,
          137.6300048828125,
          135.2899932861328,
          129.3300018310547,
          129.1199951171875,
          131.27000427246094,
          125.9800033569336,
          125.9800033569336,
          125.9800033569336,
          127.12000274658203,
          129.4600067138672,
          124.72000122070312,
          127,
          125.95999908447266,
          127.95999908447266,
          128.25999450683594,
          129.47999572753906,
          131.8300018310547,
          132.3300018310547,
          129.7899932861328,
          132.5500030517578,
          131.47000122070312,
          128.1300048828125,
          128.39999389648438,
          125.16999816894531,
          126.55999755859375,
          128.55999755859375,
          121.38999938964844,
          119.56999969482422,
          127.73999786376953,
          132.7100067138672,
          133.08999633789062,
          137,
          138.07000732421875,
          138.60000610351562,
          139.74000549316406,
          142.7100067138672,
          142.0800018310547,
          140.60000610351562,
          143.55999755859375,
          142.58999633789062,
          145.8000030517578,
          143.1999969482422,
          142.8300018310547,
          145.17999267578125,
          146.1300048828125,
          143.89999389648438,
          146.7100067138672,
          146.74000549316406,
          147.72999572753906,
          147.02999877929688,
          146.32000732421875,
          146.08999633789062,
          147.02999877929688,
          144.83999633789062,
          146.8800048828125,
          144.52000427246094,
          146.8800048828125,
          147.4199981689453,
          145.88999938964844,
          147.47999572753906,
          148.83999633789062,
          147.4199981689453,
          149.97000122070312,
          154.07000732421875,
          153.7899932861328,
          152.1199951171875,
          153.83999633789062,
          153.4199981689453,
          153.41000366210938,
          153.33999633789062,
          153.3800048828125,
          151.94000244140625,
          149.92999267578125,
          148.47000122070312,
          144.57000732421875,
          145.24000549316406,
          149.10000610351562,
          151.3699951171875,
          153.72999572753906,
          155.17999267578125,
          154.6199951171875,
          153.16000366210938,
          151.7100067138672,
          153.5,
          155.33999633789062,
          154.77999877929688,
          156.02000427246094,
          156.8699951171875,
          157.75,
          159.1199951171875,
          161.25999450683594,
          159,
          155.1999969482422,
          159.27999877929688,
          171.80999755859375,
          170.30999755859375,
          169.14999389648438,
          170.52999877929688,
          169.83999633789062,
          174.4499969482422,
          172.33999633789062,
          168.63999938964844,
          170.97999572753906,
          169.8000030517578,
          169.50999450683594
         ],
         "yaxis": "y"
        },
        {
         "name": "GOOG",
         "type": "scatter",
         "x": [
          "2023-09-01T00:00:00",
          "2023-09-05T00:00:00",
          "2023-09-06T00:00:00",
          "2023-09-07T00:00:00",
          "2023-09-08T00:00:00",
          "2023-09-11T00:00:00",
          "2023-09-12T00:00:00",
          "2023-09-13T00:00:00",
          "2023-09-14T00:00:00",
          "2023-09-15T00:00:00",
          "2023-09-18T00:00:00",
          "2023-09-19T00:00:00",
          "2023-09-20T00:00:00",
          "2023-09-21T00:00:00",
          "2023-09-22T00:00:00",
          "2023-09-25T00:00:00",
          "2023-09-26T00:00:00",
          "2023-09-27T00:00:00",
          "2023-09-28T00:00:00",
          "2023-09-29T00:00:00",
          "2023-10-02T00:00:00",
          "2023-10-03T00:00:00",
          "2023-10-04T00:00:00",
          "2023-10-05T00:00:00",
          "2023-10-06T00:00:00",
          "2023-10-09T00:00:00",
          "2023-10-10T00:00:00",
          "2023-10-11T00:00:00",
          "2023-10-12T00:00:00",
          "2023-10-13T00:00:00",
          "2023-10-16T00:00:00",
          "2023-10-17T00:00:00",
          "2023-10-18T00:00:00",
          "2023-10-19T00:00:00",
          "2023-10-20T00:00:00",
          "2023-10-23T00:00:00",
          "2023-10-24T00:00:00",
          "2023-10-25T00:00:00",
          "2023-10-26T00:00:00",
          "2023-10-27T00:00:00",
          "2023-10-30T00:00:00",
          "2023-10-31T00:00:00",
          "2023-11-01T00:00:00",
          "2023-11-02T00:00:00",
          "2023-11-03T00:00:00",
          "2023-11-06T00:00:00",
          "2023-11-07T00:00:00",
          "2023-11-08T00:00:00",
          "2023-11-09T00:00:00",
          "2023-11-10T00:00:00",
          "2023-11-13T00:00:00",
          "2023-11-14T00:00:00",
          "2023-11-15T00:00:00",
          "2023-11-16T00:00:00",
          "2023-11-17T00:00:00",
          "2023-11-20T00:00:00",
          "2023-11-21T00:00:00",
          "2023-11-22T00:00:00",
          "2023-11-24T00:00:00",
          "2023-11-27T00:00:00",
          "2023-11-28T00:00:00",
          "2023-11-29T00:00:00",
          "2023-11-30T00:00:00",
          "2023-12-01T00:00:00",
          "2023-12-04T00:00:00",
          "2023-12-05T00:00:00",
          "2023-12-06T00:00:00",
          "2023-12-07T00:00:00",
          "2023-12-08T00:00:00",
          "2023-12-11T00:00:00",
          "2023-12-12T00:00:00",
          "2023-12-13T00:00:00",
          "2023-12-14T00:00:00",
          "2023-12-15T00:00:00",
          "2023-12-18T00:00:00",
          "2023-12-19T00:00:00",
          "2023-12-20T00:00:00",
          "2023-12-21T00:00:00",
          "2023-12-22T00:00:00",
          "2023-12-26T00:00:00",
          "2023-12-27T00:00:00",
          "2023-12-28T00:00:00",
          "2023-12-29T00:00:00",
          "2024-01-02T00:00:00",
          "2024-01-03T00:00:00",
          "2024-01-04T00:00:00",
          "2024-01-05T00:00:00",
          "2024-01-08T00:00:00",
          "2024-01-09T00:00:00",
          "2024-01-10T00:00:00",
          "2024-01-11T00:00:00",
          "2024-01-12T00:00:00",
          "2024-01-16T00:00:00",
          "2024-01-17T00:00:00",
          "2024-01-18T00:00:00",
          "2024-01-19T00:00:00",
          "2024-01-22T00:00:00",
          "2024-01-23T00:00:00",
          "2024-01-24T00:00:00",
          "2024-01-25T00:00:00",
          "2024-01-26T00:00:00",
          "2024-01-29T00:00:00",
          "2024-01-30T00:00:00",
          "2024-01-31T00:00:00",
          "2024-02-01T00:00:00",
          "2024-02-02T00:00:00",
          "2024-02-05T00:00:00",
          "2024-02-06T00:00:00",
          "2024-02-07T00:00:00",
          "2024-02-08T00:00:00",
          "2024-02-09T00:00:00",
          "2024-02-12T00:00:00",
          "2024-02-13T00:00:00",
          "2024-02-14T00:00:00",
          "2024-02-15T00:00:00",
          "2024-02-16T00:00:00"
         ],
         "xaxis": "x2",
         "y": [
          136.8000030517578,
          136.7100067138672,
          135.3699951171875,
          136.1999969482422,
          137.1999969482422,
          137.74000549316406,
          136.07000732421875,
          137.5,
          138.99000549316406,
          138.3000030517578,
          138.9600067138672,
          138.8300018310547,
          134.58999633789062,
          131.36000061035156,
          131.25,
          132.1699981689453,
          129.4499969482422,
          131.4600067138672,
          133.1300048828125,
          131.85000610351562,
          135.1699981689453,
          133.3000030517578,
          136.27000427246094,
          135.99000549316406,
          138.72999572753906,
          139.5,
          139.1999969482422,
          141.6999969482422,
          140.2899932861328,
          138.5800018310547,
          140.49000549316406,
          140.99000549316406,
          139.27999877929688,
          138.97999572753906,
          136.74000549316406,
          137.89999389648438,
          140.1199951171875,
          126.66999816894531,
          123.44000244140625,
          123.4000015258789,
          125.75,
          125.30000305175781,
          127.56999969482422,
          128.5800018310547,
          130.3699951171875,
          131.4499969482422,
          132.39999389648438,
          133.25999450683594,
          131.69000244140625,
          134.05999755859375,
          133.63999938964844,
          135.42999267578125,
          136.3800048828125,
          138.6999969482422,
          136.94000244140625,
          137.9199981689453,
          138.6199951171875,
          140.02000427246094,
          138.22000122070312,
          138.0500030517578,
          138.6199951171875,
          136.39999389648438,
          133.9199981689453,
          133.32000732421875,
          130.6300048828125,
          132.38999938964844,
          131.42999267578125,
          138.4499969482422,
          136.63999938964844,
          134.6999969482422,
          133.63999938964844,
          133.97000122070312,
          133.1999969482422,
          133.83999633789062,
          137.19000244140625,
          138.10000610351562,
          139.66000366210938,
          141.8000030517578,
          142.72000122070312,
          142.82000732421875,
          141.44000244140625,
          141.27999877929688,
          140.92999267578125,
          139.55999755859375,
          140.36000061035156,
          138.0399932861328,
          137.38999938964844,
          140.52999877929688,
          142.55999755859375,
          143.8000030517578,
          143.6699981689453,
          144.24000549316406,
          144.0800018310547,
          142.88999938964844,
          144.99000549316406,
          147.97000122070312,
          147.7100067138672,
          148.67999267578125,
          150.35000610351562,
          153.63999938964844,
          153.7899932861328,
          154.83999633789062,
          153.0500030517578,
          141.8000030517578,
          142.7100067138672,
          143.5399932861328,
          144.92999267578125,
          145.41000366210938,
          146.67999267578125,
          147.22000122070312,
          150.22000122070312,
          148.72999572753906,
          146.3699951171875,
          147.13999938964844,
          143.94000244140625,
          141.75999450683594
         ],
         "yaxis": "y2"
        },
        {
         "name": "IBM",
         "type": "scatter",
         "x": [
          "2023-09-01T00:00:00",
          "2023-09-05T00:00:00",
          "2023-09-06T00:00:00",
          "2023-09-07T00:00:00",
          "2023-09-08T00:00:00",
          "2023-09-11T00:00:00",
          "2023-09-12T00:00:00",
          "2023-09-13T00:00:00",
          "2023-09-14T00:00:00",
          "2023-09-15T00:00:00",
          "2023-09-18T00:00:00",
          "2023-09-19T00:00:00",
          "2023-09-20T00:00:00",
          "2023-09-21T00:00:00",
          "2023-09-22T00:00:00",
          "2023-09-25T00:00:00",
          "2023-09-26T00:00:00",
          "2023-09-27T00:00:00",
          "2023-09-28T00:00:00",
          "2023-09-29T00:00:00",
          "2023-10-02T00:00:00",
          "2023-10-03T00:00:00",
          "2023-10-04T00:00:00",
          "2023-10-05T00:00:00",
          "2023-10-06T00:00:00",
          "2023-10-09T00:00:00",
          "2023-10-10T00:00:00",
          "2023-10-11T00:00:00",
          "2023-10-12T00:00:00",
          "2023-10-13T00:00:00",
          "2023-10-16T00:00:00",
          "2023-10-17T00:00:00",
          "2023-10-18T00:00:00",
          "2023-10-19T00:00:00",
          "2023-10-20T00:00:00",
          "2023-10-23T00:00:00",
          "2023-10-24T00:00:00",
          "2023-10-25T00:00:00",
          "2023-10-26T00:00:00",
          "2023-10-27T00:00:00",
          "2023-10-30T00:00:00",
          "2023-10-31T00:00:00",
          "2023-11-01T00:00:00",
          "2023-11-02T00:00:00",
          "2023-11-03T00:00:00",
          "2023-11-06T00:00:00",
          "2023-11-07T00:00:00",
          "2023-11-08T00:00:00",
          "2023-11-09T00:00:00",
          "2023-11-10T00:00:00",
          "2023-11-13T00:00:00",
          "2023-11-14T00:00:00",
          "2023-11-15T00:00:00",
          "2023-11-16T00:00:00",
          "2023-11-17T00:00:00",
          "2023-11-20T00:00:00",
          "2023-11-21T00:00:00",
          "2023-11-22T00:00:00",
          "2023-11-24T00:00:00",
          "2023-11-27T00:00:00",
          "2023-11-28T00:00:00",
          "2023-11-29T00:00:00",
          "2023-11-30T00:00:00",
          "2023-12-01T00:00:00",
          "2023-12-04T00:00:00",
          "2023-12-05T00:00:00",
          "2023-12-06T00:00:00",
          "2023-12-07T00:00:00",
          "2023-12-08T00:00:00",
          "2023-12-11T00:00:00",
          "2023-12-12T00:00:00",
          "2023-12-13T00:00:00",
          "2023-12-14T00:00:00",
          "2023-12-15T00:00:00",
          "2023-12-18T00:00:00",
          "2023-12-19T00:00:00",
          "2023-12-20T00:00:00",
          "2023-12-21T00:00:00",
          "2023-12-22T00:00:00",
          "2023-12-26T00:00:00",
          "2023-12-27T00:00:00",
          "2023-12-28T00:00:00",
          "2023-12-29T00:00:00",
          "2024-01-02T00:00:00",
          "2024-01-03T00:00:00",
          "2024-01-04T00:00:00",
          "2024-01-05T00:00:00",
          "2024-01-08T00:00:00",
          "2024-01-09T00:00:00",
          "2024-01-10T00:00:00",
          "2024-01-11T00:00:00",
          "2024-01-12T00:00:00",
          "2024-01-16T00:00:00",
          "2024-01-17T00:00:00",
          "2024-01-18T00:00:00",
          "2024-01-19T00:00:00",
          "2024-01-22T00:00:00",
          "2024-01-23T00:00:00",
          "2024-01-24T00:00:00",
          "2024-01-25T00:00:00",
          "2024-01-26T00:00:00",
          "2024-01-29T00:00:00",
          "2024-01-30T00:00:00",
          "2024-01-31T00:00:00",
          "2024-02-01T00:00:00",
          "2024-02-02T00:00:00",
          "2024-02-05T00:00:00",
          "2024-02-06T00:00:00",
          "2024-02-07T00:00:00",
          "2024-02-08T00:00:00",
          "2024-02-09T00:00:00",
          "2024-02-12T00:00:00",
          "2024-02-13T00:00:00",
          "2024-02-14T00:00:00",
          "2024-02-15T00:00:00",
          "2024-02-16T00:00:00"
         ],
         "xaxis": "x3",
         "y": [
          147.94000244140625,
          148.1300048828125,
          148.05999755859375,
          147.52000427246094,
          147.67999267578125,
          148.3800048828125,
          146.3000030517578,
          146.5500030517578,
          147.35000610351562,
          145.99000549316406,
          145.08999633789062,
          146.52000427246094,
          149.8300018310547,
          147.3800048828125,
          146.91000366210938,
          146.47999572753906,
          143.24000549316406,
          143.1699981689453,
          141.5800018310547,
          140.3000030517578,
          140.8000030517578,
          140.38999938964844,
          141.07000732421875,
          141.52000427246094,
          142.02999877929688,
          142.1999969482422,
          142.11000061035156,
          143.22999572753906,
          141.24000549316406,
          138.4600067138672,
          139.2100067138672,
          140.32000732421875,
          139.97000122070312,
          138.00999450683594,
          137.16000366210938,
          136.3800048828125,
          137.7899932861328,
          137.0800018310547,
          143.75999450683594,
          142.52000427246094,
          142.6300048828125,
          144.63999938964844,
          145.39999389648438,
          147.00999450683594,
          147.89999389648438,
          148.97000122070312,
          148.8300018310547,
          148.02999877929688,
          146.6199951171875,
          149.02000427246094,
          148.10000610351562,
          150.41000366210938,
          152.5800018310547,
          153.05999755859375,
          152.88999938964844,
          154.35000610351562,
          153.91000366210938,
          155.1300048828125,
          155.17999267578125,
          155.57000732421875,
          155.64999389648438,
          156.41000366210938,
          158.55999755859375,
          160.5500030517578,
          161.10000610351562,
          161.38999938964844,
          160.27999877929688,
          160.22000122070312,
          161.9600067138672,
          163.50999450683594,
          164.7100067138672,
          163.6199951171875,
          162.91000366210938,
          162.22999572753906,
          162.74000549316406,
          161.55999755859375,
          160.0500030517578,
          160.77999877929688,
          162.13999938964844,
          163.2100067138672,
          163.4600067138672,
          163.75,
          163.5500030517578,
          161.5,
          160.10000610351562,
          160.86000061035156,
          159.16000366210938,
          161.13999938964844,
          160.0800018310547,
          161.22999572753906,
          162.16000366210938,
          165.8000030517578,
          166.9600067138672,
          166.0800018310547,
          166.83999633789062,
          171.47999572753906,
          172.8300018310547,
          173.94000244140625,
          173.92999267578125,
          190.42999267578125,
          187.4199981689453,
          187.13999938964844,
          187.8699951171875,
          183.66000366210938,
          186.89999389648438,
          185.7899932861328,
          183.4199981689453,
          183.41000366210938,
          183.74000549316406,
          184.36000061035156,
          186.33999633789062,
          186.16000366210938,
          183.6999969482422,
          183.57000732421875,
          186.8699951171875,
          187.63999938964844
         ],
         "yaxis": "y3"
        },
        {
         "name": "MSFT",
         "type": "scatter",
         "x": [
          "2023-09-01T00:00:00",
          "2023-09-05T00:00:00",
          "2023-09-06T00:00:00",
          "2023-09-07T00:00:00",
          "2023-09-08T00:00:00",
          "2023-09-11T00:00:00",
          "2023-09-12T00:00:00",
          "2023-09-13T00:00:00",
          "2023-09-14T00:00:00",
          "2023-09-15T00:00:00",
          "2023-09-18T00:00:00",
          "2023-09-19T00:00:00",
          "2023-09-20T00:00:00",
          "2023-09-21T00:00:00",
          "2023-09-22T00:00:00",
          "2023-09-25T00:00:00",
          "2023-09-26T00:00:00",
          "2023-09-27T00:00:00",
          "2023-09-28T00:00:00",
          "2023-09-29T00:00:00",
          "2023-10-02T00:00:00",
          "2023-10-03T00:00:00",
          "2023-10-04T00:00:00",
          "2023-10-05T00:00:00",
          "2023-10-06T00:00:00",
          "2023-10-09T00:00:00",
          "2023-10-10T00:00:00",
          "2023-10-11T00:00:00",
          "2023-10-12T00:00:00",
          "2023-10-13T00:00:00",
          "2023-10-16T00:00:00",
          "2023-10-17T00:00:00",
          "2023-10-18T00:00:00",
          "2023-10-19T00:00:00",
          "2023-10-20T00:00:00",
          "2023-10-23T00:00:00",
          "2023-10-24T00:00:00",
          "2023-10-25T00:00:00",
          "2023-10-26T00:00:00",
          "2023-10-27T00:00:00",
          "2023-10-30T00:00:00",
          "2023-10-31T00:00:00",
          "2023-11-01T00:00:00",
          "2023-11-02T00:00:00",
          "2023-11-03T00:00:00",
          "2023-11-06T00:00:00",
          "2023-11-07T00:00:00",
          "2023-11-08T00:00:00",
          "2023-11-09T00:00:00",
          "2023-11-10T00:00:00",
          "2023-11-13T00:00:00",
          "2023-11-14T00:00:00",
          "2023-11-15T00:00:00",
          "2023-11-16T00:00:00",
          "2023-11-17T00:00:00",
          "2023-11-20T00:00:00",
          "2023-11-21T00:00:00",
          "2023-11-22T00:00:00",
          "2023-11-24T00:00:00",
          "2023-11-27T00:00:00",
          "2023-11-28T00:00:00",
          "2023-11-29T00:00:00",
          "2023-11-30T00:00:00",
          "2023-12-01T00:00:00",
          "2023-12-04T00:00:00",
          "2023-12-05T00:00:00",
          "2023-12-06T00:00:00",
          "2023-12-07T00:00:00",
          "2023-12-08T00:00:00",
          "2023-12-11T00:00:00",
          "2023-12-12T00:00:00",
          "2023-12-13T00:00:00",
          "2023-12-14T00:00:00",
          "2023-12-15T00:00:00",
          "2023-12-18T00:00:00",
          "2023-12-19T00:00:00",
          "2023-12-20T00:00:00",
          "2023-12-21T00:00:00",
          "2023-12-22T00:00:00",
          "2023-12-26T00:00:00",
          "2023-12-27T00:00:00",
          "2023-12-28T00:00:00",
          "2023-12-29T00:00:00",
          "2024-01-02T00:00:00",
          "2024-01-03T00:00:00",
          "2024-01-04T00:00:00",
          "2024-01-05T00:00:00",
          "2024-01-08T00:00:00",
          "2024-01-09T00:00:00",
          "2024-01-10T00:00:00",
          "2024-01-11T00:00:00",
          "2024-01-12T00:00:00",
          "2024-01-16T00:00:00",
          "2024-01-17T00:00:00",
          "2024-01-18T00:00:00",
          "2024-01-19T00:00:00",
          "2024-01-22T00:00:00",
          "2024-01-23T00:00:00",
          "2024-01-24T00:00:00",
          "2024-01-25T00:00:00",
          "2024-01-26T00:00:00",
          "2024-01-29T00:00:00",
          "2024-01-30T00:00:00",
          "2024-01-31T00:00:00",
          "2024-02-01T00:00:00",
          "2024-02-02T00:00:00",
          "2024-02-05T00:00:00",
          "2024-02-06T00:00:00",
          "2024-02-07T00:00:00",
          "2024-02-08T00:00:00",
          "2024-02-09T00:00:00",
          "2024-02-12T00:00:00",
          "2024-02-13T00:00:00",
          "2024-02-14T00:00:00",
          "2024-02-15T00:00:00",
          "2024-02-16T00:00:00"
         ],
         "xaxis": "x4",
         "y": [
          328.6600036621094,
          333.54998779296875,
          332.8800048828125,
          329.9100036621094,
          334.2699890136719,
          337.94000244140625,
          331.7699890136719,
          336.05999755859375,
          338.70001220703125,
          330.2200012207031,
          329.05999755859375,
          328.6499938964844,
          320.7699890136719,
          319.5299987792969,
          317.010009765625,
          317.5400085449219,
          312.1400146484375,
          312.7900085449219,
          313.6400146484375,
          315.75,
          321.79998779296875,
          313.3900146484375,
          318.9599914550781,
          319.3599853515625,
          327.260009765625,
          329.82000732421875,
          328.3900146484375,
          332.4200134277344,
          331.1600036621094,
          327.7300109863281,
          332.6400146484375,
          332.05999755859375,
          330.1099853515625,
          331.32000732421875,
          326.6700134277344,
          329.32000732421875,
          330.5299987792969,
          340.6700134277344,
          327.8900146484375,
          329.80999755859375,
          337.30999755859375,
          338.1099853515625,
          346.07000732421875,
          348.32000732421875,
          352.79998779296875,
          356.5299987792969,
          360.5299987792969,
          363.20001220703125,
          360.69000244140625,
          369.6700134277344,
          366.67999267578125,
          370.2699890136719,
          369.6700134277344,
          376.1700134277344,
          369.8500061035156,
          377.44000244140625,
          373.07000732421875,
          377.8500061035156,
          377.42999267578125,
          378.6099853515625,
          382.70001220703125,
          378.8500061035156,
          378.9100036621094,
          374.510009765625,
          369.1400146484375,
          372.5199890136719,
          368.79998779296875,
          370.95001220703125,
          374.2300109863281,
          371.29998779296875,
          374.3800048828125,
          374.3699951171875,
          365.92999267578125,
          370.7300109863281,
          372.6499938964844,
          373.260009765625,
          370.6199951171875,
          373.5400085449219,
          374.5799865722656,
          374.6600036621094,
          374.07000732421875,
          375.2799987792969,
          376.0400085449219,
          370.8699951171875,
          370.6000061035156,
          367.94000244140625,
          367.75,
          374.69000244140625,
          375.7900085449219,
          382.7699890136719,
          384.6300048828125,
          388.4700012207031,
          390.2699890136719,
          389.4700012207031,
          393.8699951171875,
          398.6700134277344,
          396.510009765625,
          398.8999938964844,
          402.55999755859375,
          404.8699951171875,
          403.92999267578125,
          409.7200012207031,
          408.5899963378906,
          397.5799865722656,
          403.7799987792969,
          411.2200012207031,
          405.6499938964844,
          405.489990234375,
          414.04998779296875,
          414.1099853515625,
          420.54998779296875,
          415.260009765625,
          406.32000732421875,
          409.489990234375,
          406.55999755859375,
          404.05999755859375
         ],
         "yaxis": "y4"
        },
        {
         "name": "ORCL",
         "type": "scatter",
         "x": [
          "2023-09-01T00:00:00",
          "2023-09-05T00:00:00",
          "2023-09-06T00:00:00",
          "2023-09-07T00:00:00",
          "2023-09-08T00:00:00",
          "2023-09-11T00:00:00",
          "2023-09-12T00:00:00",
          "2023-09-13T00:00:00",
          "2023-09-14T00:00:00",
          "2023-09-15T00:00:00",
          "2023-09-18T00:00:00",
          "2023-09-19T00:00:00",
          "2023-09-20T00:00:00",
          "2023-09-21T00:00:00",
          "2023-09-22T00:00:00",
          "2023-09-25T00:00:00",
          "2023-09-26T00:00:00",
          "2023-09-27T00:00:00",
          "2023-09-28T00:00:00",
          "2023-09-29T00:00:00",
          "2023-10-02T00:00:00",
          "2023-10-03T00:00:00",
          "2023-10-04T00:00:00",
          "2023-10-05T00:00:00",
          "2023-10-06T00:00:00",
          "2023-10-09T00:00:00",
          "2023-10-10T00:00:00",
          "2023-10-11T00:00:00",
          "2023-10-12T00:00:00",
          "2023-10-13T00:00:00",
          "2023-10-16T00:00:00",
          "2023-10-17T00:00:00",
          "2023-10-18T00:00:00",
          "2023-10-19T00:00:00",
          "2023-10-20T00:00:00",
          "2023-10-23T00:00:00",
          "2023-10-24T00:00:00",
          "2023-10-25T00:00:00",
          "2023-10-26T00:00:00",
          "2023-10-27T00:00:00",
          "2023-10-30T00:00:00",
          "2023-10-31T00:00:00",
          "2023-11-01T00:00:00",
          "2023-11-02T00:00:00",
          "2023-11-03T00:00:00",
          "2023-11-06T00:00:00",
          "2023-11-07T00:00:00",
          "2023-11-08T00:00:00",
          "2023-11-09T00:00:00",
          "2023-11-10T00:00:00",
          "2023-11-13T00:00:00",
          "2023-11-14T00:00:00",
          "2023-11-15T00:00:00",
          "2023-11-16T00:00:00",
          "2023-11-17T00:00:00",
          "2023-11-20T00:00:00",
          "2023-11-21T00:00:00",
          "2023-11-22T00:00:00",
          "2023-11-24T00:00:00",
          "2023-11-27T00:00:00",
          "2023-11-28T00:00:00",
          "2023-11-29T00:00:00",
          "2023-11-30T00:00:00",
          "2023-12-01T00:00:00",
          "2023-12-04T00:00:00",
          "2023-12-05T00:00:00",
          "2023-12-06T00:00:00",
          "2023-12-07T00:00:00",
          "2023-12-08T00:00:00",
          "2023-12-11T00:00:00",
          "2023-12-12T00:00:00",
          "2023-12-13T00:00:00",
          "2023-12-14T00:00:00",
          "2023-12-15T00:00:00",
          "2023-12-18T00:00:00",
          "2023-12-19T00:00:00",
          "2023-12-20T00:00:00",
          "2023-12-21T00:00:00",
          "2023-12-22T00:00:00",
          "2023-12-26T00:00:00",
          "2023-12-27T00:00:00",
          "2023-12-28T00:00:00",
          "2023-12-29T00:00:00",
          "2024-01-02T00:00:00",
          "2024-01-03T00:00:00",
          "2024-01-04T00:00:00",
          "2024-01-05T00:00:00",
          "2024-01-08T00:00:00",
          "2024-01-09T00:00:00",
          "2024-01-10T00:00:00",
          "2024-01-11T00:00:00",
          "2024-01-12T00:00:00",
          "2024-01-16T00:00:00",
          "2024-01-17T00:00:00",
          "2024-01-18T00:00:00",
          "2024-01-19T00:00:00",
          "2024-01-22T00:00:00",
          "2024-01-23T00:00:00",
          "2024-01-24T00:00:00",
          "2024-01-25T00:00:00",
          "2024-01-26T00:00:00",
          "2024-01-29T00:00:00",
          "2024-01-30T00:00:00",
          "2024-01-31T00:00:00",
          "2024-02-01T00:00:00",
          "2024-02-02T00:00:00",
          "2024-02-05T00:00:00",
          "2024-02-06T00:00:00",
          "2024-02-07T00:00:00",
          "2024-02-08T00:00:00",
          "2024-02-09T00:00:00",
          "2024-02-12T00:00:00",
          "2024-02-13T00:00:00",
          "2024-02-14T00:00:00",
          "2024-02-15T00:00:00",
          "2024-02-16T00:00:00"
         ],
         "xaxis": "x5",
         "y": [
          120.93000030517578,
          123.9800033569336,
          124.33000183105469,
          125.08999633789062,
          126.31999969482422,
          126.70999908447266,
          109.61000061035156,
          111.83999633789062,
          113.66000366210938,
          113.91000366210938,
          112.20999908447266,
          112.7699966430664,
          112.87000274658203,
          109.43000030517578,
          109.02999877929688,
          108.30000305175781,
          104.87999725341797,
          104.62000274658203,
          106.1500015258789,
          105.91999816894531,
          106.70999908447266,
          104.5199966430664,
          107.08000183105469,
          108.3499984741211,
          109.95999908447266,
          110.31999969482422,
          109.70999908447266,
          109.63999938964844,
          109.11000061035156,
          108.25,
          108.70999908447266,
          109.04000091552734,
          108.25,
          108.33999633789062,
          101.8499984741211,
          103.66000366210938,
          103.19999694824219,
          101.43000030517578,
          100.4000015258789,
          100.98999786376953,
          101.6500015258789,
          103.4000015258789,
          105.75,
          106.87000274658203,
          108.05000305175781,
          109.11000061035156,
          108.98999786376953,
          112.33000183105469,
          112.18000030517578,
          113.06999969482422,
          114.1500015258789,
          116.0999984741211,
          114.05999755859375,
          114.66999816894531,
          115.36000061035156,
          116.91999816894531,
          116.08000183105469,
          116.23999786376953,
          116.25,
          116.47000122070312,
          116.23999786376953,
          116.20999908447266,
          116.20999908447266,
          117.16000366210938,
          115.77999877929688,
          114.52999877929688,
          112.02999877929688,
          112.87000274658203,
          113.61000061035156,
          115.12999725341797,
          100.80999755859375,
          102.98999786376953,
          100.30999755859375,
          103.31999969482422,
          105,
          106.25,
          104.1500015258789,
          105.86000061035156,
          106.19999694824219,
          106.19000244140625,
          105.94000244140625,
          106.25,
          105.43000030517578,
          104.05999755859375,
          102.45999908447266,
          102.58999633789062,
          102.7300033569336,
          104.66000366210938,
          103.62999725341797,
          103.91999816894531,
          104.7699966430664,
          106.5999984741211,
          106.56999969482422,
          106.43000030517578,
          108.69999694824219,
          109.66999816894531,
          110.0999984741211,
          111.83000183105469,
          114.30999755859375,
          115,
          114.63999938964844,
          113.75,
          114.16000366210938,
          111.69999694824219,
          115.52999877929688,
          115.79000091552734,
          116.38999938964844,
          115.30000305175781,
          117.2699966430664,
          116.68000030517578,
          116.63999938964844,
          115.83999633789062,
          113.68000030517578,
          114.26000213623047,
          112.77999877929688,
          111.30999755859375
         ],
         "yaxis": "y5"
        },
        {
         "name": "SAP",
         "type": "scatter",
         "x": [
          "2023-09-01T00:00:00",
          "2023-09-05T00:00:00",
          "2023-09-06T00:00:00",
          "2023-09-07T00:00:00",
          "2023-09-08T00:00:00",
          "2023-09-11T00:00:00",
          "2023-09-12T00:00:00",
          "2023-09-13T00:00:00",
          "2023-09-14T00:00:00",
          "2023-09-15T00:00:00",
          "2023-09-18T00:00:00",
          "2023-09-19T00:00:00",
          "2023-09-20T00:00:00",
          "2023-09-21T00:00:00",
          "2023-09-22T00:00:00",
          "2023-09-25T00:00:00",
          "2023-09-26T00:00:00",
          "2023-09-27T00:00:00",
          "2023-09-28T00:00:00",
          "2023-09-29T00:00:00",
          "2023-10-02T00:00:00",
          "2023-10-03T00:00:00",
          "2023-10-04T00:00:00",
          "2023-10-05T00:00:00",
          "2023-10-06T00:00:00",
          "2023-10-09T00:00:00",
          "2023-10-10T00:00:00",
          "2023-10-11T00:00:00",
          "2023-10-12T00:00:00",
          "2023-10-13T00:00:00",
          "2023-10-16T00:00:00",
          "2023-10-17T00:00:00",
          "2023-10-18T00:00:00",
          "2023-10-19T00:00:00",
          "2023-10-20T00:00:00",
          "2023-10-23T00:00:00",
          "2023-10-24T00:00:00",
          "2023-10-25T00:00:00",
          "2023-10-26T00:00:00",
          "2023-10-27T00:00:00",
          "2023-10-30T00:00:00",
          "2023-10-31T00:00:00",
          "2023-11-01T00:00:00",
          "2023-11-02T00:00:00",
          "2023-11-03T00:00:00",
          "2023-11-06T00:00:00",
          "2023-11-07T00:00:00",
          "2023-11-08T00:00:00",
          "2023-11-09T00:00:00",
          "2023-11-10T00:00:00",
          "2023-11-13T00:00:00",
          "2023-11-14T00:00:00",
          "2023-11-15T00:00:00",
          "2023-11-16T00:00:00",
          "2023-11-17T00:00:00",
          "2023-11-20T00:00:00",
          "2023-11-21T00:00:00",
          "2023-11-22T00:00:00",
          "2023-11-24T00:00:00",
          "2023-11-27T00:00:00",
          "2023-11-28T00:00:00",
          "2023-11-29T00:00:00",
          "2023-11-30T00:00:00",
          "2023-12-01T00:00:00",
          "2023-12-04T00:00:00",
          "2023-12-05T00:00:00",
          "2023-12-06T00:00:00",
          "2023-12-07T00:00:00",
          "2023-12-08T00:00:00",
          "2023-12-11T00:00:00",
          "2023-12-12T00:00:00",
          "2023-12-13T00:00:00",
          "2023-12-14T00:00:00",
          "2023-12-15T00:00:00",
          "2023-12-18T00:00:00",
          "2023-12-19T00:00:00",
          "2023-12-20T00:00:00",
          "2023-12-21T00:00:00",
          "2023-12-22T00:00:00",
          "2023-12-26T00:00:00",
          "2023-12-27T00:00:00",
          "2023-12-28T00:00:00",
          "2023-12-29T00:00:00",
          "2024-01-02T00:00:00",
          "2024-01-03T00:00:00",
          "2024-01-04T00:00:00",
          "2024-01-05T00:00:00",
          "2024-01-08T00:00:00",
          "2024-01-09T00:00:00",
          "2024-01-10T00:00:00",
          "2024-01-11T00:00:00",
          "2024-01-12T00:00:00",
          "2024-01-16T00:00:00",
          "2024-01-17T00:00:00",
          "2024-01-18T00:00:00",
          "2024-01-19T00:00:00",
          "2024-01-22T00:00:00",
          "2024-01-23T00:00:00",
          "2024-01-24T00:00:00",
          "2024-01-25T00:00:00",
          "2024-01-26T00:00:00",
          "2024-01-29T00:00:00",
          "2024-01-30T00:00:00",
          "2024-01-31T00:00:00",
          "2024-02-01T00:00:00",
          "2024-02-02T00:00:00",
          "2024-02-05T00:00:00",
          "2024-02-06T00:00:00",
          "2024-02-07T00:00:00",
          "2024-02-08T00:00:00",
          "2024-02-09T00:00:00",
          "2024-02-12T00:00:00",
          "2024-02-13T00:00:00",
          "2024-02-14T00:00:00",
          "2024-02-15T00:00:00",
          "2024-02-16T00:00:00"
         ],
         "xaxis": "x6",
         "y": [
          138.19000244140625,
          137.6699981689453,
          138.74000549316406,
          139.9499969482422,
          140.4600067138672,
          139.1699981689453,
          135.25,
          135.75,
          135.99000549316406,
          135.24000549316406,
          135.24000549316406,
          134.6999969482422,
          133.52999877929688,
          131.16000366210938,
          132.64999389648438,
          131.9499969482422,
          127.18000030517578,
          127.68000030517578,
          127.94999694824219,
          129.32000732421875,
          128.55999755859375,
          127.94000244140625,
          128.92999267578125,
          129.55999755859375,
          130.9199981689453,
          129.91000366210938,
          131.1999969482422,
          132.38999938964844,
          131.66000366210938,
          128.7899932861328,
          130.6999969482422,
          130.49000549316406,
          127.61000061035156,
          133.3800048828125,
          130.6999969482422,
          132.1999969482422,
          133.6699981689453,
          130.7100067138672,
          131.22000122070312,
          131.38999938964844,
          133.64999389648438,
          134,
          136.0800018310547,
          138.5800018310547,
          138.97999572753906,
          138.5500030517578,
          140.66000366210938,
          142.1699981689453,
          142.4499969482422,
          145.10000610351562,
          145.02999877929688,
          147.66000366210938,
          148.52000427246094,
          148.58999633789062,
          149.9499969482422,
          153.3000030517578,
          152.5,
          153.16000366210938,
          154.19000244140625,
          154.94000244140625,
          156.3000030517578,
          158.6300048828125,
          159.1199951171875,
          160.08999633789062,
          159.27000427246094,
          159.36000061035156,
          158.10000610351562,
          159.33999633789062,
          160.16000366210938,
          159.1300048828125,
          158.25999450683594,
          159.77000427246094,
          156.00999450683594,
          153.5,
          154.89999389648438,
          155.0800018310547,
          151.13999938964844,
          152.17999267578125,
          152.6999969482422,
          153.17999267578125,
          155.89999389648438,
          154.3300018310547,
          154.58999633789062,
          150.2100067138672,
          149.7899932861328,
          148.52000427246094,
          149.85000610351562,
          152.55999755859375,
          152.14999389648438,
          155.83999633789062,
          156.50999450683594,
          158.5399932861328,
          156.82000732421875,
          157.77999877929688,
          160.42999267578125,
          163.4499969482422,
          163.2100067138672,
          163.3800048828125,
          174.61000061035156,
          173.44000244140625,
          173.67999267578125,
          176.33999633789062,
          175.72999572753906,
          173.10000610351562,
          177.22000122070312,
          177.05999755859375,
          177.0399932861328,
          178.7899932861328,
          181.17999267578125,
          181.16000366210938,
          181.5500030517578,
          179.38999938964844,
          173.97999572753906,
          177.47000122070312,
          177.60000610351562,
          176.91000366210938
         ],
         "yaxis": "y6"
        }
       ],
       "layout": {
        "annotations": [
         {
          "font": {
           "size": 16
          },
          "showarrow": false,
          "text": "AMZN",
          "x": 0.5,
          "xanchor": "center",
          "xref": "paper",
          "y": 1,
          "yanchor": "bottom",
          "yref": "paper"
         },
         {
          "font": {
           "size": 16
          },
          "showarrow": false,
          "text": "GOOG",
          "x": 0.5,
          "xanchor": "center",
          "xref": "paper",
          "y": 0.8283333333333334,
          "yanchor": "bottom",
          "yref": "paper"
         },
         {
          "font": {
           "size": 16
          },
          "showarrow": false,
          "text": "IBM",
          "x": 0.5,
          "xanchor": "center",
          "xref": "paper",
          "y": 0.6566666666666667,
          "yanchor": "bottom",
          "yref": "paper"
         },
         {
          "font": {
           "size": 16
          },
          "showarrow": false,
          "text": "MSFT",
          "x": 0.5,
          "xanchor": "center",
          "xref": "paper",
          "y": 0.485,
          "yanchor": "bottom",
          "yref": "paper"
         },
         {
          "font": {
           "size": 16
          },
          "showarrow": false,
          "text": "ORCL",
          "x": 0.5,
          "xanchor": "center",
          "xref": "paper",
          "y": 0.31333333333333335,
          "yanchor": "bottom",
          "yref": "paper"
         },
         {
          "font": {
           "size": 16
          },
          "showarrow": false,
          "text": "SAP",
          "x": 0.5,
          "xanchor": "center",
          "xref": "paper",
          "y": 0.14166666666666666,
          "yanchor": "bottom",
          "yref": "paper"
         }
        ],
        "height": 3000,
        "template": {
         "data": {
          "bar": [
           {
            "error_x": {
             "color": "#2a3f5f"
            },
            "error_y": {
             "color": "#2a3f5f"
            },
            "marker": {
             "line": {
              "color": "#E5ECF6",
              "width": 0.5
             },
             "pattern": {
              "fillmode": "overlay",
              "size": 10,
              "solidity": 0.2
             }
            },
            "type": "bar"
           }
          ],
          "barpolar": [
           {
            "marker": {
             "line": {
              "color": "#E5ECF6",
              "width": 0.5
             },
             "pattern": {
              "fillmode": "overlay",
              "size": 10,
              "solidity": 0.2
             }
            },
            "type": "barpolar"
           }
          ],
          "carpet": [
           {
            "aaxis": {
             "endlinecolor": "#2a3f5f",
             "gridcolor": "white",
             "linecolor": "white",
             "minorgridcolor": "white",
             "startlinecolor": "#2a3f5f"
            },
            "baxis": {
             "endlinecolor": "#2a3f5f",
             "gridcolor": "white",
             "linecolor": "white",
             "minorgridcolor": "white",
             "startlinecolor": "#2a3f5f"
            },
            "type": "carpet"
           }
          ],
          "choropleth": [
           {
            "colorbar": {
             "outlinewidth": 0,
             "ticks": ""
            },
            "type": "choropleth"
           }
          ],
          "contour": [
           {
            "colorbar": {
             "outlinewidth": 0,
             "ticks": ""
            },
            "colorscale": [
             [
              0,
              "#0d0887"
             ],
             [
              0.1111111111111111,
              "#46039f"
             ],
             [
              0.2222222222222222,
              "#7201a8"
             ],
             [
              0.3333333333333333,
              "#9c179e"
             ],
             [
              0.4444444444444444,
              "#bd3786"
             ],
             [
              0.5555555555555556,
              "#d8576b"
             ],
             [
              0.6666666666666666,
              "#ed7953"
             ],
             [
              0.7777777777777778,
              "#fb9f3a"
             ],
             [
              0.8888888888888888,
              "#fdca26"
             ],
             [
              1,
              "#f0f921"
             ]
            ],
            "type": "contour"
           }
          ],
          "contourcarpet": [
           {
            "colorbar": {
             "outlinewidth": 0,
             "ticks": ""
            },
            "type": "contourcarpet"
           }
          ],
          "heatmap": [
           {
            "colorbar": {
             "outlinewidth": 0,
             "ticks": ""
            },
            "colorscale": [
             [
              0,
              "#0d0887"
             ],
             [
              0.1111111111111111,
              "#46039f"
             ],
             [
              0.2222222222222222,
              "#7201a8"
             ],
             [
              0.3333333333333333,
              "#9c179e"
             ],
             [
              0.4444444444444444,
              "#bd3786"
             ],
             [
              0.5555555555555556,
              "#d8576b"
             ],
             [
              0.6666666666666666,
              "#ed7953"
             ],
             [
              0.7777777777777778,
              "#fb9f3a"
             ],
             [
              0.8888888888888888,
              "#fdca26"
             ],
             [
              1,
              "#f0f921"
             ]
            ],
            "type": "heatmap"
           }
          ],
          "heatmapgl": [
           {
            "colorbar": {
             "outlinewidth": 0,
             "ticks": ""
            },
            "colorscale": [
             [
              0,
              "#0d0887"
             ],
             [
              0.1111111111111111,
              "#46039f"
             ],
             [
              0.2222222222222222,
              "#7201a8"
             ],
             [
              0.3333333333333333,
              "#9c179e"
             ],
             [
              0.4444444444444444,
              "#bd3786"
             ],
             [
              0.5555555555555556,
              "#d8576b"
             ],
             [
              0.6666666666666666,
              "#ed7953"
             ],
             [
              0.7777777777777778,
              "#fb9f3a"
             ],
             [
              0.8888888888888888,
              "#fdca26"
             ],
             [
              1,
              "#f0f921"
             ]
            ],
            "type": "heatmapgl"
           }
          ],
          "histogram": [
           {
            "marker": {
             "pattern": {
              "fillmode": "overlay",
              "size": 10,
              "solidity": 0.2
             }
            },
            "type": "histogram"
           }
          ],
          "histogram2d": [
           {
            "colorbar": {
             "outlinewidth": 0,
             "ticks": ""
            },
            "colorscale": [
             [
              0,
              "#0d0887"
             ],
             [
              0.1111111111111111,
              "#46039f"
             ],
             [
              0.2222222222222222,
              "#7201a8"
             ],
             [
              0.3333333333333333,
              "#9c179e"
             ],
             [
              0.4444444444444444,
              "#bd3786"
             ],
             [
              0.5555555555555556,
              "#d8576b"
             ],
             [
              0.6666666666666666,
              "#ed7953"
             ],
             [
              0.7777777777777778,
              "#fb9f3a"
             ],
             [
              0.8888888888888888,
              "#fdca26"
             ],
             [
              1,
              "#f0f921"
             ]
            ],
            "type": "histogram2d"
           }
          ],
          "histogram2dcontour": [
           {
            "colorbar": {
             "outlinewidth": 0,
             "ticks": ""
            },
            "colorscale": [
             [
              0,
              "#0d0887"
             ],
             [
              0.1111111111111111,
              "#46039f"
             ],
             [
              0.2222222222222222,
              "#7201a8"
             ],
             [
              0.3333333333333333,
              "#9c179e"
             ],
             [
              0.4444444444444444,
              "#bd3786"
             ],
             [
              0.5555555555555556,
              "#d8576b"
             ],
             [
              0.6666666666666666,
              "#ed7953"
             ],
             [
              0.7777777777777778,
              "#fb9f3a"
             ],
             [
              0.8888888888888888,
              "#fdca26"
             ],
             [
              1,
              "#f0f921"
             ]
            ],
            "type": "histogram2dcontour"
           }
          ],
          "mesh3d": [
           {
            "colorbar": {
             "outlinewidth": 0,
             "ticks": ""
            },
            "type": "mesh3d"
           }
          ],
          "parcoords": [
           {
            "line": {
             "colorbar": {
              "outlinewidth": 0,
              "ticks": ""
             }
            },
            "type": "parcoords"
           }
          ],
          "pie": [
           {
            "automargin": true,
            "type": "pie"
           }
          ],
          "scatter": [
           {
            "fillpattern": {
             "fillmode": "overlay",
             "size": 10,
             "solidity": 0.2
            },
            "type": "scatter"
           }
          ],
          "scatter3d": [
           {
            "line": {
             "colorbar": {
              "outlinewidth": 0,
              "ticks": ""
             }
            },
            "marker": {
             "colorbar": {
              "outlinewidth": 0,
              "ticks": ""
             }
            },
            "type": "scatter3d"
           }
          ],
          "scattercarpet": [
           {
            "marker": {
             "colorbar": {
              "outlinewidth": 0,
              "ticks": ""
             }
            },
            "type": "scattercarpet"
           }
          ],
          "scattergeo": [
           {
            "marker": {
             "colorbar": {
              "outlinewidth": 0,
              "ticks": ""
             }
            },
            "type": "scattergeo"
           }
          ],
          "scattergl": [
           {
            "marker": {
             "colorbar": {
              "outlinewidth": 0,
              "ticks": ""
             }
            },
            "type": "scattergl"
           }
          ],
          "scattermapbox": [
           {
            "marker": {
             "colorbar": {
              "outlinewidth": 0,
              "ticks": ""
             }
            },
            "type": "scattermapbox"
           }
          ],
          "scatterpolar": [
           {
            "marker": {
             "colorbar": {
              "outlinewidth": 0,
              "ticks": ""
             }
            },
            "type": "scatterpolar"
           }
          ],
          "scatterpolargl": [
           {
            "marker": {
             "colorbar": {
              "outlinewidth": 0,
              "ticks": ""
             }
            },
            "type": "scatterpolargl"
           }
          ],
          "scatterternary": [
           {
            "marker": {
             "colorbar": {
              "outlinewidth": 0,
              "ticks": ""
             }
            },
            "type": "scatterternary"
           }
          ],
          "surface": [
           {
            "colorbar": {
             "outlinewidth": 0,
             "ticks": ""
            },
            "colorscale": [
             [
              0,
              "#0d0887"
             ],
             [
              0.1111111111111111,
              "#46039f"
             ],
             [
              0.2222222222222222,
              "#7201a8"
             ],
             [
              0.3333333333333333,
              "#9c179e"
             ],
             [
              0.4444444444444444,
              "#bd3786"
             ],
             [
              0.5555555555555556,
              "#d8576b"
             ],
             [
              0.6666666666666666,
              "#ed7953"
             ],
             [
              0.7777777777777778,
              "#fb9f3a"
             ],
             [
              0.8888888888888888,
              "#fdca26"
             ],
             [
              1,
              "#f0f921"
             ]
            ],
            "type": "surface"
           }
          ],
          "table": [
           {
            "cells": {
             "fill": {
              "color": "#EBF0F8"
             },
             "line": {
              "color": "white"
             }
            },
            "header": {
             "fill": {
              "color": "#C8D4E3"
             },
             "line": {
              "color": "white"
             }
            },
            "type": "table"
           }
          ]
         },
         "layout": {
          "annotationdefaults": {
           "arrowcolor": "#2a3f5f",
           "arrowhead": 0,
           "arrowwidth": 1
          },
          "autotypenumbers": "strict",
          "coloraxis": {
           "colorbar": {
            "outlinewidth": 0,
            "ticks": ""
           }
          },
          "colorscale": {
           "diverging": [
            [
             0,
             "#8e0152"
            ],
            [
             0.1,
             "#c51b7d"
            ],
            [
             0.2,
             "#de77ae"
            ],
            [
             0.3,
             "#f1b6da"
            ],
            [
             0.4,
             "#fde0ef"
            ],
            [
             0.5,
             "#f7f7f7"
            ],
            [
             0.6,
             "#e6f5d0"
            ],
            [
             0.7,
             "#b8e186"
            ],
            [
             0.8,
             "#7fbc41"
            ],
            [
             0.9,
             "#4d9221"
            ],
            [
             1,
             "#276419"
            ]
           ],
           "sequential": [
            [
             0,
             "#0d0887"
            ],
            [
             0.1111111111111111,
             "#46039f"
            ],
            [
             0.2222222222222222,
             "#7201a8"
            ],
            [
             0.3333333333333333,
             "#9c179e"
            ],
            [
             0.4444444444444444,
             "#bd3786"
            ],
            [
             0.5555555555555556,
             "#d8576b"
            ],
            [
             0.6666666666666666,
             "#ed7953"
            ],
            [
             0.7777777777777778,
             "#fb9f3a"
            ],
            [
             0.8888888888888888,
             "#fdca26"
            ],
            [
             1,
             "#f0f921"
            ]
           ],
           "sequentialminus": [
            [
             0,
             "#0d0887"
            ],
            [
             0.1111111111111111,
             "#46039f"
            ],
            [
             0.2222222222222222,
             "#7201a8"
            ],
            [
             0.3333333333333333,
             "#9c179e"
            ],
            [
             0.4444444444444444,
             "#bd3786"
            ],
            [
             0.5555555555555556,
             "#d8576b"
            ],
            [
             0.6666666666666666,
             "#ed7953"
            ],
            [
             0.7777777777777778,
             "#fb9f3a"
            ],
            [
             0.8888888888888888,
             "#fdca26"
            ],
            [
             1,
             "#f0f921"
            ]
           ]
          },
          "colorway": [
           "#636efa",
           "#EF553B",
           "#00cc96",
           "#ab63fa",
           "#FFA15A",
           "#19d3f3",
           "#FF6692",
           "#B6E880",
           "#FF97FF",
           "#FECB52"
          ],
          "font": {
           "color": "#2a3f5f"
          },
          "geo": {
           "bgcolor": "white",
           "lakecolor": "white",
           "landcolor": "#E5ECF6",
           "showlakes": true,
           "showland": true,
           "subunitcolor": "white"
          },
          "hoverlabel": {
           "align": "left"
          },
          "hovermode": "closest",
          "mapbox": {
           "style": "light"
          },
          "paper_bgcolor": "white",
          "plot_bgcolor": "#E5ECF6",
          "polar": {
           "angularaxis": {
            "gridcolor": "white",
            "linecolor": "white",
            "ticks": ""
           },
           "bgcolor": "#E5ECF6",
           "radialaxis": {
            "gridcolor": "white",
            "linecolor": "white",
            "ticks": ""
           }
          },
          "scene": {
           "xaxis": {
            "backgroundcolor": "#E5ECF6",
            "gridcolor": "white",
            "gridwidth": 2,
            "linecolor": "white",
            "showbackground": true,
            "ticks": "",
            "zerolinecolor": "white"
           },
           "yaxis": {
            "backgroundcolor": "#E5ECF6",
            "gridcolor": "white",
            "gridwidth": 2,
            "linecolor": "white",
            "showbackground": true,
            "ticks": "",
            "zerolinecolor": "white"
           },
           "zaxis": {
            "backgroundcolor": "#E5ECF6",
            "gridcolor": "white",
            "gridwidth": 2,
            "linecolor": "white",
            "showbackground": true,
            "ticks": "",
            "zerolinecolor": "white"
           }
          },
          "shapedefaults": {
           "line": {
            "color": "#2a3f5f"
           }
          },
          "ternary": {
           "aaxis": {
            "gridcolor": "white",
            "linecolor": "white",
            "ticks": ""
           },
           "baxis": {
            "gridcolor": "white",
            "linecolor": "white",
            "ticks": ""
           },
           "bgcolor": "#E5ECF6",
           "caxis": {
            "gridcolor": "white",
            "linecolor": "white",
            "ticks": ""
           }
          },
          "title": {
           "x": 0.05
          },
          "xaxis": {
           "automargin": true,
           "gridcolor": "white",
           "linecolor": "white",
           "ticks": "",
           "title": {
            "standoff": 15
           },
           "zerolinecolor": "white",
           "zerolinewidth": 2
          },
          "yaxis": {
           "automargin": true,
           "gridcolor": "white",
           "linecolor": "white",
           "ticks": "",
           "title": {
            "standoff": 15
           },
           "zerolinecolor": "white",
           "zerolinewidth": 2
          }
         }
        },
        "width": 1800,
        "xaxis": {
         "anchor": "y",
         "domain": [
          0,
          1
         ],
         "matches": "x6",
         "showticklabels": false
        },
        "xaxis2": {
         "anchor": "y2",
         "domain": [
          0,
          1
         ],
         "matches": "x6",
         "showticklabels": false
        },
        "xaxis3": {
         "anchor": "y3",
         "domain": [
          0,
          1
         ],
         "matches": "x6",
         "showticklabels": false
        },
        "xaxis4": {
         "anchor": "y4",
         "domain": [
          0,
          1
         ],
         "matches": "x6",
         "showticklabels": false
        },
        "xaxis5": {
         "anchor": "y5",
         "domain": [
          0,
          1
         ],
         "matches": "x6",
         "showticklabels": false
        },
        "xaxis6": {
         "anchor": "y6",
         "domain": [
          0,
          1
         ]
        },
        "yaxis": {
         "anchor": "x",
         "domain": [
          0.8583333333333333,
          1
         ]
        },
        "yaxis2": {
         "anchor": "x2",
         "domain": [
          0.6866666666666666,
          0.8283333333333334
         ]
        },
        "yaxis3": {
         "anchor": "x3",
         "domain": [
          0.515,
          0.6566666666666667
         ]
        },
        "yaxis4": {
         "anchor": "x4",
         "domain": [
          0.3433333333333333,
          0.485
         ]
        },
        "yaxis5": {
         "anchor": "x5",
         "domain": [
          0.17166666666666666,
          0.31333333333333335
         ]
        },
        "yaxis6": {
         "anchor": "x6",
         "domain": [
          0,
          0.14166666666666666
         ]
        }
       }
      }
     },
     "metadata": {},
     "output_type": "display_data"
    }
   ],
   "source": [
    "#Muestra el precio de las acciones consultadas con sus tickets en YahooFinance\n",
    "fig = make_subplots(rows=6, cols=1, shared_xaxes=True, subplot_titles=list(data_yf_stock_close.columns), vertical_spacing = 0.03)\n",
    "for row, ticker_stock in enumerate(list(data_yf_stock_close.columns)):\n",
    "    fig.add_trace(go.Scatter(x=data_yf_stock_close.index , y=data_yf_stock_close[ticker_stock], name=ticker_stock), row=row+1, col=1)\n",
    "#+fig.update_layout(title='Precio de acciones AMZN', xaxis_title='Fecha', yaxis_title='Precio')\n",
    "fig.update_layout(height=3000, width=1800)\n",
    "fig.show()"
   ]
  },
  {
   "cell_type": "code",
   "execution_count": 189,
   "metadata": {},
   "outputs": [
    {
     "name": "stderr",
     "output_type": "stream",
     "text": [
      "[*********************100%%**********************]  1 of 1 completed\n"
     ]
    },
    {
     "data": {
      "application/vnd.plotly.v1+json": {
       "config": {
        "plotlyServerURL": "https://plot.ly"
       },
       "data": [
        {
         "mode": "lines+markers",
         "name": "SAP.DE",
         "type": "scatter",
         "x": [
          "2023-09-01T00:00:00",
          "2023-09-04T00:00:00",
          "2023-09-05T00:00:00",
          "2023-09-06T00:00:00",
          "2023-09-07T00:00:00",
          "2023-09-08T00:00:00",
          "2023-09-11T00:00:00",
          "2023-09-12T00:00:00",
          "2023-09-13T00:00:00",
          "2023-09-14T00:00:00",
          "2023-09-15T00:00:00",
          "2023-09-18T00:00:00",
          "2023-09-19T00:00:00",
          "2023-09-20T00:00:00",
          "2023-09-21T00:00:00",
          "2023-09-22T00:00:00",
          "2023-09-25T00:00:00",
          "2023-09-26T00:00:00",
          "2023-09-27T00:00:00",
          "2023-09-28T00:00:00",
          "2023-09-29T00:00:00",
          "2023-10-02T00:00:00",
          "2023-10-03T00:00:00",
          "2023-10-04T00:00:00",
          "2023-10-05T00:00:00",
          "2023-10-06T00:00:00",
          "2023-10-09T00:00:00",
          "2023-10-10T00:00:00",
          "2023-10-11T00:00:00",
          "2023-10-12T00:00:00",
          "2023-10-13T00:00:00",
          "2023-10-16T00:00:00",
          "2023-10-17T00:00:00",
          "2023-10-18T00:00:00",
          "2023-10-19T00:00:00",
          "2023-10-20T00:00:00",
          "2023-10-23T00:00:00",
          "2023-10-24T00:00:00",
          "2023-10-25T00:00:00",
          "2023-10-26T00:00:00",
          "2023-10-27T00:00:00",
          "2023-10-30T00:00:00",
          "2023-10-31T00:00:00",
          "2023-11-01T00:00:00",
          "2023-11-02T00:00:00",
          "2023-11-03T00:00:00",
          "2023-11-06T00:00:00",
          "2023-11-07T00:00:00",
          "2023-11-08T00:00:00",
          "2023-11-09T00:00:00",
          "2023-11-10T00:00:00",
          "2023-11-13T00:00:00",
          "2023-11-14T00:00:00",
          "2023-11-15T00:00:00",
          "2023-11-16T00:00:00",
          "2023-11-17T00:00:00",
          "2023-11-20T00:00:00",
          "2023-11-21T00:00:00",
          "2023-11-22T00:00:00",
          "2023-11-23T00:00:00",
          "2023-11-24T00:00:00",
          "2023-11-27T00:00:00",
          "2023-11-28T00:00:00",
          "2023-11-29T00:00:00",
          "2023-11-30T00:00:00",
          "2023-12-01T00:00:00",
          "2023-12-04T00:00:00",
          "2023-12-05T00:00:00",
          "2023-12-06T00:00:00",
          "2023-12-07T00:00:00",
          "2023-12-08T00:00:00",
          "2023-12-11T00:00:00",
          "2023-12-12T00:00:00",
          "2023-12-13T00:00:00",
          "2023-12-14T00:00:00",
          "2023-12-15T00:00:00",
          "2023-12-18T00:00:00",
          "2023-12-19T00:00:00",
          "2023-12-20T00:00:00",
          "2023-12-21T00:00:00",
          "2023-12-22T00:00:00",
          "2023-12-27T00:00:00",
          "2023-12-28T00:00:00",
          "2023-12-29T00:00:00",
          "2024-01-02T00:00:00",
          "2024-01-03T00:00:00",
          "2024-01-04T00:00:00",
          "2024-01-05T00:00:00",
          "2024-01-08T00:00:00",
          "2024-01-09T00:00:00",
          "2024-01-10T00:00:00",
          "2024-01-11T00:00:00",
          "2024-01-12T00:00:00",
          "2024-01-15T00:00:00",
          "2024-01-16T00:00:00",
          "2024-01-17T00:00:00",
          "2024-01-18T00:00:00",
          "2024-01-19T00:00:00",
          "2024-01-22T00:00:00",
          "2024-01-23T00:00:00",
          "2024-01-24T00:00:00",
          "2024-01-25T00:00:00",
          "2024-01-26T00:00:00",
          "2024-01-29T00:00:00",
          "2024-01-30T00:00:00",
          "2024-01-31T00:00:00",
          "2024-02-01T00:00:00",
          "2024-02-02T00:00:00",
          "2024-02-05T00:00:00",
          "2024-02-06T00:00:00",
          "2024-02-07T00:00:00",
          "2024-02-08T00:00:00",
          "2024-02-09T00:00:00",
          "2024-02-12T00:00:00",
          "2024-02-13T00:00:00",
          "2024-02-14T00:00:00",
          "2024-02-15T00:00:00",
          "2024-02-16T00:00:00"
         ],
         "y": [
          128.1999969482422,
          128,
          128.25999450683594,
          128.9600067138672,
          130.25999450683594,
          131.47999572753906,
          128.89999389648438,
          126.5999984741211,
          126.54000091552734,
          127.4000015258789,
          127.22000122070312,
          126.68000030517578,
          125.81999969482422,
          125.45999908447266,
          124.04000091552734,
          125.05999755859375,
          124.41999816894531,
          120.9800033569336,
          121.26000213623047,
          121.4800033569336,
          122.81999969482422,
          122.86000061035156,
          122.30000305175781,
          122,
          122.13999938964844,
          123.55999755859375,
          122.23999786376953,
          124.16000366210938,
          124.83999633789062,
          125.63999938964844,
          122.18000030517578,
          122.66000366210938,
          123.31999969482422,
          121.13999938964844,
          127.27999877929688,
          123.91999816894531,
          123.91999816894531,
          125.76000213623047,
          125,
          124.77999877929688,
          125.0199966430664,
          125.5999984741211,
          126.73999786376953,
          127.81999969482422,
          130.1199951171875,
          129.27999877929688,
          128.72000122070312,
          131.75999450683594,
          133.17999267578125,
          134.72000122070312,
          134.86000061035156,
          135.4199981689453,
          136.25999450683594,
          137.25999450683594,
          136.44000244140625,
          137.22000122070312,
          139.9199981689453,
          139.44000244140625,
          141.16000366210938,
          142.5,
          141.0800018310547,
          141.60000610351562,
          142.5399932861328,
          144.5399932861328,
          145.47999572753906,
          146.6999969482422,
          146.32000732421875,
          147.13999938964844,
          147.13999938964844,
          147.10000610351562,
          148.17999267578125,
          147.33999633789062,
          147.32000732421875,
          146.5,
          142.5399932861328,
          141.47999572753906,
          141.1999969482422,
          141.25999450683594,
          139.1999969482422,
          137.5800018310547,
          138.24000549316406,
          139.83999633789062,
          139.63999938964844,
          139.47999572753906,
          137.33999633789062,
          137.1199951171875,
          136.44000244140625,
          137.0800018310547,
          138.77999877929688,
          139.27999877929688,
          142.0399932861328,
          141.8800048828125,
          144.86000061035156,
          144.55999755859375,
          144.5800018310547,
          144.82000732421875,
          147.25999450683594,
          148.8800048828125,
          150.33999633789062,
          149.36000061035156,
          160.75999450683594,
          160.75999450683594,
          160,
          162,
          162.4199981689453,
          160.8000030517578,
          162.3000030517578,
          163.63999938964844,
          164.52000427246094,
          166.39999389648438,
          168,
          168,
          168.32000732421875,
          167.75999450683594,
          162.75999450683594,
          164.8800048828125,
          164.3800048828125,
          165.0800018310547
         ]
        },
        {
         "mode": "lines",
         "name": "Media",
         "type": "scatter",
         "x": [
          "2023-09-01T00:00:00",
          "2023-09-04T00:00:00",
          "2023-09-05T00:00:00",
          "2023-09-06T00:00:00",
          "2023-09-07T00:00:00",
          "2023-09-08T00:00:00",
          "2023-09-11T00:00:00",
          "2023-09-12T00:00:00",
          "2023-09-13T00:00:00",
          "2023-09-14T00:00:00",
          "2023-09-15T00:00:00",
          "2023-09-18T00:00:00",
          "2023-09-19T00:00:00",
          "2023-09-20T00:00:00",
          "2023-09-21T00:00:00",
          "2023-09-22T00:00:00",
          "2023-09-25T00:00:00",
          "2023-09-26T00:00:00",
          "2023-09-27T00:00:00",
          "2023-09-28T00:00:00",
          "2023-09-29T00:00:00",
          "2023-10-02T00:00:00",
          "2023-10-03T00:00:00",
          "2023-10-04T00:00:00",
          "2023-10-05T00:00:00",
          "2023-10-06T00:00:00",
          "2023-10-09T00:00:00",
          "2023-10-10T00:00:00",
          "2023-10-11T00:00:00",
          "2023-10-12T00:00:00",
          "2023-10-13T00:00:00",
          "2023-10-16T00:00:00",
          "2023-10-17T00:00:00",
          "2023-10-18T00:00:00",
          "2023-10-19T00:00:00",
          "2023-10-20T00:00:00",
          "2023-10-23T00:00:00",
          "2023-10-24T00:00:00",
          "2023-10-25T00:00:00",
          "2023-10-26T00:00:00",
          "2023-10-27T00:00:00",
          "2023-10-30T00:00:00",
          "2023-10-31T00:00:00",
          "2023-11-01T00:00:00",
          "2023-11-02T00:00:00",
          "2023-11-03T00:00:00",
          "2023-11-06T00:00:00",
          "2023-11-07T00:00:00",
          "2023-11-08T00:00:00",
          "2023-11-09T00:00:00",
          "2023-11-10T00:00:00",
          "2023-11-13T00:00:00",
          "2023-11-14T00:00:00",
          "2023-11-15T00:00:00",
          "2023-11-16T00:00:00",
          "2023-11-17T00:00:00",
          "2023-11-20T00:00:00",
          "2023-11-21T00:00:00",
          "2023-11-22T00:00:00",
          "2023-11-23T00:00:00",
          "2023-11-24T00:00:00",
          "2023-11-27T00:00:00",
          "2023-11-28T00:00:00",
          "2023-11-29T00:00:00",
          "2023-11-30T00:00:00",
          "2023-12-01T00:00:00",
          "2023-12-04T00:00:00",
          "2023-12-05T00:00:00",
          "2023-12-06T00:00:00",
          "2023-12-07T00:00:00",
          "2023-12-08T00:00:00",
          "2023-12-11T00:00:00",
          "2023-12-12T00:00:00",
          "2023-12-13T00:00:00",
          "2023-12-14T00:00:00",
          "2023-12-15T00:00:00",
          "2023-12-18T00:00:00",
          "2023-12-19T00:00:00",
          "2023-12-20T00:00:00",
          "2023-12-21T00:00:00",
          "2023-12-22T00:00:00",
          "2023-12-27T00:00:00",
          "2023-12-28T00:00:00",
          "2023-12-29T00:00:00",
          "2024-01-02T00:00:00",
          "2024-01-03T00:00:00",
          "2024-01-04T00:00:00",
          "2024-01-05T00:00:00",
          "2024-01-08T00:00:00",
          "2024-01-09T00:00:00",
          "2024-01-10T00:00:00",
          "2024-01-11T00:00:00",
          "2024-01-12T00:00:00",
          "2024-01-15T00:00:00",
          "2024-01-16T00:00:00",
          "2024-01-17T00:00:00",
          "2024-01-18T00:00:00",
          "2024-01-19T00:00:00",
          "2024-01-22T00:00:00",
          "2024-01-23T00:00:00",
          "2024-01-24T00:00:00",
          "2024-01-25T00:00:00",
          "2024-01-26T00:00:00",
          "2024-01-29T00:00:00",
          "2024-01-30T00:00:00",
          "2024-01-31T00:00:00",
          "2024-02-01T00:00:00",
          "2024-02-02T00:00:00",
          "2024-02-05T00:00:00",
          "2024-02-06T00:00:00",
          "2024-02-07T00:00:00",
          "2024-02-08T00:00:00",
          "2024-02-09T00:00:00",
          "2024-02-12T00:00:00",
          "2024-02-13T00:00:00",
          "2024-02-14T00:00:00",
          "2024-02-15T00:00:00",
          "2024-02-16T00:00:00"
         ],
         "y": [
          null,
          null,
          null,
          null,
          null,
          null,
          null,
          null,
          null,
          null,
          null,
          null,
          null,
          null,
          null,
          null,
          null,
          null,
          null,
          126.35099945068359,
          126.08199958801269,
          125.82499961853027,
          125.52700004577636,
          125.178999710083,
          124.77299995422364,
          124.37700004577637,
          124.04400024414062,
          123.92200050354003,
          123.83700027465821,
          123.74900016784667,
          123.49700012207032,
          123.29600028991699,
          123.17100028991699,
          122.95500030517579,
          123.11700019836425,
          123.06000022888183,
          123.03500022888184,
          123.27400016784668,
          123.46100006103515,
          123.62599983215333,
          123.73599967956542,
          123.87299957275391,
          124.09499931335449,
          124.3859992980957,
          124.78499908447266,
          125.07099914550781,
          125.39499931335449,
          125.77499885559082,
          126.19199867248535,
          126.64599876403808,
          127.27999877929688,
          127.91799850463867,
          128.56499824523925,
          129.37099800109863,
          129.8289981842041,
          130.493998336792,
          131.293998336792,
          131.97799835205078,
          132.78599853515624,
          133.6719985961914,
          134.47499885559083,
          135.27499923706054,
          136.06499900817872,
          136.90099868774413,
          137.66899871826172,
          138.53999862670898,
          139.41999893188478,
          140.1889991760254,
          140.88699951171876,
          141.50599975585936,
          142.17199935913087,
          142.76799926757812,
          143.32099990844728,
          143.78300018310546,
          144.0879997253418,
          144.3009994506836,
          144.36499938964843,
          144.45599899291992,
          144.35799865722657,
          144.11199874877929,
          143.96999893188476,
          143.88199844360352,
          143.73699874877929,
          143.4839988708496,
          143.07699890136718,
          142.59799880981444,
          142.10399856567383,
          141.60099868774415,
          141.18299865722656,
          140.79199829101563,
          140.4849983215332,
          140.2119987487793,
          140.08899841308593,
          139.99199829101562,
          140.09399871826173,
          140.2609992980957,
          140.5639991760254,
          140.94499969482422,
          141.50199966430665,
          142.09099960327148,
          143.21699905395508,
          144.26299896240235,
          145.28099899291993,
          146.40699920654296,
          147.6609992980957,
          148.84499969482422,
          150.13799972534179,
          151.46599960327148,
          152.75299987792968,
          154.10899963378907,
          155.40699996948243,
          156.7129997253418,
          157.88600006103516,
          159.04599990844727,
          159.95499954223632,
          160.957999420166,
          161.81399993896486,
          162.62399978637694
         ]
        },
        {
         "mode": "lines",
         "name": "Upper band Bollinger",
         "type": "scatter",
         "x": [
          "2023-09-01T00:00:00",
          "2023-09-04T00:00:00",
          "2023-09-05T00:00:00",
          "2023-09-06T00:00:00",
          "2023-09-07T00:00:00",
          "2023-09-08T00:00:00",
          "2023-09-11T00:00:00",
          "2023-09-12T00:00:00",
          "2023-09-13T00:00:00",
          "2023-09-14T00:00:00",
          "2023-09-15T00:00:00",
          "2023-09-18T00:00:00",
          "2023-09-19T00:00:00",
          "2023-09-20T00:00:00",
          "2023-09-21T00:00:00",
          "2023-09-22T00:00:00",
          "2023-09-25T00:00:00",
          "2023-09-26T00:00:00",
          "2023-09-27T00:00:00",
          "2023-09-28T00:00:00",
          "2023-09-29T00:00:00",
          "2023-10-02T00:00:00",
          "2023-10-03T00:00:00",
          "2023-10-04T00:00:00",
          "2023-10-05T00:00:00",
          "2023-10-06T00:00:00",
          "2023-10-09T00:00:00",
          "2023-10-10T00:00:00",
          "2023-10-11T00:00:00",
          "2023-10-12T00:00:00",
          "2023-10-13T00:00:00",
          "2023-10-16T00:00:00",
          "2023-10-17T00:00:00",
          "2023-10-18T00:00:00",
          "2023-10-19T00:00:00",
          "2023-10-20T00:00:00",
          "2023-10-23T00:00:00",
          "2023-10-24T00:00:00",
          "2023-10-25T00:00:00",
          "2023-10-26T00:00:00",
          "2023-10-27T00:00:00",
          "2023-10-30T00:00:00",
          "2023-10-31T00:00:00",
          "2023-11-01T00:00:00",
          "2023-11-02T00:00:00",
          "2023-11-03T00:00:00",
          "2023-11-06T00:00:00",
          "2023-11-07T00:00:00",
          "2023-11-08T00:00:00",
          "2023-11-09T00:00:00",
          "2023-11-10T00:00:00",
          "2023-11-13T00:00:00",
          "2023-11-14T00:00:00",
          "2023-11-15T00:00:00",
          "2023-11-16T00:00:00",
          "2023-11-17T00:00:00",
          "2023-11-20T00:00:00",
          "2023-11-21T00:00:00",
          "2023-11-22T00:00:00",
          "2023-11-23T00:00:00",
          "2023-11-24T00:00:00",
          "2023-11-27T00:00:00",
          "2023-11-28T00:00:00",
          "2023-11-29T00:00:00",
          "2023-11-30T00:00:00",
          "2023-12-01T00:00:00",
          "2023-12-04T00:00:00",
          "2023-12-05T00:00:00",
          "2023-12-06T00:00:00",
          "2023-12-07T00:00:00",
          "2023-12-08T00:00:00",
          "2023-12-11T00:00:00",
          "2023-12-12T00:00:00",
          "2023-12-13T00:00:00",
          "2023-12-14T00:00:00",
          "2023-12-15T00:00:00",
          "2023-12-18T00:00:00",
          "2023-12-19T00:00:00",
          "2023-12-20T00:00:00",
          "2023-12-21T00:00:00",
          "2023-12-22T00:00:00",
          "2023-12-27T00:00:00",
          "2023-12-28T00:00:00",
          "2023-12-29T00:00:00",
          "2024-01-02T00:00:00",
          "2024-01-03T00:00:00",
          "2024-01-04T00:00:00",
          "2024-01-05T00:00:00",
          "2024-01-08T00:00:00",
          "2024-01-09T00:00:00",
          "2024-01-10T00:00:00",
          "2024-01-11T00:00:00",
          "2024-01-12T00:00:00",
          "2024-01-15T00:00:00",
          "2024-01-16T00:00:00",
          "2024-01-17T00:00:00",
          "2024-01-18T00:00:00",
          "2024-01-19T00:00:00",
          "2024-01-22T00:00:00",
          "2024-01-23T00:00:00",
          "2024-01-24T00:00:00",
          "2024-01-25T00:00:00",
          "2024-01-26T00:00:00",
          "2024-01-29T00:00:00",
          "2024-01-30T00:00:00",
          "2024-01-31T00:00:00",
          "2024-02-01T00:00:00",
          "2024-02-02T00:00:00",
          "2024-02-05T00:00:00",
          "2024-02-06T00:00:00",
          "2024-02-07T00:00:00",
          "2024-02-08T00:00:00",
          "2024-02-09T00:00:00",
          "2024-02-12T00:00:00",
          "2024-02-13T00:00:00",
          "2024-02-14T00:00:00",
          "2024-02-15T00:00:00",
          "2024-02-16T00:00:00"
         ],
         "y": [
          null,
          null,
          null,
          null,
          null,
          null,
          null,
          null,
          null,
          null,
          null,
          null,
          null,
          null,
          null,
          null,
          null,
          null,
          null,
          132.1008624345205,
          131.9693873491746,
          131.80783316186097,
          131.59231537175148,
          131.21355541925215,
          130.45024254235568,
          129.11095155265684,
          128.35653857897378,
          128.06479612287123,
          127.82031754464103,
          127.47001660410677,
          126.89706691904776,
          126.36273906249608,
          125.999081834072,
          125.70581048646703,
          126.45565893545043,
          126.29634440878955,
          126.2346265031551,
          126.5407011670418,
          126.66994648214452,
          126.74413904014934,
          126.88943904271187,
          127.10333577338024,
          127.47687905544132,
          128.00231499224478,
          129.0590194295428,
          129.74653254919377,
          130.14205459126825,
          131.2644910594559,
          132.57653457764928,
          134.0717111563326,
          135.24579784704608,
          136.35576632409808,
          137.48871918723748,
          138.382515990467,
          139.31182122514326,
          140.09668240859702,
          141.25007890356832,
          142.20913724739071,
          143.2466661127211,
          144.2782262553952,
          144.7497763053875,
          145.12292265811897,
          145.5586475989282,
          146.28162914553218,
          147.22550966303996,
          148.05246771868528,
          148.34567743606286,
          148.98513781900638,
          149.55592045292067,
          150.0883532644593,
          150.64948071571268,
          150.91643641964967,
          151.10271045381992,
          151.13487370493826,
          150.61732896035045,
          150.12703123125044,
          150.013822171705,
          149.8223372766998,
          150.04007439344963,
          150.5132681962207,
          150.76815983773952,
          150.85270986671043,
          150.94195996619496,
          150.9218333026744,
          150.9339883353519,
          150.68957079384066,
          150.44143662526264,
          149.87276690683828,
          149.1141264217541,
          148.251941099748,
          147.12508547574345,
          146.0680899166585,
          145.393874454814,
          144.85591123115714,
          145.25912977420668,
          145.81607540595883,
          146.93577367899346,
          148.3237171345467,
          149.93291939349513,
          151.00059973408358,
          155.22930282218886,
          158.47843589844663,
          160.9447564903546,
          163.48850041091328,
          165.60065995488316,
          166.98006475785107,
          168.2365542177254,
          169.4274786614792,
          170.5753099305782,
          171.74096208563915,
          173.11998571480498,
          174.07480414596117,
          175.04478570168817,
          175.5353270649008,
          175.0303759216649,
          174.37115584231967,
          173.6373103645304,
          172.82474511448152
         ]
        },
        {
         "mode": "lines",
         "name": "Lower band Bollinger",
         "type": "scatter",
         "x": [
          "2023-09-01T00:00:00",
          "2023-09-04T00:00:00",
          "2023-09-05T00:00:00",
          "2023-09-06T00:00:00",
          "2023-09-07T00:00:00",
          "2023-09-08T00:00:00",
          "2023-09-11T00:00:00",
          "2023-09-12T00:00:00",
          "2023-09-13T00:00:00",
          "2023-09-14T00:00:00",
          "2023-09-15T00:00:00",
          "2023-09-18T00:00:00",
          "2023-09-19T00:00:00",
          "2023-09-20T00:00:00",
          "2023-09-21T00:00:00",
          "2023-09-22T00:00:00",
          "2023-09-25T00:00:00",
          "2023-09-26T00:00:00",
          "2023-09-27T00:00:00",
          "2023-09-28T00:00:00",
          "2023-09-29T00:00:00",
          "2023-10-02T00:00:00",
          "2023-10-03T00:00:00",
          "2023-10-04T00:00:00",
          "2023-10-05T00:00:00",
          "2023-10-06T00:00:00",
          "2023-10-09T00:00:00",
          "2023-10-10T00:00:00",
          "2023-10-11T00:00:00",
          "2023-10-12T00:00:00",
          "2023-10-13T00:00:00",
          "2023-10-16T00:00:00",
          "2023-10-17T00:00:00",
          "2023-10-18T00:00:00",
          "2023-10-19T00:00:00",
          "2023-10-20T00:00:00",
          "2023-10-23T00:00:00",
          "2023-10-24T00:00:00",
          "2023-10-25T00:00:00",
          "2023-10-26T00:00:00",
          "2023-10-27T00:00:00",
          "2023-10-30T00:00:00",
          "2023-10-31T00:00:00",
          "2023-11-01T00:00:00",
          "2023-11-02T00:00:00",
          "2023-11-03T00:00:00",
          "2023-11-06T00:00:00",
          "2023-11-07T00:00:00",
          "2023-11-08T00:00:00",
          "2023-11-09T00:00:00",
          "2023-11-10T00:00:00",
          "2023-11-13T00:00:00",
          "2023-11-14T00:00:00",
          "2023-11-15T00:00:00",
          "2023-11-16T00:00:00",
          "2023-11-17T00:00:00",
          "2023-11-20T00:00:00",
          "2023-11-21T00:00:00",
          "2023-11-22T00:00:00",
          "2023-11-23T00:00:00",
          "2023-11-24T00:00:00",
          "2023-11-27T00:00:00",
          "2023-11-28T00:00:00",
          "2023-11-29T00:00:00",
          "2023-11-30T00:00:00",
          "2023-12-01T00:00:00",
          "2023-12-04T00:00:00",
          "2023-12-05T00:00:00",
          "2023-12-06T00:00:00",
          "2023-12-07T00:00:00",
          "2023-12-08T00:00:00",
          "2023-12-11T00:00:00",
          "2023-12-12T00:00:00",
          "2023-12-13T00:00:00",
          "2023-12-14T00:00:00",
          "2023-12-15T00:00:00",
          "2023-12-18T00:00:00",
          "2023-12-19T00:00:00",
          "2023-12-20T00:00:00",
          "2023-12-21T00:00:00",
          "2023-12-22T00:00:00",
          "2023-12-27T00:00:00",
          "2023-12-28T00:00:00",
          "2023-12-29T00:00:00",
          "2024-01-02T00:00:00",
          "2024-01-03T00:00:00",
          "2024-01-04T00:00:00",
          "2024-01-05T00:00:00",
          "2024-01-08T00:00:00",
          "2024-01-09T00:00:00",
          "2024-01-10T00:00:00",
          "2024-01-11T00:00:00",
          "2024-01-12T00:00:00",
          "2024-01-15T00:00:00",
          "2024-01-16T00:00:00",
          "2024-01-17T00:00:00",
          "2024-01-18T00:00:00",
          "2024-01-19T00:00:00",
          "2024-01-22T00:00:00",
          "2024-01-23T00:00:00",
          "2024-01-24T00:00:00",
          "2024-01-25T00:00:00",
          "2024-01-26T00:00:00",
          "2024-01-29T00:00:00",
          "2024-01-30T00:00:00",
          "2024-01-31T00:00:00",
          "2024-02-01T00:00:00",
          "2024-02-02T00:00:00",
          "2024-02-05T00:00:00",
          "2024-02-06T00:00:00",
          "2024-02-07T00:00:00",
          "2024-02-08T00:00:00",
          "2024-02-09T00:00:00",
          "2024-02-12T00:00:00",
          "2024-02-13T00:00:00",
          "2024-02-14T00:00:00",
          "2024-02-15T00:00:00",
          "2024-02-16T00:00:00"
         ],
         "y": [
          null,
          null,
          null,
          null,
          null,
          null,
          null,
          null,
          null,
          null,
          null,
          null,
          null,
          null,
          null,
          null,
          null,
          null,
          null,
          120.60113646684668,
          120.19461182685076,
          119.84216607519959,
          119.46168471980124,
          119.14444400091386,
          119.09575736609158,
          119.64304853889591,
          119.73146190930747,
          119.77920488420884,
          119.85368300467539,
          120.02798373158657,
          120.09693332509288,
          120.2292615173379,
          120.34291874576198,
          120.20419012388454,
          119.77834146127807,
          119.82365604897412,
          119.83537395460858,
          120.00729916865156,
          120.25205363992578,
          120.50786062415732,
          120.58256031641898,
          120.64266337212759,
          120.71311957126767,
          120.7696836039466,
          120.51097873940255,
          120.39546574182185,
          120.64794403544072,
          120.28550665172574,
          119.80746276732143,
          119.22028637174354,
          119.31419971154767,
          119.48023068517925,
          119.64127730324103,
          120.35948001173026,
          120.34617514326493,
          120.89131426498699,
          121.33791777001566,
          121.74685945671085,
          122.32533095759138,
          123.0657709369876,
          124.20022140579415,
          125.42707581600212,
          126.57135041742923,
          127.5203682299561,
          128.11248777348348,
          129.02752953473268,
          130.4943204277067,
          131.3928605330444,
          132.21807857051684,
          132.92364624725943,
          133.69451800254905,
          134.61956211550657,
          135.53928936307463,
          136.43112666127266,
          137.55867049033316,
          138.47496767011677,
          138.71617660759188,
          139.08966070914002,
          138.67592292100352,
          137.71072930133786,
          137.17183802603,
          136.91128702049662,
          136.5320375313636,
          136.0461644390248,
          135.22000946738245,
          134.50642682578822,
          133.76656050608503,
          133.32923046865002,
          133.25187089269903,
          133.33205548228327,
          133.84491116732295,
          134.35590758090012,
          134.78412237135785,
          135.1280853508741,
          134.92886766231678,
          134.70592319023257,
          134.19222467305732,
          133.56628225510173,
          133.07107993511818,
          133.1813994724594,
          131.2046952857213,
          130.04756202635807,
          129.61724149548527,
          129.32549800217265,
          129.72133864130825,
          130.70993463179738,
          132.03944523295817,
          133.50452054506377,
          134.93068982528118,
          136.47703718193898,
          137.69401422415987,
          139.35119530472244,
          140.72721442038215,
          142.55667275199374,
          144.87962316280775,
          147.54484299801234,
          149.9906895133993,
          152.42325445827237
         ]
        }
       ],
       "layout": {
        "template": {
         "data": {
          "bar": [
           {
            "error_x": {
             "color": "#2a3f5f"
            },
            "error_y": {
             "color": "#2a3f5f"
            },
            "marker": {
             "line": {
              "color": "#E5ECF6",
              "width": 0.5
             },
             "pattern": {
              "fillmode": "overlay",
              "size": 10,
              "solidity": 0.2
             }
            },
            "type": "bar"
           }
          ],
          "barpolar": [
           {
            "marker": {
             "line": {
              "color": "#E5ECF6",
              "width": 0.5
             },
             "pattern": {
              "fillmode": "overlay",
              "size": 10,
              "solidity": 0.2
             }
            },
            "type": "barpolar"
           }
          ],
          "carpet": [
           {
            "aaxis": {
             "endlinecolor": "#2a3f5f",
             "gridcolor": "white",
             "linecolor": "white",
             "minorgridcolor": "white",
             "startlinecolor": "#2a3f5f"
            },
            "baxis": {
             "endlinecolor": "#2a3f5f",
             "gridcolor": "white",
             "linecolor": "white",
             "minorgridcolor": "white",
             "startlinecolor": "#2a3f5f"
            },
            "type": "carpet"
           }
          ],
          "choropleth": [
           {
            "colorbar": {
             "outlinewidth": 0,
             "ticks": ""
            },
            "type": "choropleth"
           }
          ],
          "contour": [
           {
            "colorbar": {
             "outlinewidth": 0,
             "ticks": ""
            },
            "colorscale": [
             [
              0,
              "#0d0887"
             ],
             [
              0.1111111111111111,
              "#46039f"
             ],
             [
              0.2222222222222222,
              "#7201a8"
             ],
             [
              0.3333333333333333,
              "#9c179e"
             ],
             [
              0.4444444444444444,
              "#bd3786"
             ],
             [
              0.5555555555555556,
              "#d8576b"
             ],
             [
              0.6666666666666666,
              "#ed7953"
             ],
             [
              0.7777777777777778,
              "#fb9f3a"
             ],
             [
              0.8888888888888888,
              "#fdca26"
             ],
             [
              1,
              "#f0f921"
             ]
            ],
            "type": "contour"
           }
          ],
          "contourcarpet": [
           {
            "colorbar": {
             "outlinewidth": 0,
             "ticks": ""
            },
            "type": "contourcarpet"
           }
          ],
          "heatmap": [
           {
            "colorbar": {
             "outlinewidth": 0,
             "ticks": ""
            },
            "colorscale": [
             [
              0,
              "#0d0887"
             ],
             [
              0.1111111111111111,
              "#46039f"
             ],
             [
              0.2222222222222222,
              "#7201a8"
             ],
             [
              0.3333333333333333,
              "#9c179e"
             ],
             [
              0.4444444444444444,
              "#bd3786"
             ],
             [
              0.5555555555555556,
              "#d8576b"
             ],
             [
              0.6666666666666666,
              "#ed7953"
             ],
             [
              0.7777777777777778,
              "#fb9f3a"
             ],
             [
              0.8888888888888888,
              "#fdca26"
             ],
             [
              1,
              "#f0f921"
             ]
            ],
            "type": "heatmap"
           }
          ],
          "heatmapgl": [
           {
            "colorbar": {
             "outlinewidth": 0,
             "ticks": ""
            },
            "colorscale": [
             [
              0,
              "#0d0887"
             ],
             [
              0.1111111111111111,
              "#46039f"
             ],
             [
              0.2222222222222222,
              "#7201a8"
             ],
             [
              0.3333333333333333,
              "#9c179e"
             ],
             [
              0.4444444444444444,
              "#bd3786"
             ],
             [
              0.5555555555555556,
              "#d8576b"
             ],
             [
              0.6666666666666666,
              "#ed7953"
             ],
             [
              0.7777777777777778,
              "#fb9f3a"
             ],
             [
              0.8888888888888888,
              "#fdca26"
             ],
             [
              1,
              "#f0f921"
             ]
            ],
            "type": "heatmapgl"
           }
          ],
          "histogram": [
           {
            "marker": {
             "pattern": {
              "fillmode": "overlay",
              "size": 10,
              "solidity": 0.2
             }
            },
            "type": "histogram"
           }
          ],
          "histogram2d": [
           {
            "colorbar": {
             "outlinewidth": 0,
             "ticks": ""
            },
            "colorscale": [
             [
              0,
              "#0d0887"
             ],
             [
              0.1111111111111111,
              "#46039f"
             ],
             [
              0.2222222222222222,
              "#7201a8"
             ],
             [
              0.3333333333333333,
              "#9c179e"
             ],
             [
              0.4444444444444444,
              "#bd3786"
             ],
             [
              0.5555555555555556,
              "#d8576b"
             ],
             [
              0.6666666666666666,
              "#ed7953"
             ],
             [
              0.7777777777777778,
              "#fb9f3a"
             ],
             [
              0.8888888888888888,
              "#fdca26"
             ],
             [
              1,
              "#f0f921"
             ]
            ],
            "type": "histogram2d"
           }
          ],
          "histogram2dcontour": [
           {
            "colorbar": {
             "outlinewidth": 0,
             "ticks": ""
            },
            "colorscale": [
             [
              0,
              "#0d0887"
             ],
             [
              0.1111111111111111,
              "#46039f"
             ],
             [
              0.2222222222222222,
              "#7201a8"
             ],
             [
              0.3333333333333333,
              "#9c179e"
             ],
             [
              0.4444444444444444,
              "#bd3786"
             ],
             [
              0.5555555555555556,
              "#d8576b"
             ],
             [
              0.6666666666666666,
              "#ed7953"
             ],
             [
              0.7777777777777778,
              "#fb9f3a"
             ],
             [
              0.8888888888888888,
              "#fdca26"
             ],
             [
              1,
              "#f0f921"
             ]
            ],
            "type": "histogram2dcontour"
           }
          ],
          "mesh3d": [
           {
            "colorbar": {
             "outlinewidth": 0,
             "ticks": ""
            },
            "type": "mesh3d"
           }
          ],
          "parcoords": [
           {
            "line": {
             "colorbar": {
              "outlinewidth": 0,
              "ticks": ""
             }
            },
            "type": "parcoords"
           }
          ],
          "pie": [
           {
            "automargin": true,
            "type": "pie"
           }
          ],
          "scatter": [
           {
            "fillpattern": {
             "fillmode": "overlay",
             "size": 10,
             "solidity": 0.2
            },
            "type": "scatter"
           }
          ],
          "scatter3d": [
           {
            "line": {
             "colorbar": {
              "outlinewidth": 0,
              "ticks": ""
             }
            },
            "marker": {
             "colorbar": {
              "outlinewidth": 0,
              "ticks": ""
             }
            },
            "type": "scatter3d"
           }
          ],
          "scattercarpet": [
           {
            "marker": {
             "colorbar": {
              "outlinewidth": 0,
              "ticks": ""
             }
            },
            "type": "scattercarpet"
           }
          ],
          "scattergeo": [
           {
            "marker": {
             "colorbar": {
              "outlinewidth": 0,
              "ticks": ""
             }
            },
            "type": "scattergeo"
           }
          ],
          "scattergl": [
           {
            "marker": {
             "colorbar": {
              "outlinewidth": 0,
              "ticks": ""
             }
            },
            "type": "scattergl"
           }
          ],
          "scattermapbox": [
           {
            "marker": {
             "colorbar": {
              "outlinewidth": 0,
              "ticks": ""
             }
            },
            "type": "scattermapbox"
           }
          ],
          "scatterpolar": [
           {
            "marker": {
             "colorbar": {
              "outlinewidth": 0,
              "ticks": ""
             }
            },
            "type": "scatterpolar"
           }
          ],
          "scatterpolargl": [
           {
            "marker": {
             "colorbar": {
              "outlinewidth": 0,
              "ticks": ""
             }
            },
            "type": "scatterpolargl"
           }
          ],
          "scatterternary": [
           {
            "marker": {
             "colorbar": {
              "outlinewidth": 0,
              "ticks": ""
             }
            },
            "type": "scatterternary"
           }
          ],
          "surface": [
           {
            "colorbar": {
             "outlinewidth": 0,
             "ticks": ""
            },
            "colorscale": [
             [
              0,
              "#0d0887"
             ],
             [
              0.1111111111111111,
              "#46039f"
             ],
             [
              0.2222222222222222,
              "#7201a8"
             ],
             [
              0.3333333333333333,
              "#9c179e"
             ],
             [
              0.4444444444444444,
              "#bd3786"
             ],
             [
              0.5555555555555556,
              "#d8576b"
             ],
             [
              0.6666666666666666,
              "#ed7953"
             ],
             [
              0.7777777777777778,
              "#fb9f3a"
             ],
             [
              0.8888888888888888,
              "#fdca26"
             ],
             [
              1,
              "#f0f921"
             ]
            ],
            "type": "surface"
           }
          ],
          "table": [
           {
            "cells": {
             "fill": {
              "color": "#EBF0F8"
             },
             "line": {
              "color": "white"
             }
            },
            "header": {
             "fill": {
              "color": "#C8D4E3"
             },
             "line": {
              "color": "white"
             }
            },
            "type": "table"
           }
          ]
         },
         "layout": {
          "annotationdefaults": {
           "arrowcolor": "#2a3f5f",
           "arrowhead": 0,
           "arrowwidth": 1
          },
          "autotypenumbers": "strict",
          "coloraxis": {
           "colorbar": {
            "outlinewidth": 0,
            "ticks": ""
           }
          },
          "colorscale": {
           "diverging": [
            [
             0,
             "#8e0152"
            ],
            [
             0.1,
             "#c51b7d"
            ],
            [
             0.2,
             "#de77ae"
            ],
            [
             0.3,
             "#f1b6da"
            ],
            [
             0.4,
             "#fde0ef"
            ],
            [
             0.5,
             "#f7f7f7"
            ],
            [
             0.6,
             "#e6f5d0"
            ],
            [
             0.7,
             "#b8e186"
            ],
            [
             0.8,
             "#7fbc41"
            ],
            [
             0.9,
             "#4d9221"
            ],
            [
             1,
             "#276419"
            ]
           ],
           "sequential": [
            [
             0,
             "#0d0887"
            ],
            [
             0.1111111111111111,
             "#46039f"
            ],
            [
             0.2222222222222222,
             "#7201a8"
            ],
            [
             0.3333333333333333,
             "#9c179e"
            ],
            [
             0.4444444444444444,
             "#bd3786"
            ],
            [
             0.5555555555555556,
             "#d8576b"
            ],
            [
             0.6666666666666666,
             "#ed7953"
            ],
            [
             0.7777777777777778,
             "#fb9f3a"
            ],
            [
             0.8888888888888888,
             "#fdca26"
            ],
            [
             1,
             "#f0f921"
            ]
           ],
           "sequentialminus": [
            [
             0,
             "#0d0887"
            ],
            [
             0.1111111111111111,
             "#46039f"
            ],
            [
             0.2222222222222222,
             "#7201a8"
            ],
            [
             0.3333333333333333,
             "#9c179e"
            ],
            [
             0.4444444444444444,
             "#bd3786"
            ],
            [
             0.5555555555555556,
             "#d8576b"
            ],
            [
             0.6666666666666666,
             "#ed7953"
            ],
            [
             0.7777777777777778,
             "#fb9f3a"
            ],
            [
             0.8888888888888888,
             "#fdca26"
            ],
            [
             1,
             "#f0f921"
            ]
           ]
          },
          "colorway": [
           "#636efa",
           "#EF553B",
           "#00cc96",
           "#ab63fa",
           "#FFA15A",
           "#19d3f3",
           "#FF6692",
           "#B6E880",
           "#FF97FF",
           "#FECB52"
          ],
          "font": {
           "color": "#2a3f5f"
          },
          "geo": {
           "bgcolor": "white",
           "lakecolor": "white",
           "landcolor": "#E5ECF6",
           "showlakes": true,
           "showland": true,
           "subunitcolor": "white"
          },
          "hoverlabel": {
           "align": "left"
          },
          "hovermode": "closest",
          "mapbox": {
           "style": "light"
          },
          "paper_bgcolor": "white",
          "plot_bgcolor": "#E5ECF6",
          "polar": {
           "angularaxis": {
            "gridcolor": "white",
            "linecolor": "white",
            "ticks": ""
           },
           "bgcolor": "#E5ECF6",
           "radialaxis": {
            "gridcolor": "white",
            "linecolor": "white",
            "ticks": ""
           }
          },
          "scene": {
           "xaxis": {
            "backgroundcolor": "#E5ECF6",
            "gridcolor": "white",
            "gridwidth": 2,
            "linecolor": "white",
            "showbackground": true,
            "ticks": "",
            "zerolinecolor": "white"
           },
           "yaxis": {
            "backgroundcolor": "#E5ECF6",
            "gridcolor": "white",
            "gridwidth": 2,
            "linecolor": "white",
            "showbackground": true,
            "ticks": "",
            "zerolinecolor": "white"
           },
           "zaxis": {
            "backgroundcolor": "#E5ECF6",
            "gridcolor": "white",
            "gridwidth": 2,
            "linecolor": "white",
            "showbackground": true,
            "ticks": "",
            "zerolinecolor": "white"
           }
          },
          "shapedefaults": {
           "line": {
            "color": "#2a3f5f"
           }
          },
          "ternary": {
           "aaxis": {
            "gridcolor": "white",
            "linecolor": "white",
            "ticks": ""
           },
           "baxis": {
            "gridcolor": "white",
            "linecolor": "white",
            "ticks": ""
           },
           "bgcolor": "#E5ECF6",
           "caxis": {
            "gridcolor": "white",
            "linecolor": "white",
            "ticks": ""
           }
          },
          "title": {
           "x": 0.05
          },
          "xaxis": {
           "automargin": true,
           "gridcolor": "white",
           "linecolor": "white",
           "ticks": "",
           "title": {
            "standoff": 15
           },
           "zerolinecolor": "white",
           "zerolinewidth": 2
          },
          "yaxis": {
           "automargin": true,
           "gridcolor": "white",
           "linecolor": "white",
           "ticks": "",
           "title": {
            "standoff": 15
           },
           "zerolinecolor": "white",
           "zerolinewidth": 2
          }
         }
        },
        "title": {
         "text": "Precio de SAP.DE"
        },
        "xaxis": {
         "title": {
          "text": "Fecha"
         }
        },
        "yaxis": {
         "title": {
          "text": "Precio"
         }
        }
       }
      }
     },
     "metadata": {},
     "output_type": "display_data"
    },
    {
     "name": "stderr",
     "output_type": "stream",
     "text": [
      "[*********************100%%**********************]  1 of 1 completed\n"
     ]
    },
    {
     "data": {
      "application/vnd.plotly.v1+json": {
       "config": {
        "plotlyServerURL": "https://plot.ly"
       },
       "data": [
        {
         "mode": "lines+markers",
         "name": "SAP.DE",
         "type": "scatter",
         "x": [
          "2023-09-01T00:00:00",
          "2023-09-01T00:00:00",
          "2023-09-04T00:00:00",
          "2023-09-04T00:00:00",
          "2023-09-05T00:00:00",
          "2023-09-05T00:00:00",
          "2023-09-06T00:00:00",
          "2023-09-06T00:00:00",
          "2023-09-07T00:00:00",
          "2023-09-07T00:00:00",
          "2023-09-08T00:00:00",
          "2023-09-08T00:00:00",
          "2023-09-11T00:00:00",
          "2023-09-11T00:00:00",
          "2023-09-12T00:00:00",
          "2023-09-12T00:00:00",
          "2023-09-13T00:00:00",
          "2023-09-13T00:00:00",
          "2023-09-14T00:00:00",
          "2023-09-14T00:00:00",
          "2023-09-15T00:00:00",
          "2023-09-15T00:00:00",
          "2023-09-18T00:00:00",
          "2023-09-18T00:00:00",
          "2023-09-19T00:00:00",
          "2023-09-19T00:00:00",
          "2023-09-20T00:00:00",
          "2023-09-20T00:00:00",
          "2023-09-21T00:00:00",
          "2023-09-21T00:00:00",
          "2023-09-22T00:00:00",
          "2023-09-22T00:00:00",
          "2023-09-25T00:00:00",
          "2023-09-25T00:00:00",
          "2023-09-26T00:00:00",
          "2023-09-26T00:00:00",
          "2023-09-27T00:00:00",
          "2023-09-27T00:00:00",
          "2023-09-28T00:00:00",
          "2023-09-28T00:00:00",
          "2023-09-29T00:00:00",
          "2023-09-29T00:00:00",
          "2023-10-02T00:00:00",
          "2023-10-02T00:00:00",
          "2023-10-03T00:00:00",
          "2023-10-03T00:00:00",
          "2023-10-04T00:00:00",
          "2023-10-04T00:00:00",
          "2023-10-05T00:00:00",
          "2023-10-05T00:00:00",
          "2023-10-06T00:00:00",
          "2023-10-06T00:00:00",
          "2023-10-09T00:00:00",
          "2023-10-09T00:00:00",
          "2023-10-10T00:00:00",
          "2023-10-10T00:00:00",
          "2023-10-11T00:00:00",
          "2023-10-11T00:00:00",
          "2023-10-12T00:00:00",
          "2023-10-12T00:00:00",
          "2023-10-13T00:00:00",
          "2023-10-13T00:00:00",
          "2023-10-16T00:00:00",
          "2023-10-16T00:00:00",
          "2023-10-17T00:00:00",
          "2023-10-17T00:00:00",
          "2023-10-18T00:00:00",
          "2023-10-18T00:00:00",
          "2023-10-19T00:00:00",
          "2023-10-19T00:00:00",
          "2023-10-20T00:00:00",
          "2023-10-20T00:00:00",
          "2023-10-23T00:00:00",
          "2023-10-23T00:00:00",
          "2023-10-24T00:00:00",
          "2023-10-24T00:00:00",
          "2023-10-25T00:00:00",
          "2023-10-25T00:00:00",
          "2023-10-26T00:00:00",
          "2023-10-26T00:00:00",
          "2023-10-27T00:00:00",
          "2023-10-27T00:00:00",
          "2023-10-30T00:00:00",
          "2023-10-30T00:00:00",
          "2023-10-31T00:00:00",
          "2023-10-31T00:00:00",
          "2023-11-01T00:00:00",
          "2023-11-01T00:00:00",
          "2023-11-02T00:00:00",
          "2023-11-02T00:00:00",
          "2023-11-03T00:00:00",
          "2023-11-03T00:00:00",
          "2023-11-06T00:00:00",
          "2023-11-06T00:00:00",
          "2023-11-07T00:00:00",
          "2023-11-07T00:00:00",
          "2023-11-08T00:00:00",
          "2023-11-08T00:00:00",
          "2023-11-09T00:00:00",
          "2023-11-09T00:00:00",
          "2023-11-10T00:00:00",
          "2023-11-10T00:00:00",
          "2023-11-13T00:00:00",
          "2023-11-13T00:00:00",
          "2023-11-14T00:00:00",
          "2023-11-14T00:00:00",
          "2023-11-15T00:00:00",
          "2023-11-15T00:00:00",
          "2023-11-16T00:00:00",
          "2023-11-16T00:00:00",
          "2023-11-17T00:00:00",
          "2023-11-17T00:00:00",
          "2023-11-20T00:00:00",
          "2023-11-20T00:00:00",
          "2023-11-21T00:00:00",
          "2023-11-21T00:00:00",
          "2023-11-22T00:00:00",
          "2023-11-22T00:00:00",
          "2023-11-23T00:00:00",
          "2023-11-23T00:00:00",
          "2023-11-24T00:00:00",
          "2023-11-24T00:00:00",
          "2023-11-27T00:00:00",
          "2023-11-27T00:00:00",
          "2023-11-28T00:00:00",
          "2023-11-28T00:00:00",
          "2023-11-29T00:00:00",
          "2023-11-29T00:00:00",
          "2023-11-30T00:00:00",
          "2023-11-30T00:00:00",
          "2023-12-01T00:00:00",
          "2023-12-01T00:00:00",
          "2023-12-04T00:00:00",
          "2023-12-04T00:00:00",
          "2023-12-05T00:00:00",
          "2023-12-05T00:00:00",
          "2023-12-06T00:00:00",
          "2023-12-06T00:00:00",
          "2023-12-07T00:00:00",
          "2023-12-07T00:00:00",
          "2023-12-08T00:00:00",
          "2023-12-08T00:00:00",
          "2023-12-11T00:00:00",
          "2023-12-11T00:00:00",
          "2023-12-12T00:00:00",
          "2023-12-12T00:00:00",
          "2023-12-13T00:00:00",
          "2023-12-13T00:00:00",
          "2023-12-14T00:00:00",
          "2023-12-14T00:00:00",
          "2023-12-15T00:00:00",
          "2023-12-15T00:00:00",
          "2023-12-18T00:00:00",
          "2023-12-18T00:00:00",
          "2023-12-19T00:00:00",
          "2023-12-19T00:00:00",
          "2023-12-20T00:00:00",
          "2023-12-20T00:00:00",
          "2023-12-21T00:00:00",
          "2023-12-21T00:00:00",
          "2023-12-22T00:00:00",
          "2023-12-22T00:00:00",
          "2023-12-27T00:00:00",
          "2023-12-27T00:00:00",
          "2023-12-28T00:00:00",
          "2023-12-28T00:00:00",
          "2023-12-29T00:00:00",
          "2023-12-29T00:00:00",
          "2024-01-02T00:00:00",
          "2024-01-02T00:00:00",
          "2024-01-03T00:00:00",
          "2024-01-03T00:00:00",
          "2024-01-04T00:00:00",
          "2024-01-04T00:00:00",
          "2024-01-05T00:00:00",
          "2024-01-05T00:00:00",
          "2024-01-08T00:00:00",
          "2024-01-08T00:00:00",
          "2024-01-09T00:00:00",
          "2024-01-09T00:00:00",
          "2024-01-10T00:00:00",
          "2024-01-10T00:00:00",
          "2024-01-11T00:00:00",
          "2024-01-11T00:00:00",
          "2024-01-12T00:00:00",
          "2024-01-12T00:00:00",
          "2024-01-15T00:00:00",
          "2024-01-15T00:00:00",
          "2024-01-16T00:00:00",
          "2024-01-16T00:00:00",
          "2024-01-17T00:00:00",
          "2024-01-17T00:00:00",
          "2024-01-18T00:00:00",
          "2024-01-18T00:00:00",
          "2024-01-19T00:00:00",
          "2024-01-19T00:00:00",
          "2024-01-22T00:00:00",
          "2024-01-22T00:00:00",
          "2024-01-23T00:00:00",
          "2024-01-23T00:00:00",
          "2024-01-24T00:00:00",
          "2024-01-24T00:00:00",
          "2024-01-25T00:00:00",
          "2024-01-25T00:00:00",
          "2024-01-26T00:00:00",
          "2024-01-26T00:00:00",
          "2024-01-29T00:00:00",
          "2024-01-29T00:00:00",
          "2024-01-30T00:00:00",
          "2024-01-30T00:00:00",
          "2024-01-31T00:00:00",
          "2024-01-31T00:00:00",
          "2024-02-01T00:00:00",
          "2024-02-01T00:00:00",
          "2024-02-02T00:00:00",
          "2024-02-02T00:00:00",
          "2024-02-05T00:00:00",
          "2024-02-05T00:00:00",
          "2024-02-06T00:00:00",
          "2024-02-06T00:00:00",
          "2024-02-07T00:00:00",
          "2024-02-07T00:00:00",
          "2024-02-08T00:00:00",
          "2024-02-08T00:00:00",
          "2024-02-09T00:00:00",
          "2024-02-09T00:00:00",
          "2024-02-12T00:00:00",
          "2024-02-12T00:00:00",
          "2024-02-13T00:00:00",
          "2024-02-13T00:00:00",
          "2024-02-14T00:00:00",
          "2024-02-14T00:00:00",
          "2024-02-15T00:00:00",
          "2024-02-15T00:00:00",
          "2024-02-16T00:00:00",
          "2024-02-16T00:00:00"
         ],
         "y": [
          129.67999267578125,
          127.94000244140625,
          128.5800018310547,
          127.36000061035156,
          128.8800048828125,
          127.08000183105469,
          129.1999969482422,
          127.83999633789062,
          130.47999572753906,
          128.47999572753906,
          131.6999969482422,
          130.1199951171875,
          131.1999969482422,
          128.47999572753906,
          127.80000305175781,
          124.83999633789062,
          126.69999694824219,
          125.4800033569336,
          127.69999694824219,
          125.77999877929688,
          129.24000549316406,
          126.5,
          127.19999694824219,
          125.9000015258789,
          126.36000061035156,
          125.22000122070312,
          127.04000091552734,
          124.68000030517578,
          125.5199966430664,
          123.83999633789062,
          125.05999755859375,
          122.37999725341797,
          125.30000305175781,
          123.27999877929688,
          123.36000061035156,
          120.4800033569336,
          122.31999969482422,
          120.80000305175781,
          122.12000274658203,
          120.26000213623047,
          124.13999938964844,
          121.69999694824219,
          123.83999633789062,
          122.19999694824219,
          123.72000122070312,
          121.81999969482422,
          123.12000274658203,
          121.27999877929688,
          122.86000061035156,
          121.73999786376953,
          123.55999755859375,
          121.45999908447266,
          123.19999694824219,
          121.73999786376953,
          124.33999633789062,
          122.23999786376953,
          124.83999633789062,
          123.63999938964844,
          126.13999938964844,
          124.9800033569336,
          125.5199966430664,
          121.83999633789062,
          123.5199966430664,
          121.94000244140625,
          124.19999694824219,
          121.69999694824219,
          123,
          121.0999984741211,
          129.75999450683594,
          125.19999694824219,
          126.16000366210938,
          123.86000061035156,
          124.66000366210938,
          122.45999908447266,
          125.95999908447266,
          123.63999938964844,
          125.9800033569336,
          124.54000091552734,
          125.68000030517578,
          122.81999969482422,
          125.63999938964844,
          124.27999877929688,
          126.0999984741211,
          124.86000061035156,
          126.76000213623047,
          125.19999694824219,
          128.32000732421875,
          126.0999984741211,
          130.83999633789062,
          128.27999877929688,
          129.89999389648438,
          128.17999267578125,
          129.3000030517578,
          128.4199981689453,
          132.3800048828125,
          128.77999877929688,
          133.17999267578125,
          130.86000061035156,
          134.72000122070312,
          132.24000549316406,
          135.1199951171875,
          133.60000610351562,
          135.4199981689453,
          134.36000061035156,
          137.32000732421875,
          134.5,
          137.25999450683594,
          135.22000122070312,
          137.5,
          136.44000244140625,
          137.75999450683594,
          136.55999755859375,
          140.10000610351562,
          137.16000366210938,
          140.5,
          139.1199951171875,
          142.0800018310547,
          139.72000122070312,
          142.5399932861328,
          140.75999450683594,
          141.86000061035156,
          140.5399932861328,
          141.8800048828125,
          140.4199981689453,
          142.5800018310547,
          140.97999572753906,
          144.9600067138672,
          142.75999450683594,
          146.6199951171875,
          144.60000610351562,
          146.72000122070312,
          145.5800018310547,
          147.36000061035156,
          145.27999877929688,
          147.27999877929688,
          146.13999938964844,
          149.1199951171875,
          146.86000061035156,
          147.32000732421875,
          146.10000610351562,
          148.17999267578125,
          146.52000427246094,
          148.47999572753906,
          145.55999755859375,
          147.4199981689453,
          144.8000030517578,
          148.13999938964844,
          146.10000610351562,
          147.44000244140625,
          141.24000549316406,
          142.8800048828125,
          140.8000030517578,
          141.9600067138672,
          140.75999450683594,
          142.83999633789062,
          141.10000610351562,
          141.0399932861328,
          139.05999755859375,
          139,
          135.4600067138672,
          138.5,
          137.32000732421875,
          140.32000732421875,
          138.55999755859375,
          140.52000427246094,
          139.4199981689453,
          140.1999969482422,
          139.3800048828125,
          140.6999969482422,
          136.60000610351562,
          138.6199951171875,
          136.60000610351562,
          137.75999450683594,
          136.17999267578125,
          137.5800018310547,
          134.4199981689453,
          139,
          136.9600067138672,
          139.83999633789062,
          137.4199981689453,
          142.10000610351562,
          139.66000366210938,
          143.74000549316406,
          141.8800048828125,
          144.86000061035156,
          142.52000427246094,
          145.1199951171875,
          143.94000244140625,
          144.72000122070312,
          143.25999450683594,
          144.82000732421875,
          143.36000061035156,
          147.5,
          144.83999633789062,
          149.17999267578125,
          147.22000122070312,
          150.33999633789062,
          149,
          150.17999267578125,
          147.86000061035156,
          161.97999572753906,
          157.33999633789062,
          162.4199981689453,
          157.66000366210938,
          160.3800048828125,
          157.74000549316406,
          162.1999969482422,
          159.3800048828125,
          163.0800018310547,
          161.6199951171875,
          162.44000244140625,
          160.24000549316406,
          162.33999633789062,
          159.83999633789062,
          165.94000244140625,
          162.52000427246094,
          164.63999938964844,
          163,
          167.74000549316406,
          164.83999633789062,
          168.1199951171875,
          165.74000549316406,
          169.39999389648438,
          167.05999755859375,
          169.0800018310547,
          166.9199981689453,
          168.67999267578125,
          166.4600067138672,
          166.13999938964844,
          160.44000244140625,
          165.22000122070312,
          162.77999877929688,
          167.39999389648438,
          163.6199951171875,
          165.4199981689453,
          163.4600067138672
         ]
        },
        {
         "mode": "lines",
         "name": "Media",
         "type": "scatter",
         "x": [
          "2023-09-01T00:00:00",
          "2023-09-01T00:00:00",
          "2023-09-04T00:00:00",
          "2023-09-04T00:00:00",
          "2023-09-05T00:00:00",
          "2023-09-05T00:00:00",
          "2023-09-06T00:00:00",
          "2023-09-06T00:00:00",
          "2023-09-07T00:00:00",
          "2023-09-07T00:00:00",
          "2023-09-08T00:00:00",
          "2023-09-08T00:00:00",
          "2023-09-11T00:00:00",
          "2023-09-11T00:00:00",
          "2023-09-12T00:00:00",
          "2023-09-12T00:00:00",
          "2023-09-13T00:00:00",
          "2023-09-13T00:00:00",
          "2023-09-14T00:00:00",
          "2023-09-14T00:00:00",
          "2023-09-15T00:00:00",
          "2023-09-15T00:00:00",
          "2023-09-18T00:00:00",
          "2023-09-18T00:00:00",
          "2023-09-19T00:00:00",
          "2023-09-19T00:00:00",
          "2023-09-20T00:00:00",
          "2023-09-20T00:00:00",
          "2023-09-21T00:00:00",
          "2023-09-21T00:00:00",
          "2023-09-22T00:00:00",
          "2023-09-22T00:00:00",
          "2023-09-25T00:00:00",
          "2023-09-25T00:00:00",
          "2023-09-26T00:00:00",
          "2023-09-26T00:00:00",
          "2023-09-27T00:00:00",
          "2023-09-27T00:00:00",
          "2023-09-28T00:00:00",
          "2023-09-28T00:00:00",
          "2023-09-29T00:00:00",
          "2023-09-29T00:00:00",
          "2023-10-02T00:00:00",
          "2023-10-02T00:00:00",
          "2023-10-03T00:00:00",
          "2023-10-03T00:00:00",
          "2023-10-04T00:00:00",
          "2023-10-04T00:00:00",
          "2023-10-05T00:00:00",
          "2023-10-05T00:00:00",
          "2023-10-06T00:00:00",
          "2023-10-06T00:00:00",
          "2023-10-09T00:00:00",
          "2023-10-09T00:00:00",
          "2023-10-10T00:00:00",
          "2023-10-10T00:00:00",
          "2023-10-11T00:00:00",
          "2023-10-11T00:00:00",
          "2023-10-12T00:00:00",
          "2023-10-12T00:00:00",
          "2023-10-13T00:00:00",
          "2023-10-13T00:00:00",
          "2023-10-16T00:00:00",
          "2023-10-16T00:00:00",
          "2023-10-17T00:00:00",
          "2023-10-17T00:00:00",
          "2023-10-18T00:00:00",
          "2023-10-18T00:00:00",
          "2023-10-19T00:00:00",
          "2023-10-19T00:00:00",
          "2023-10-20T00:00:00",
          "2023-10-20T00:00:00",
          "2023-10-23T00:00:00",
          "2023-10-23T00:00:00",
          "2023-10-24T00:00:00",
          "2023-10-24T00:00:00",
          "2023-10-25T00:00:00",
          "2023-10-25T00:00:00",
          "2023-10-26T00:00:00",
          "2023-10-26T00:00:00",
          "2023-10-27T00:00:00",
          "2023-10-27T00:00:00",
          "2023-10-30T00:00:00",
          "2023-10-30T00:00:00",
          "2023-10-31T00:00:00",
          "2023-10-31T00:00:00",
          "2023-11-01T00:00:00",
          "2023-11-01T00:00:00",
          "2023-11-02T00:00:00",
          "2023-11-02T00:00:00",
          "2023-11-03T00:00:00",
          "2023-11-03T00:00:00",
          "2023-11-06T00:00:00",
          "2023-11-06T00:00:00",
          "2023-11-07T00:00:00",
          "2023-11-07T00:00:00",
          "2023-11-08T00:00:00",
          "2023-11-08T00:00:00",
          "2023-11-09T00:00:00",
          "2023-11-09T00:00:00",
          "2023-11-10T00:00:00",
          "2023-11-10T00:00:00",
          "2023-11-13T00:00:00",
          "2023-11-13T00:00:00",
          "2023-11-14T00:00:00",
          "2023-11-14T00:00:00",
          "2023-11-15T00:00:00",
          "2023-11-15T00:00:00",
          "2023-11-16T00:00:00",
          "2023-11-16T00:00:00",
          "2023-11-17T00:00:00",
          "2023-11-17T00:00:00",
          "2023-11-20T00:00:00",
          "2023-11-20T00:00:00",
          "2023-11-21T00:00:00",
          "2023-11-21T00:00:00",
          "2023-11-22T00:00:00",
          "2023-11-22T00:00:00",
          "2023-11-23T00:00:00",
          "2023-11-23T00:00:00",
          "2023-11-24T00:00:00",
          "2023-11-24T00:00:00",
          "2023-11-27T00:00:00",
          "2023-11-27T00:00:00",
          "2023-11-28T00:00:00",
          "2023-11-28T00:00:00",
          "2023-11-29T00:00:00",
          "2023-11-29T00:00:00",
          "2023-11-30T00:00:00",
          "2023-11-30T00:00:00",
          "2023-12-01T00:00:00",
          "2023-12-01T00:00:00",
          "2023-12-04T00:00:00",
          "2023-12-04T00:00:00",
          "2023-12-05T00:00:00",
          "2023-12-05T00:00:00",
          "2023-12-06T00:00:00",
          "2023-12-06T00:00:00",
          "2023-12-07T00:00:00",
          "2023-12-07T00:00:00",
          "2023-12-08T00:00:00",
          "2023-12-08T00:00:00",
          "2023-12-11T00:00:00",
          "2023-12-11T00:00:00",
          "2023-12-12T00:00:00",
          "2023-12-12T00:00:00",
          "2023-12-13T00:00:00",
          "2023-12-13T00:00:00",
          "2023-12-14T00:00:00",
          "2023-12-14T00:00:00",
          "2023-12-15T00:00:00",
          "2023-12-15T00:00:00",
          "2023-12-18T00:00:00",
          "2023-12-18T00:00:00",
          "2023-12-19T00:00:00",
          "2023-12-19T00:00:00",
          "2023-12-20T00:00:00",
          "2023-12-20T00:00:00",
          "2023-12-21T00:00:00",
          "2023-12-21T00:00:00",
          "2023-12-22T00:00:00",
          "2023-12-22T00:00:00",
          "2023-12-27T00:00:00",
          "2023-12-27T00:00:00",
          "2023-12-28T00:00:00",
          "2023-12-28T00:00:00",
          "2023-12-29T00:00:00",
          "2023-12-29T00:00:00",
          "2024-01-02T00:00:00",
          "2024-01-02T00:00:00",
          "2024-01-03T00:00:00",
          "2024-01-03T00:00:00",
          "2024-01-04T00:00:00",
          "2024-01-04T00:00:00",
          "2024-01-05T00:00:00",
          "2024-01-05T00:00:00",
          "2024-01-08T00:00:00",
          "2024-01-08T00:00:00",
          "2024-01-09T00:00:00",
          "2024-01-09T00:00:00",
          "2024-01-10T00:00:00",
          "2024-01-10T00:00:00",
          "2024-01-11T00:00:00",
          "2024-01-11T00:00:00",
          "2024-01-12T00:00:00",
          "2024-01-12T00:00:00",
          "2024-01-15T00:00:00",
          "2024-01-15T00:00:00",
          "2024-01-16T00:00:00",
          "2024-01-16T00:00:00",
          "2024-01-17T00:00:00",
          "2024-01-17T00:00:00",
          "2024-01-18T00:00:00",
          "2024-01-18T00:00:00",
          "2024-01-19T00:00:00",
          "2024-01-19T00:00:00",
          "2024-01-22T00:00:00",
          "2024-01-22T00:00:00",
          "2024-01-23T00:00:00",
          "2024-01-23T00:00:00",
          "2024-01-24T00:00:00",
          "2024-01-24T00:00:00",
          "2024-01-25T00:00:00",
          "2024-01-25T00:00:00",
          "2024-01-26T00:00:00",
          "2024-01-26T00:00:00",
          "2024-01-29T00:00:00",
          "2024-01-29T00:00:00",
          "2024-01-30T00:00:00",
          "2024-01-30T00:00:00",
          "2024-01-31T00:00:00",
          "2024-01-31T00:00:00",
          "2024-02-01T00:00:00",
          "2024-02-01T00:00:00",
          "2024-02-02T00:00:00",
          "2024-02-02T00:00:00",
          "2024-02-05T00:00:00",
          "2024-02-05T00:00:00",
          "2024-02-06T00:00:00",
          "2024-02-06T00:00:00",
          "2024-02-07T00:00:00",
          "2024-02-07T00:00:00",
          "2024-02-08T00:00:00",
          "2024-02-08T00:00:00",
          "2024-02-09T00:00:00",
          "2024-02-09T00:00:00",
          "2024-02-12T00:00:00",
          "2024-02-12T00:00:00",
          "2024-02-13T00:00:00",
          "2024-02-13T00:00:00",
          "2024-02-14T00:00:00",
          "2024-02-14T00:00:00",
          "2024-02-15T00:00:00",
          "2024-02-15T00:00:00",
          "2024-02-16T00:00:00",
          "2024-02-16T00:00:00"
         ],
         "y": [
          null,
          null,
          null,
          null,
          null,
          null,
          null,
          null,
          null,
          null,
          null,
          null,
          null,
          null,
          null,
          null,
          null,
          null,
          null,
          128.2659984588623,
          128.24399909973144,
          128.17199897766113,
          128.1029987335205,
          128.02999877929688,
          127.90399856567383,
          127.81099853515624,
          127.7029987335205,
          127.54499893188476,
          127.29699897766113,
          127.06499900817872,
          126.73299903869629,
          126.34599914550782,
          126.05099945068359,
          125.79099960327149,
          125.56899948120117,
          125.35099983215332,
          125.13199996948242,
          124.89799995422364,
          124.61900024414062,
          124.3430004119873,
          124.08800010681152,
          123.84799995422364,
          123.67999992370605,
          123.49499969482422,
          123.3629997253418,
          123.19299964904785,
          122.99699974060059,
          122.82699966430664,
          122.69399986267089,
          122.58899993896485,
          122.51399993896484,
          122.46800003051757,
          122.3629997253418,
          122.28599967956544,
          122.33499946594239,
          122.42299919128418,
          122.5489990234375,
          122.69099884033203,
          122.89199867248536,
          123.12799873352051,
          123.1969985961914,
          123.20399856567383,
          123.18799858093261,
          123.17499885559081,
          123.19899864196778,
          123.19299850463867,
          123.18699836730957,
          123.17799835205078,
          123.522998046875,
          123.69599800109863,
          123.82599830627441,
          123.94599838256836,
          124.01899871826171,
          124.05499877929688,
          124.13599891662598,
          124.20599899291992,
          124.26299934387207,
          124.30799942016601,
          124.28499946594238,
          124.17699928283692,
          124.18299942016601,
          124.30499954223633,
          124.43399963378906,
          124.57999954223632,
          124.70799980163574,
          124.88299980163575,
          125.14900016784668,
          125.39900016784668,
          125.45300025939942,
          125.60700035095215,
          125.7939998626709,
          126.00999946594239,
          126.2419994354248,
          126.53999938964844,
          126.86099967956542,
          127.11799964904785,
          127.47799911499024,
          127.79399909973145,
          128.24599914550782,
          128.7169994354248,
          129.19099922180175,
          129.6569995880127,
          130.1229995727539,
          130.5979995727539,
          131.12599983215333,
          131.59099998474122,
          132.03799934387206,
          132.49399948120117,
          132.82699966430664,
          133.2349998474121,
          133.62799987792968,
          134.0470001220703,
          134.5870002746582,
          135.0240005493164,
          135.43000030517578,
          135.9470001220703,
          136.392000579834,
          136.83500061035156,
          137.22600021362305,
          137.65199966430663,
          137.98899993896484,
          138.33599929809571,
          138.65899963378905,
          138.96199951171874,
          139.22499923706056,
          139.5489990234375,
          139.93399963378906,
          140.3109992980957,
          140.7669990539551,
          141.17499923706055,
          141.6229995727539,
          142.07399978637696,
          142.43699951171874,
          142.84299926757814,
          143.18199920654297,
          143.53299942016602,
          143.88499908447267,
          144.24199905395508,
          144.4809997558594,
          144.74800033569335,
          145.06399993896486,
          145.36300048828124,
          145.69300003051757,
          145.95,
          146.19199981689454,
          146.38300018310548,
          146.54199981689453,
          146.70900039672853,
          146.75000076293946,
          146.58200073242188,
          146.39000091552734,
          146.1510009765625,
          145.8810012817383,
          145.65500106811524,
          145.43300094604493,
          145.18100128173828,
          144.77700119018556,
          144.38700103759766,
          143.97100067138672,
          143.4390007019043,
          142.95500106811522,
          142.49500122070313,
          142.0870018005371,
          141.73700180053712,
          141.3920021057129,
          141.12300186157228,
          140.72600173950195,
          140.3900016784668,
          140.0530014038086,
          139.82100143432618,
          139.6080009460449,
          139.39800109863282,
          139.18800048828126,
          138.95900039672853,
          138.6960006713867,
          138.36200027465821,
          138.26000061035157,
          138.15500106811524,
          138.19700088500977,
          138.29500045776368,
          138.47500076293946,
          138.59200057983398,
          138.76300048828125,
          138.9290008544922,
          139.14600067138673,
          139.3010009765625,
          139.54700088500977,
          139.77500076293944,
          139.9760009765625,
          140.30900039672852,
          140.61900100708007,
          140.95700073242188,
          141.4440010070801,
          141.87700119018555,
          142.45700073242188,
          143.09700088500978,
          143.66400070190429,
          144.26600036621093,
          144.78300018310546,
          145.30500030517578,
          146.29899978637695,
          147.18299942016603,
          148.11699905395508,
          148.90599899291993,
          149.68199920654297,
          150.44299926757813,
          151.29699935913087,
          152.06899948120116,
          152.98699951171875,
          153.90499954223634,
          154.7859992980957,
          155.62999954223633,
          156.37199935913085,
          157.12199935913085,
          157.95999984741212,
          158.725,
          159.44000015258788,
          160.1400001525879,
          161.01800079345702,
          161.86700057983398,
          162.17400054931642,
          162.59400100708007,
          162.94300079345703,
          163.41300048828126,
          163.84800033569337,
          164.30699996948243,
          164.63099975585936,
          164.9849998474121,
          165.13799972534179,
          165.07900009155273,
          165.21800003051757,
          165.34499969482422,
          165.5979995727539,
          165.78699951171876,
          165.7609992980957,
          165.80799942016603
         ]
        },
        {
         "mode": "lines",
         "name": "Upper band Bollinger",
         "type": "scatter",
         "x": [
          "2023-09-01T00:00:00",
          "2023-09-01T00:00:00",
          "2023-09-04T00:00:00",
          "2023-09-04T00:00:00",
          "2023-09-05T00:00:00",
          "2023-09-05T00:00:00",
          "2023-09-06T00:00:00",
          "2023-09-06T00:00:00",
          "2023-09-07T00:00:00",
          "2023-09-07T00:00:00",
          "2023-09-08T00:00:00",
          "2023-09-08T00:00:00",
          "2023-09-11T00:00:00",
          "2023-09-11T00:00:00",
          "2023-09-12T00:00:00",
          "2023-09-12T00:00:00",
          "2023-09-13T00:00:00",
          "2023-09-13T00:00:00",
          "2023-09-14T00:00:00",
          "2023-09-14T00:00:00",
          "2023-09-15T00:00:00",
          "2023-09-15T00:00:00",
          "2023-09-18T00:00:00",
          "2023-09-18T00:00:00",
          "2023-09-19T00:00:00",
          "2023-09-19T00:00:00",
          "2023-09-20T00:00:00",
          "2023-09-20T00:00:00",
          "2023-09-21T00:00:00",
          "2023-09-21T00:00:00",
          "2023-09-22T00:00:00",
          "2023-09-22T00:00:00",
          "2023-09-25T00:00:00",
          "2023-09-25T00:00:00",
          "2023-09-26T00:00:00",
          "2023-09-26T00:00:00",
          "2023-09-27T00:00:00",
          "2023-09-27T00:00:00",
          "2023-09-28T00:00:00",
          "2023-09-28T00:00:00",
          "2023-09-29T00:00:00",
          "2023-09-29T00:00:00",
          "2023-10-02T00:00:00",
          "2023-10-02T00:00:00",
          "2023-10-03T00:00:00",
          "2023-10-03T00:00:00",
          "2023-10-04T00:00:00",
          "2023-10-04T00:00:00",
          "2023-10-05T00:00:00",
          "2023-10-05T00:00:00",
          "2023-10-06T00:00:00",
          "2023-10-06T00:00:00",
          "2023-10-09T00:00:00",
          "2023-10-09T00:00:00",
          "2023-10-10T00:00:00",
          "2023-10-10T00:00:00",
          "2023-10-11T00:00:00",
          "2023-10-11T00:00:00",
          "2023-10-12T00:00:00",
          "2023-10-12T00:00:00",
          "2023-10-13T00:00:00",
          "2023-10-13T00:00:00",
          "2023-10-16T00:00:00",
          "2023-10-16T00:00:00",
          "2023-10-17T00:00:00",
          "2023-10-17T00:00:00",
          "2023-10-18T00:00:00",
          "2023-10-18T00:00:00",
          "2023-10-19T00:00:00",
          "2023-10-19T00:00:00",
          "2023-10-20T00:00:00",
          "2023-10-20T00:00:00",
          "2023-10-23T00:00:00",
          "2023-10-23T00:00:00",
          "2023-10-24T00:00:00",
          "2023-10-24T00:00:00",
          "2023-10-25T00:00:00",
          "2023-10-25T00:00:00",
          "2023-10-26T00:00:00",
          "2023-10-26T00:00:00",
          "2023-10-27T00:00:00",
          "2023-10-27T00:00:00",
          "2023-10-30T00:00:00",
          "2023-10-30T00:00:00",
          "2023-10-31T00:00:00",
          "2023-10-31T00:00:00",
          "2023-11-01T00:00:00",
          "2023-11-01T00:00:00",
          "2023-11-02T00:00:00",
          "2023-11-02T00:00:00",
          "2023-11-03T00:00:00",
          "2023-11-03T00:00:00",
          "2023-11-06T00:00:00",
          "2023-11-06T00:00:00",
          "2023-11-07T00:00:00",
          "2023-11-07T00:00:00",
          "2023-11-08T00:00:00",
          "2023-11-08T00:00:00",
          "2023-11-09T00:00:00",
          "2023-11-09T00:00:00",
          "2023-11-10T00:00:00",
          "2023-11-10T00:00:00",
          "2023-11-13T00:00:00",
          "2023-11-13T00:00:00",
          "2023-11-14T00:00:00",
          "2023-11-14T00:00:00",
          "2023-11-15T00:00:00",
          "2023-11-15T00:00:00",
          "2023-11-16T00:00:00",
          "2023-11-16T00:00:00",
          "2023-11-17T00:00:00",
          "2023-11-17T00:00:00",
          "2023-11-20T00:00:00",
          "2023-11-20T00:00:00",
          "2023-11-21T00:00:00",
          "2023-11-21T00:00:00",
          "2023-11-22T00:00:00",
          "2023-11-22T00:00:00",
          "2023-11-23T00:00:00",
          "2023-11-23T00:00:00",
          "2023-11-24T00:00:00",
          "2023-11-24T00:00:00",
          "2023-11-27T00:00:00",
          "2023-11-27T00:00:00",
          "2023-11-28T00:00:00",
          "2023-11-28T00:00:00",
          "2023-11-29T00:00:00",
          "2023-11-29T00:00:00",
          "2023-11-30T00:00:00",
          "2023-11-30T00:00:00",
          "2023-12-01T00:00:00",
          "2023-12-01T00:00:00",
          "2023-12-04T00:00:00",
          "2023-12-04T00:00:00",
          "2023-12-05T00:00:00",
          "2023-12-05T00:00:00",
          "2023-12-06T00:00:00",
          "2023-12-06T00:00:00",
          "2023-12-07T00:00:00",
          "2023-12-07T00:00:00",
          "2023-12-08T00:00:00",
          "2023-12-08T00:00:00",
          "2023-12-11T00:00:00",
          "2023-12-11T00:00:00",
          "2023-12-12T00:00:00",
          "2023-12-12T00:00:00",
          "2023-12-13T00:00:00",
          "2023-12-13T00:00:00",
          "2023-12-14T00:00:00",
          "2023-12-14T00:00:00",
          "2023-12-15T00:00:00",
          "2023-12-15T00:00:00",
          "2023-12-18T00:00:00",
          "2023-12-18T00:00:00",
          "2023-12-19T00:00:00",
          "2023-12-19T00:00:00",
          "2023-12-20T00:00:00",
          "2023-12-20T00:00:00",
          "2023-12-21T00:00:00",
          "2023-12-21T00:00:00",
          "2023-12-22T00:00:00",
          "2023-12-22T00:00:00",
          "2023-12-27T00:00:00",
          "2023-12-27T00:00:00",
          "2023-12-28T00:00:00",
          "2023-12-28T00:00:00",
          "2023-12-29T00:00:00",
          "2023-12-29T00:00:00",
          "2024-01-02T00:00:00",
          "2024-01-02T00:00:00",
          "2024-01-03T00:00:00",
          "2024-01-03T00:00:00",
          "2024-01-04T00:00:00",
          "2024-01-04T00:00:00",
          "2024-01-05T00:00:00",
          "2024-01-05T00:00:00",
          "2024-01-08T00:00:00",
          "2024-01-08T00:00:00",
          "2024-01-09T00:00:00",
          "2024-01-09T00:00:00",
          "2024-01-10T00:00:00",
          "2024-01-10T00:00:00",
          "2024-01-11T00:00:00",
          "2024-01-11T00:00:00",
          "2024-01-12T00:00:00",
          "2024-01-12T00:00:00",
          "2024-01-15T00:00:00",
          "2024-01-15T00:00:00",
          "2024-01-16T00:00:00",
          "2024-01-16T00:00:00",
          "2024-01-17T00:00:00",
          "2024-01-17T00:00:00",
          "2024-01-18T00:00:00",
          "2024-01-18T00:00:00",
          "2024-01-19T00:00:00",
          "2024-01-19T00:00:00",
          "2024-01-22T00:00:00",
          "2024-01-22T00:00:00",
          "2024-01-23T00:00:00",
          "2024-01-23T00:00:00",
          "2024-01-24T00:00:00",
          "2024-01-24T00:00:00",
          "2024-01-25T00:00:00",
          "2024-01-25T00:00:00",
          "2024-01-26T00:00:00",
          "2024-01-26T00:00:00",
          "2024-01-29T00:00:00",
          "2024-01-29T00:00:00",
          "2024-01-30T00:00:00",
          "2024-01-30T00:00:00",
          "2024-01-31T00:00:00",
          "2024-01-31T00:00:00",
          "2024-02-01T00:00:00",
          "2024-02-01T00:00:00",
          "2024-02-02T00:00:00",
          "2024-02-02T00:00:00",
          "2024-02-05T00:00:00",
          "2024-02-05T00:00:00",
          "2024-02-06T00:00:00",
          "2024-02-06T00:00:00",
          "2024-02-07T00:00:00",
          "2024-02-07T00:00:00",
          "2024-02-08T00:00:00",
          "2024-02-08T00:00:00",
          "2024-02-09T00:00:00",
          "2024-02-09T00:00:00",
          "2024-02-12T00:00:00",
          "2024-02-12T00:00:00",
          "2024-02-13T00:00:00",
          "2024-02-13T00:00:00",
          "2024-02-14T00:00:00",
          "2024-02-14T00:00:00",
          "2024-02-15T00:00:00",
          "2024-02-15T00:00:00",
          "2024-02-16T00:00:00",
          "2024-02-16T00:00:00"
         ],
         "y": [
          null,
          null,
          null,
          null,
          null,
          null,
          null,
          null,
          null,
          null,
          null,
          null,
          null,
          null,
          null,
          null,
          null,
          null,
          null,
          131.9183430523106,
          131.86565415931773,
          131.8754332032502,
          131.8257981893204,
          131.86956949578962,
          131.7912192760911,
          131.8665780332443,
          131.71767013398429,
          131.77966807481525,
          131.38640394264428,
          131.39142363684087,
          130.55103402886755,
          130.2856521330231,
          129.27970062852236,
          129.0335733714444,
          128.8402726025367,
          129.3311291938019,
          129.2781393547469,
          129.46803304990877,
          129.1499226881799,
          129.234311831878,
          128.4020762771705,
          128.13104527644924,
          127.66248702965589,
          127.3859735103707,
          127.01661746986882,
          126.79889471951924,
          126.11568255981787,
          125.93003613591563,
          125.52733694202009,
          125.39907045645042,
          125.11896946617367,
          125.11508406191213,
          124.68355242595379,
          124.58048950411585,
          124.7639759269177,
          124.69121375853354,
          125.06009165376986,
          125.10497352171406,
          125.73679447389917,
          125.83314148449732,
          126.07566152559448,
          126.0679776689471,
          126.04057005509966,
          126.04881884604345,
          126.09987219716066,
          126.10635135763856,
          126.10147829845668,
          126.11827113381159,
          127.67550582885907,
          127.82396245821656,
          128.09720561363287,
          128.06962631564042,
          128.13871164230278,
          128.10281506163494,
          128.2717089039968,
          128.25302926339023,
          128.37915019267362,
          128.41514122024608,
          128.35391883549784,
          128.28274393869088,
          128.29734962071473,
          128.26876923406954,
          128.45767834986216,
          128.4308392270034,
          128.6741172941145,
          128.5907270912138,
          129.04641108757502,
          128.81449395135206,
          129.17885408537387,
          129.53779714634248,
          130.16658505352976,
          130.40705884137753,
          130.82485715512328,
          130.85463422934217,
          131.8900686659823,
          131.97644916615909,
          133.00272358460927,
          133.33411572584922,
          134.49024992009822,
          134.65136789737028,
          135.58699091758302,
          135.90275032759862,
          136.6363290137656,
          136.8766510647178,
          137.80875745800293,
          137.8161323937691,
          138.55139019070677,
          138.51539634042618,
          139.19018866957288,
          139.41438181336252,
          139.91318628023424,
          139.90580460517816,
          140.5926020332545,
          140.37658961202342,
          141.15690149382718,
          140.96979871337464,
          141.93289683316283,
          141.9108434533156,
          142.79652344158617,
          142.9114858225269,
          143.42610957772104,
          143.47114947533396,
          143.83438110542224,
          143.7744891454943,
          144.2306948054369,
          144.08367411179063,
          144.93401067366878,
          144.93752272721792,
          145.9867068716616,
          146.24410424379687,
          146.9959508372342,
          147.16437726700966,
          147.95236572835097,
          147.89912114309638,
          148.48005545233934,
          148.62407550917234,
          149.49965581457846,
          149.6456080963588,
          149.98946387101597,
          150.00917102012042,
          150.35392123246348,
          150.23582103729345,
          150.4655578235007,
          150.03036050533444,
          149.99551903313738,
          149.3833562357801,
          149.56181738652555,
          149.16495670676574,
          149.22698951559877,
          149.96357895991522,
          150.15311942235758,
          150.6633138959497,
          150.72290942089307,
          151.0098088042591,
          150.87164030700782,
          150.9393674948112,
          150.5054558392033,
          150.5629374758043,
          150.42947588543265,
          150.84277512472303,
          150.3193107291309,
          150.06806886272014,
          149.16551038328183,
          148.78463159588281,
          147.92503229971186,
          147.5065234626787,
          146.19401215364402,
          145.26085524652598,
          143.63120946443706,
          143.66683826786166,
          143.20426273117508,
          143.18655406954088,
          142.8418253727105,
          142.7687578783295,
          142.08013790153115,
          142.0518913797985,
          141.74530739883176,
          141.66527072736176,
          141.76939130702996,
          141.6523142683342,
          142.23987811642368,
          142.35118232021267,
          143.11719998210174,
          143.49843907002253,
          144.39521263116507,
          144.76304027613844,
          145.5916257817423,
          146.12917840733382,
          146.69711247870973,
          146.98563465774149,
          147.5368239245807,
          147.70655328856483,
          148.6146985268828,
          148.74895802902915,
          149.74728984721938,
          149.62395322583438,
          150.6467018624588,
          150.88148984270757,
          151.55635893914138,
          151.2472982374446,
          155.65454508856195,
          157.21398101449702,
          160.08900700375773,
          161.22227876914607,
          162.8511036589186,
          163.6285184728914,
          165.22260169924058,
          165.9892330955412,
          167.28312493171052,
          167.92649218185036,
          168.61690819804633,
          168.55563872272856,
          169.0336579678749,
          168.63216423337738,
          169.47598704267628,
          169.2248935365293,
          169.4729071388331,
          168.98975546353319,
          169.1634151673762,
          167.33866156427757,
          168.31982145404535,
          168.49196820674965,
          169.57765981178315,
          169.7990121055674,
          170.5419375819165,
          170.4758134992259,
          171.01093248902933,
          170.90744281735752,
          171.0111258224678,
          171.12217547064384,
          171.132104566677,
          170.9076542371941,
          171.0442464432497,
          170.61969744979586,
          170.59582611870806,
          170.52705825178262
         ]
        },
        {
         "mode": "lines",
         "name": "Lower band Bollinger",
         "type": "scatter",
         "x": [
          "2023-09-01T00:00:00",
          "2023-09-01T00:00:00",
          "2023-09-04T00:00:00",
          "2023-09-04T00:00:00",
          "2023-09-05T00:00:00",
          "2023-09-05T00:00:00",
          "2023-09-06T00:00:00",
          "2023-09-06T00:00:00",
          "2023-09-07T00:00:00",
          "2023-09-07T00:00:00",
          "2023-09-08T00:00:00",
          "2023-09-08T00:00:00",
          "2023-09-11T00:00:00",
          "2023-09-11T00:00:00",
          "2023-09-12T00:00:00",
          "2023-09-12T00:00:00",
          "2023-09-13T00:00:00",
          "2023-09-13T00:00:00",
          "2023-09-14T00:00:00",
          "2023-09-14T00:00:00",
          "2023-09-15T00:00:00",
          "2023-09-15T00:00:00",
          "2023-09-18T00:00:00",
          "2023-09-18T00:00:00",
          "2023-09-19T00:00:00",
          "2023-09-19T00:00:00",
          "2023-09-20T00:00:00",
          "2023-09-20T00:00:00",
          "2023-09-21T00:00:00",
          "2023-09-21T00:00:00",
          "2023-09-22T00:00:00",
          "2023-09-22T00:00:00",
          "2023-09-25T00:00:00",
          "2023-09-25T00:00:00",
          "2023-09-26T00:00:00",
          "2023-09-26T00:00:00",
          "2023-09-27T00:00:00",
          "2023-09-27T00:00:00",
          "2023-09-28T00:00:00",
          "2023-09-28T00:00:00",
          "2023-09-29T00:00:00",
          "2023-09-29T00:00:00",
          "2023-10-02T00:00:00",
          "2023-10-02T00:00:00",
          "2023-10-03T00:00:00",
          "2023-10-03T00:00:00",
          "2023-10-04T00:00:00",
          "2023-10-04T00:00:00",
          "2023-10-05T00:00:00",
          "2023-10-05T00:00:00",
          "2023-10-06T00:00:00",
          "2023-10-06T00:00:00",
          "2023-10-09T00:00:00",
          "2023-10-09T00:00:00",
          "2023-10-10T00:00:00",
          "2023-10-10T00:00:00",
          "2023-10-11T00:00:00",
          "2023-10-11T00:00:00",
          "2023-10-12T00:00:00",
          "2023-10-12T00:00:00",
          "2023-10-13T00:00:00",
          "2023-10-13T00:00:00",
          "2023-10-16T00:00:00",
          "2023-10-16T00:00:00",
          "2023-10-17T00:00:00",
          "2023-10-17T00:00:00",
          "2023-10-18T00:00:00",
          "2023-10-18T00:00:00",
          "2023-10-19T00:00:00",
          "2023-10-19T00:00:00",
          "2023-10-20T00:00:00",
          "2023-10-20T00:00:00",
          "2023-10-23T00:00:00",
          "2023-10-23T00:00:00",
          "2023-10-24T00:00:00",
          "2023-10-24T00:00:00",
          "2023-10-25T00:00:00",
          "2023-10-25T00:00:00",
          "2023-10-26T00:00:00",
          "2023-10-26T00:00:00",
          "2023-10-27T00:00:00",
          "2023-10-27T00:00:00",
          "2023-10-30T00:00:00",
          "2023-10-30T00:00:00",
          "2023-10-31T00:00:00",
          "2023-10-31T00:00:00",
          "2023-11-01T00:00:00",
          "2023-11-01T00:00:00",
          "2023-11-02T00:00:00",
          "2023-11-02T00:00:00",
          "2023-11-03T00:00:00",
          "2023-11-03T00:00:00",
          "2023-11-06T00:00:00",
          "2023-11-06T00:00:00",
          "2023-11-07T00:00:00",
          "2023-11-07T00:00:00",
          "2023-11-08T00:00:00",
          "2023-11-08T00:00:00",
          "2023-11-09T00:00:00",
          "2023-11-09T00:00:00",
          "2023-11-10T00:00:00",
          "2023-11-10T00:00:00",
          "2023-11-13T00:00:00",
          "2023-11-13T00:00:00",
          "2023-11-14T00:00:00",
          "2023-11-14T00:00:00",
          "2023-11-15T00:00:00",
          "2023-11-15T00:00:00",
          "2023-11-16T00:00:00",
          "2023-11-16T00:00:00",
          "2023-11-17T00:00:00",
          "2023-11-17T00:00:00",
          "2023-11-20T00:00:00",
          "2023-11-20T00:00:00",
          "2023-11-21T00:00:00",
          "2023-11-21T00:00:00",
          "2023-11-22T00:00:00",
          "2023-11-22T00:00:00",
          "2023-11-23T00:00:00",
          "2023-11-23T00:00:00",
          "2023-11-24T00:00:00",
          "2023-11-24T00:00:00",
          "2023-11-27T00:00:00",
          "2023-11-27T00:00:00",
          "2023-11-28T00:00:00",
          "2023-11-28T00:00:00",
          "2023-11-29T00:00:00",
          "2023-11-29T00:00:00",
          "2023-11-30T00:00:00",
          "2023-11-30T00:00:00",
          "2023-12-01T00:00:00",
          "2023-12-01T00:00:00",
          "2023-12-04T00:00:00",
          "2023-12-04T00:00:00",
          "2023-12-05T00:00:00",
          "2023-12-05T00:00:00",
          "2023-12-06T00:00:00",
          "2023-12-06T00:00:00",
          "2023-12-07T00:00:00",
          "2023-12-07T00:00:00",
          "2023-12-08T00:00:00",
          "2023-12-08T00:00:00",
          "2023-12-11T00:00:00",
          "2023-12-11T00:00:00",
          "2023-12-12T00:00:00",
          "2023-12-12T00:00:00",
          "2023-12-13T00:00:00",
          "2023-12-13T00:00:00",
          "2023-12-14T00:00:00",
          "2023-12-14T00:00:00",
          "2023-12-15T00:00:00",
          "2023-12-15T00:00:00",
          "2023-12-18T00:00:00",
          "2023-12-18T00:00:00",
          "2023-12-19T00:00:00",
          "2023-12-19T00:00:00",
          "2023-12-20T00:00:00",
          "2023-12-20T00:00:00",
          "2023-12-21T00:00:00",
          "2023-12-21T00:00:00",
          "2023-12-22T00:00:00",
          "2023-12-22T00:00:00",
          "2023-12-27T00:00:00",
          "2023-12-27T00:00:00",
          "2023-12-28T00:00:00",
          "2023-12-28T00:00:00",
          "2023-12-29T00:00:00",
          "2023-12-29T00:00:00",
          "2024-01-02T00:00:00",
          "2024-01-02T00:00:00",
          "2024-01-03T00:00:00",
          "2024-01-03T00:00:00",
          "2024-01-04T00:00:00",
          "2024-01-04T00:00:00",
          "2024-01-05T00:00:00",
          "2024-01-05T00:00:00",
          "2024-01-08T00:00:00",
          "2024-01-08T00:00:00",
          "2024-01-09T00:00:00",
          "2024-01-09T00:00:00",
          "2024-01-10T00:00:00",
          "2024-01-10T00:00:00",
          "2024-01-11T00:00:00",
          "2024-01-11T00:00:00",
          "2024-01-12T00:00:00",
          "2024-01-12T00:00:00",
          "2024-01-15T00:00:00",
          "2024-01-15T00:00:00",
          "2024-01-16T00:00:00",
          "2024-01-16T00:00:00",
          "2024-01-17T00:00:00",
          "2024-01-17T00:00:00",
          "2024-01-18T00:00:00",
          "2024-01-18T00:00:00",
          "2024-01-19T00:00:00",
          "2024-01-19T00:00:00",
          "2024-01-22T00:00:00",
          "2024-01-22T00:00:00",
          "2024-01-23T00:00:00",
          "2024-01-23T00:00:00",
          "2024-01-24T00:00:00",
          "2024-01-24T00:00:00",
          "2024-01-25T00:00:00",
          "2024-01-25T00:00:00",
          "2024-01-26T00:00:00",
          "2024-01-26T00:00:00",
          "2024-01-29T00:00:00",
          "2024-01-29T00:00:00",
          "2024-01-30T00:00:00",
          "2024-01-30T00:00:00",
          "2024-01-31T00:00:00",
          "2024-01-31T00:00:00",
          "2024-02-01T00:00:00",
          "2024-02-01T00:00:00",
          "2024-02-02T00:00:00",
          "2024-02-02T00:00:00",
          "2024-02-05T00:00:00",
          "2024-02-05T00:00:00",
          "2024-02-06T00:00:00",
          "2024-02-06T00:00:00",
          "2024-02-07T00:00:00",
          "2024-02-07T00:00:00",
          "2024-02-08T00:00:00",
          "2024-02-08T00:00:00",
          "2024-02-09T00:00:00",
          "2024-02-09T00:00:00",
          "2024-02-12T00:00:00",
          "2024-02-12T00:00:00",
          "2024-02-13T00:00:00",
          "2024-02-13T00:00:00",
          "2024-02-14T00:00:00",
          "2024-02-14T00:00:00",
          "2024-02-15T00:00:00",
          "2024-02-15T00:00:00",
          "2024-02-16T00:00:00",
          "2024-02-16T00:00:00"
         ],
         "y": [
          null,
          null,
          null,
          null,
          null,
          null,
          null,
          null,
          null,
          null,
          null,
          null,
          null,
          null,
          null,
          null,
          null,
          null,
          null,
          124.613653865414,
          124.62234404014515,
          124.46856475207207,
          124.3801992777206,
          124.19042806280414,
          124.01677785525654,
          123.7554190370682,
          123.68832733305672,
          123.31032978895426,
          123.20759401267799,
          122.73857437951658,
          122.91496404852505,
          122.40634615799254,
          122.82229827284482,
          122.54842583509857,
          122.29772635986566,
          121.37087047050473,
          120.98586058421792,
          120.3279668585385,
          120.08807780010133,
          119.45168899209662,
          119.77392393645253,
          119.56495463199805,
          119.6975128177562,
          119.60402587927773,
          119.70938198081477,
          119.58710457857646,
          119.8783169213833,
          119.72396319269765,
          119.8606627833217,
          119.77892942147928,
          119.90903041175602,
          119.82091599912302,
          120.0424470247298,
          119.99150985501502,
          119.90602300496708,
          120.15478462403482,
          120.03790639310515,
          120.27702415895,
          120.04720287107155,
          120.42285598254371,
          120.31833566678833,
          120.34001946240056,
          120.33542710676556,
          120.30117886513818,
          120.29812508677489,
          120.27964565163877,
          120.27251843616246,
          120.23772557028997,
          119.37049026489093,
          119.5680335439807,
          119.55479099891596,
          119.82237044949629,
          119.89928579422065,
          120.00718249695883,
          120.00028892925516,
          120.15896872244959,
          120.14684849507051,
          120.20085762008593,
          120.21608009638692,
          120.07125462698293,
          120.06864921961731,
          120.34122985040312,
          120.41032091771595,
          120.72915985746926,
          120.74188230915698,
          121.1752725120577,
          121.25158924811835,
          121.98350638434131,
          121.72714643342495,
          121.67620355556181,
          121.42141467181204,
          121.61294009050724,
          121.6591417157263,
          122.22536454995472,
          121.83193069314852,
          122.25955013193662,
          121.95327464537121,
          122.2538824736137,
          122.00174837091744,
          122.78263097347933,
          122.79500752602048,
          123.41124884842677,
          123.60967013174222,
          124.31934808079002,
          124.44324220630372,
          125.36586757571334,
          125.52460849703735,
          126.47260262197615,
          126.4638106590404,
          127.05561788146167,
          127.34281347562512,
          128.18819563896244,
          128.5813985160619,
          129.6714114866094,
          129.70309911652438,
          130.92420153076597,
          130.85110432650515,
          131.7591577673875,
          131.65547698565993,
          132.39251350608635,
          132.55189030020864,
          133.20084912085747,
          133.48361816215586,
          134.1495098779432,
          134.2193036686842,
          135.01432393508435,
          134.93398859390933,
          135.6844758689735,
          135.54729123624858,
          136.10589423032422,
          136.25004830827362,
          136.98362230574426,
          136.9216332950865,
          137.7868773920599,
          137.8839429607466,
          138.4419233311597,
          138.27034235436687,
          138.83839001155135,
          138.9725356407028,
          139.48682965126628,
          139.77407864546623,
          140.49017993926904,
          140.92044223753444,
          141.86963949466553,
          142.3884806006517,
          143.38264413043086,
          143.52218224726352,
          144.25304408669132,
          144.27301201028015,
          143.20042250492853,
          142.6268824086971,
          141.6386880571753,
          141.0390931425835,
          140.30019333197137,
          139.99436158508203,
          139.42263506866536,
          139.0485465411678,
          138.21106459939102,
          137.5125254573408,
          136.03522627908555,
          135.59069140709954,
          134.92193357868612,
          135.0084932177924,
          134.68937200519142,
          134.85897191171392,
          134.73948026046585,
          135.25799132535988,
          135.51914811040763,
          136.47479334318012,
          135.9751646007907,
          136.01173916091474,
          135.60944812772476,
          135.53417560385202,
          135.14924291512756,
          135.31186344124228,
          134.67210916951794,
          134.77469382187138,
          134.64473140886872,
          134.62461046298958,
          134.93768664719315,
          134.71012340945524,
          134.83281883945529,
          134.40880099446076,
          134.35956263896185,
          133.8967887116084,
          133.83896167698657,
          133.50237598827724,
          133.42082311854506,
          133.25488947441525,
          133.63236613571556,
          133.70117808957946,
          134.20744817627892,
          134.2733034872774,
          135.00504435134195,
          135.16671161762437,
          136.57004854418517,
          136.68129954134977,
          137.6505108897143,
          138.00964142706954,
          139.36270237290697,
          136.94345448419196,
          137.15201782583503,
          136.14499110415244,
          136.5897192166938,
          136.51289475416735,
          137.25748006226488,
          137.37139701902115,
          138.1487658668611,
          138.69087409172698,
          139.88350690262232,
          140.95509039814507,
          142.7043603617441,
          143.71034075038682,
          145.61183448488433,
          146.44401265214796,
          148.2251064634707,
          149.40709316634266,
          151.29024484164262,
          152.87258641953784,
          156.3953395953904,
          156.02817964458748,
          156.6960338074105,
          156.3083417751309,
          157.0269888709951,
          157.15406308947024,
          158.13818643973897,
          158.2510670226894,
          159.06255687746668,
          159.26487362821578,
          159.03582471246162,
          159.30389549435816,
          159.78234515245435,
          160.1517527022581,
          160.95430157364166,
          160.92617247748333,
          161.08894058854943
         ]
        }
       ],
       "layout": {
        "template": {
         "data": {
          "bar": [
           {
            "error_x": {
             "color": "#2a3f5f"
            },
            "error_y": {
             "color": "#2a3f5f"
            },
            "marker": {
             "line": {
              "color": "#E5ECF6",
              "width": 0.5
             },
             "pattern": {
              "fillmode": "overlay",
              "size": 10,
              "solidity": 0.2
             }
            },
            "type": "bar"
           }
          ],
          "barpolar": [
           {
            "marker": {
             "line": {
              "color": "#E5ECF6",
              "width": 0.5
             },
             "pattern": {
              "fillmode": "overlay",
              "size": 10,
              "solidity": 0.2
             }
            },
            "type": "barpolar"
           }
          ],
          "carpet": [
           {
            "aaxis": {
             "endlinecolor": "#2a3f5f",
             "gridcolor": "white",
             "linecolor": "white",
             "minorgridcolor": "white",
             "startlinecolor": "#2a3f5f"
            },
            "baxis": {
             "endlinecolor": "#2a3f5f",
             "gridcolor": "white",
             "linecolor": "white",
             "minorgridcolor": "white",
             "startlinecolor": "#2a3f5f"
            },
            "type": "carpet"
           }
          ],
          "choropleth": [
           {
            "colorbar": {
             "outlinewidth": 0,
             "ticks": ""
            },
            "type": "choropleth"
           }
          ],
          "contour": [
           {
            "colorbar": {
             "outlinewidth": 0,
             "ticks": ""
            },
            "colorscale": [
             [
              0,
              "#0d0887"
             ],
             [
              0.1111111111111111,
              "#46039f"
             ],
             [
              0.2222222222222222,
              "#7201a8"
             ],
             [
              0.3333333333333333,
              "#9c179e"
             ],
             [
              0.4444444444444444,
              "#bd3786"
             ],
             [
              0.5555555555555556,
              "#d8576b"
             ],
             [
              0.6666666666666666,
              "#ed7953"
             ],
             [
              0.7777777777777778,
              "#fb9f3a"
             ],
             [
              0.8888888888888888,
              "#fdca26"
             ],
             [
              1,
              "#f0f921"
             ]
            ],
            "type": "contour"
           }
          ],
          "contourcarpet": [
           {
            "colorbar": {
             "outlinewidth": 0,
             "ticks": ""
            },
            "type": "contourcarpet"
           }
          ],
          "heatmap": [
           {
            "colorbar": {
             "outlinewidth": 0,
             "ticks": ""
            },
            "colorscale": [
             [
              0,
              "#0d0887"
             ],
             [
              0.1111111111111111,
              "#46039f"
             ],
             [
              0.2222222222222222,
              "#7201a8"
             ],
             [
              0.3333333333333333,
              "#9c179e"
             ],
             [
              0.4444444444444444,
              "#bd3786"
             ],
             [
              0.5555555555555556,
              "#d8576b"
             ],
             [
              0.6666666666666666,
              "#ed7953"
             ],
             [
              0.7777777777777778,
              "#fb9f3a"
             ],
             [
              0.8888888888888888,
              "#fdca26"
             ],
             [
              1,
              "#f0f921"
             ]
            ],
            "type": "heatmap"
           }
          ],
          "heatmapgl": [
           {
            "colorbar": {
             "outlinewidth": 0,
             "ticks": ""
            },
            "colorscale": [
             [
              0,
              "#0d0887"
             ],
             [
              0.1111111111111111,
              "#46039f"
             ],
             [
              0.2222222222222222,
              "#7201a8"
             ],
             [
              0.3333333333333333,
              "#9c179e"
             ],
             [
              0.4444444444444444,
              "#bd3786"
             ],
             [
              0.5555555555555556,
              "#d8576b"
             ],
             [
              0.6666666666666666,
              "#ed7953"
             ],
             [
              0.7777777777777778,
              "#fb9f3a"
             ],
             [
              0.8888888888888888,
              "#fdca26"
             ],
             [
              1,
              "#f0f921"
             ]
            ],
            "type": "heatmapgl"
           }
          ],
          "histogram": [
           {
            "marker": {
             "pattern": {
              "fillmode": "overlay",
              "size": 10,
              "solidity": 0.2
             }
            },
            "type": "histogram"
           }
          ],
          "histogram2d": [
           {
            "colorbar": {
             "outlinewidth": 0,
             "ticks": ""
            },
            "colorscale": [
             [
              0,
              "#0d0887"
             ],
             [
              0.1111111111111111,
              "#46039f"
             ],
             [
              0.2222222222222222,
              "#7201a8"
             ],
             [
              0.3333333333333333,
              "#9c179e"
             ],
             [
              0.4444444444444444,
              "#bd3786"
             ],
             [
              0.5555555555555556,
              "#d8576b"
             ],
             [
              0.6666666666666666,
              "#ed7953"
             ],
             [
              0.7777777777777778,
              "#fb9f3a"
             ],
             [
              0.8888888888888888,
              "#fdca26"
             ],
             [
              1,
              "#f0f921"
             ]
            ],
            "type": "histogram2d"
           }
          ],
          "histogram2dcontour": [
           {
            "colorbar": {
             "outlinewidth": 0,
             "ticks": ""
            },
            "colorscale": [
             [
              0,
              "#0d0887"
             ],
             [
              0.1111111111111111,
              "#46039f"
             ],
             [
              0.2222222222222222,
              "#7201a8"
             ],
             [
              0.3333333333333333,
              "#9c179e"
             ],
             [
              0.4444444444444444,
              "#bd3786"
             ],
             [
              0.5555555555555556,
              "#d8576b"
             ],
             [
              0.6666666666666666,
              "#ed7953"
             ],
             [
              0.7777777777777778,
              "#fb9f3a"
             ],
             [
              0.8888888888888888,
              "#fdca26"
             ],
             [
              1,
              "#f0f921"
             ]
            ],
            "type": "histogram2dcontour"
           }
          ],
          "mesh3d": [
           {
            "colorbar": {
             "outlinewidth": 0,
             "ticks": ""
            },
            "type": "mesh3d"
           }
          ],
          "parcoords": [
           {
            "line": {
             "colorbar": {
              "outlinewidth": 0,
              "ticks": ""
             }
            },
            "type": "parcoords"
           }
          ],
          "pie": [
           {
            "automargin": true,
            "type": "pie"
           }
          ],
          "scatter": [
           {
            "fillpattern": {
             "fillmode": "overlay",
             "size": 10,
             "solidity": 0.2
            },
            "type": "scatter"
           }
          ],
          "scatter3d": [
           {
            "line": {
             "colorbar": {
              "outlinewidth": 0,
              "ticks": ""
             }
            },
            "marker": {
             "colorbar": {
              "outlinewidth": 0,
              "ticks": ""
             }
            },
            "type": "scatter3d"
           }
          ],
          "scattercarpet": [
           {
            "marker": {
             "colorbar": {
              "outlinewidth": 0,
              "ticks": ""
             }
            },
            "type": "scattercarpet"
           }
          ],
          "scattergeo": [
           {
            "marker": {
             "colorbar": {
              "outlinewidth": 0,
              "ticks": ""
             }
            },
            "type": "scattergeo"
           }
          ],
          "scattergl": [
           {
            "marker": {
             "colorbar": {
              "outlinewidth": 0,
              "ticks": ""
             }
            },
            "type": "scattergl"
           }
          ],
          "scattermapbox": [
           {
            "marker": {
             "colorbar": {
              "outlinewidth": 0,
              "ticks": ""
             }
            },
            "type": "scattermapbox"
           }
          ],
          "scatterpolar": [
           {
            "marker": {
             "colorbar": {
              "outlinewidth": 0,
              "ticks": ""
             }
            },
            "type": "scatterpolar"
           }
          ],
          "scatterpolargl": [
           {
            "marker": {
             "colorbar": {
              "outlinewidth": 0,
              "ticks": ""
             }
            },
            "type": "scatterpolargl"
           }
          ],
          "scatterternary": [
           {
            "marker": {
             "colorbar": {
              "outlinewidth": 0,
              "ticks": ""
             }
            },
            "type": "scatterternary"
           }
          ],
          "surface": [
           {
            "colorbar": {
             "outlinewidth": 0,
             "ticks": ""
            },
            "colorscale": [
             [
              0,
              "#0d0887"
             ],
             [
              0.1111111111111111,
              "#46039f"
             ],
             [
              0.2222222222222222,
              "#7201a8"
             ],
             [
              0.3333333333333333,
              "#9c179e"
             ],
             [
              0.4444444444444444,
              "#bd3786"
             ],
             [
              0.5555555555555556,
              "#d8576b"
             ],
             [
              0.6666666666666666,
              "#ed7953"
             ],
             [
              0.7777777777777778,
              "#fb9f3a"
             ],
             [
              0.8888888888888888,
              "#fdca26"
             ],
             [
              1,
              "#f0f921"
             ]
            ],
            "type": "surface"
           }
          ],
          "table": [
           {
            "cells": {
             "fill": {
              "color": "#EBF0F8"
             },
             "line": {
              "color": "white"
             }
            },
            "header": {
             "fill": {
              "color": "#C8D4E3"
             },
             "line": {
              "color": "white"
             }
            },
            "type": "table"
           }
          ]
         },
         "layout": {
          "annotationdefaults": {
           "arrowcolor": "#2a3f5f",
           "arrowhead": 0,
           "arrowwidth": 1
          },
          "autotypenumbers": "strict",
          "coloraxis": {
           "colorbar": {
            "outlinewidth": 0,
            "ticks": ""
           }
          },
          "colorscale": {
           "diverging": [
            [
             0,
             "#8e0152"
            ],
            [
             0.1,
             "#c51b7d"
            ],
            [
             0.2,
             "#de77ae"
            ],
            [
             0.3,
             "#f1b6da"
            ],
            [
             0.4,
             "#fde0ef"
            ],
            [
             0.5,
             "#f7f7f7"
            ],
            [
             0.6,
             "#e6f5d0"
            ],
            [
             0.7,
             "#b8e186"
            ],
            [
             0.8,
             "#7fbc41"
            ],
            [
             0.9,
             "#4d9221"
            ],
            [
             1,
             "#276419"
            ]
           ],
           "sequential": [
            [
             0,
             "#0d0887"
            ],
            [
             0.1111111111111111,
             "#46039f"
            ],
            [
             0.2222222222222222,
             "#7201a8"
            ],
            [
             0.3333333333333333,
             "#9c179e"
            ],
            [
             0.4444444444444444,
             "#bd3786"
            ],
            [
             0.5555555555555556,
             "#d8576b"
            ],
            [
             0.6666666666666666,
             "#ed7953"
            ],
            [
             0.7777777777777778,
             "#fb9f3a"
            ],
            [
             0.8888888888888888,
             "#fdca26"
            ],
            [
             1,
             "#f0f921"
            ]
           ],
           "sequentialminus": [
            [
             0,
             "#0d0887"
            ],
            [
             0.1111111111111111,
             "#46039f"
            ],
            [
             0.2222222222222222,
             "#7201a8"
            ],
            [
             0.3333333333333333,
             "#9c179e"
            ],
            [
             0.4444444444444444,
             "#bd3786"
            ],
            [
             0.5555555555555556,
             "#d8576b"
            ],
            [
             0.6666666666666666,
             "#ed7953"
            ],
            [
             0.7777777777777778,
             "#fb9f3a"
            ],
            [
             0.8888888888888888,
             "#fdca26"
            ],
            [
             1,
             "#f0f921"
            ]
           ]
          },
          "colorway": [
           "#636efa",
           "#EF553B",
           "#00cc96",
           "#ab63fa",
           "#FFA15A",
           "#19d3f3",
           "#FF6692",
           "#B6E880",
           "#FF97FF",
           "#FECB52"
          ],
          "font": {
           "color": "#2a3f5f"
          },
          "geo": {
           "bgcolor": "white",
           "lakecolor": "white",
           "landcolor": "#E5ECF6",
           "showlakes": true,
           "showland": true,
           "subunitcolor": "white"
          },
          "hoverlabel": {
           "align": "left"
          },
          "hovermode": "closest",
          "mapbox": {
           "style": "light"
          },
          "paper_bgcolor": "white",
          "plot_bgcolor": "#E5ECF6",
          "polar": {
           "angularaxis": {
            "gridcolor": "white",
            "linecolor": "white",
            "ticks": ""
           },
           "bgcolor": "#E5ECF6",
           "radialaxis": {
            "gridcolor": "white",
            "linecolor": "white",
            "ticks": ""
           }
          },
          "scene": {
           "xaxis": {
            "backgroundcolor": "#E5ECF6",
            "gridcolor": "white",
            "gridwidth": 2,
            "linecolor": "white",
            "showbackground": true,
            "ticks": "",
            "zerolinecolor": "white"
           },
           "yaxis": {
            "backgroundcolor": "#E5ECF6",
            "gridcolor": "white",
            "gridwidth": 2,
            "linecolor": "white",
            "showbackground": true,
            "ticks": "",
            "zerolinecolor": "white"
           },
           "zaxis": {
            "backgroundcolor": "#E5ECF6",
            "gridcolor": "white",
            "gridwidth": 2,
            "linecolor": "white",
            "showbackground": true,
            "ticks": "",
            "zerolinecolor": "white"
           }
          },
          "shapedefaults": {
           "line": {
            "color": "#2a3f5f"
           }
          },
          "ternary": {
           "aaxis": {
            "gridcolor": "white",
            "linecolor": "white",
            "ticks": ""
           },
           "baxis": {
            "gridcolor": "white",
            "linecolor": "white",
            "ticks": ""
           },
           "bgcolor": "#E5ECF6",
           "caxis": {
            "gridcolor": "white",
            "linecolor": "white",
            "ticks": ""
           }
          },
          "title": {
           "x": 0.05
          },
          "xaxis": {
           "automargin": true,
           "gridcolor": "white",
           "linecolor": "white",
           "ticks": "",
           "title": {
            "standoff": 15
           },
           "zerolinecolor": "white",
           "zerolinewidth": 2
          },
          "yaxis": {
           "automargin": true,
           "gridcolor": "white",
           "linecolor": "white",
           "ticks": "",
           "title": {
            "standoff": 15
           },
           "zerolinecolor": "white",
           "zerolinewidth": 2
          }
         }
        },
        "title": {
         "text": "Precio de SAP.DE"
        },
        "xaxis": {
         "title": {
          "text": "Fecha"
         }
        },
        "yaxis": {
         "title": {
          "text": "Precio"
         }
        }
       }
      }
     },
     "metadata": {},
     "output_type": "display_data"
    }
   ],
   "source": [
    "#Definimos la accion especifica a analizar con su ticket utilizando las funciones previamente definidas utilizando Yahoo Finance\n",
    "name_stock = \"SAP.DE\"\n",
    "graph_stock_tecnico(name_stock,'2023-09-01',2) \n",
    "graph_stock_tecnico_var(name_stock,'2023-09-01',2)"
   ]
  },
  {
   "cell_type": "code",
   "execution_count": 190,
   "metadata": {},
   "outputs": [],
   "source": [
    "#Guardamos la clase Stock en un archivo PKL\n",
    "with open('dic_stocks.pkl', 'wb') as archivo_pickle:\n",
    "    pickle.dump(dic_stocks, archivo_pickle)"
   ]
  },
  {
   "cell_type": "code",
   "execution_count": 191,
   "metadata": {},
   "outputs": [
    {
     "name": "stdout",
     "output_type": "stream",
     "text": [
      "dict_keys(['International Business Machines (IBM)', 'Microsoft Corporation (MSFT)', 'Alphabet Inc Class C (GOOG)', 'Amazon.com Inc (AMZN)', 'Oracle Corporation (ORCL)', 'SAP SE ADR (SAP)'])\n"
     ]
    }
   ],
   "source": [
    "#Abrimos el archivo PKL con el objeto Stock que tiene almacenado las acciones\n",
    "with open('dic_stocks.pkl', 'rb') as archivo_pickle:\n",
    "    # Cargar el diccionario desde el archivo usando pickle\n",
    "    dic_stocks_pkl = pickle.load(archivo_pickle)\n",
    "print(dic_stocks_pkl.keys())"
   ]
  },
  {
   "cell_type": "code",
   "execution_count": 193,
   "metadata": {},
   "outputs": [
    {
     "data": {
      "text/html": [
       "<div>\n",
       "<style scoped>\n",
       "    .dataframe tbody tr th:only-of-type {\n",
       "        vertical-align: middle;\n",
       "    }\n",
       "\n",
       "    .dataframe tbody tr th {\n",
       "        vertical-align: top;\n",
       "    }\n",
       "\n",
       "    .dataframe thead th {\n",
       "        text-align: right;\n",
       "    }\n",
       "</style>\n",
       "<table border=\"1\" class=\"dataframe\">\n",
       "  <thead>\n",
       "    <tr style=\"text-align: right;\">\n",
       "      <th>Período terminado:</th>\n",
       "      <th>Ingresos totales</th>\n",
       "      <th>Ingresos</th>\n",
       "      <th>Otros ingresos de explotación</th>\n",
       "      <th>Consumos y otros gastos externos</th>\n",
       "      <th>Beneficio bruto</th>\n",
       "      <th>Total gastos de explotación</th>\n",
       "      <th>Gastos de personal</th>\n",
       "      <th>Investigación y desarrollo</th>\n",
       "      <th>Amortizaciones</th>\n",
       "      <th>Gastos financieros (ingresos) - Neto de Operaciones</th>\n",
       "      <th>...</th>\n",
       "      <th>Resultado procedente de las operaciones continuadas (neto de minoritarios)</th>\n",
       "      <th>Ajuste del resultado</th>\n",
       "      <th>Resultado del ejercicio</th>\n",
       "      <th>Resultado promedio ponderado por acción</th>\n",
       "      <th>Beneficio por acción del periodo</th>\n",
       "      <th>Dividendo por acción</th>\n",
       "      <th>UPA - Utilidades por acción</th>\n",
       "      <th>Margen_bruto(%)</th>\n",
       "      <th>Margen_explotacion(%)</th>\n",
       "      <th>Margen_gnetas(%)</th>\n",
       "    </tr>\n",
       "  </thead>\n",
       "  <tbody>\n",
       "    <tr>\n",
       "      <th>2023-06-30</th>\n",
       "      <td>211915.0</td>\n",
       "      <td>211915.0</td>\n",
       "      <td>NaN</td>\n",
       "      <td>65711.0</td>\n",
       "      <td>146204.0</td>\n",
       "      <td>122440.0</td>\n",
       "      <td>29534.0</td>\n",
       "      <td>27195.0</td>\n",
       "      <td>13861.0</td>\n",
       "      <td>-1995.0</td>\n",
       "      <td>...</td>\n",
       "      <td>72361.0</td>\n",
       "      <td>32.04</td>\n",
       "      <td>72328.96</td>\n",
       "      <td>7472.0</td>\n",
       "      <td>9.68</td>\n",
       "      <td>2.72</td>\n",
       "      <td>7.53</td>\n",
       "      <td>68.991813</td>\n",
       "      <td>42.222117</td>\n",
       "      <td>34.131119</td>\n",
       "    </tr>\n",
       "    <tr>\n",
       "      <th>2022-06-30</th>\n",
       "      <td>198270.0</td>\n",
       "      <td>198270.0</td>\n",
       "      <td>NaN</td>\n",
       "      <td>62650.0</td>\n",
       "      <td>135620.0</td>\n",
       "      <td>114887.0</td>\n",
       "      <td>27725.0</td>\n",
       "      <td>24512.0</td>\n",
       "      <td>NaN</td>\n",
       "      <td>-2047.0</td>\n",
       "      <td>...</td>\n",
       "      <td>72738.0</td>\n",
       "      <td>-23.00</td>\n",
       "      <td>72761.00</td>\n",
       "      <td>7540.0</td>\n",
       "      <td>9.65</td>\n",
       "      <td>2.48</td>\n",
       "      <td>6.90</td>\n",
       "      <td>68.401674</td>\n",
       "      <td>42.055278</td>\n",
       "      <td>36.697937</td>\n",
       "    </tr>\n",
       "    <tr>\n",
       "      <th>2021-06-30</th>\n",
       "      <td>168088.0</td>\n",
       "      <td>168088.0</td>\n",
       "      <td>NaN</td>\n",
       "      <td>52232.0</td>\n",
       "      <td>115856.0</td>\n",
       "      <td>98172.0</td>\n",
       "      <td>25224.0</td>\n",
       "      <td>20716.0</td>\n",
       "      <td>NaN</td>\n",
       "      <td>-2330.0</td>\n",
       "      <td>...</td>\n",
       "      <td>61271.0</td>\n",
       "      <td>26.60</td>\n",
       "      <td>61244.40</td>\n",
       "      <td>7608.0</td>\n",
       "      <td>8.05</td>\n",
       "      <td>2.24</td>\n",
       "      <td>5.74</td>\n",
       "      <td>68.925801</td>\n",
       "      <td>41.594879</td>\n",
       "      <td>36.435915</td>\n",
       "    </tr>\n",
       "    <tr>\n",
       "      <th>2020-06-30</th>\n",
       "      <td>143015.0</td>\n",
       "      <td>143015.0</td>\n",
       "      <td>NaN</td>\n",
       "      <td>46078.0</td>\n",
       "      <td>96937.0</td>\n",
       "      <td>90189.0</td>\n",
       "      <td>24709.0</td>\n",
       "      <td>19269.0</td>\n",
       "      <td>NaN</td>\n",
       "      <td>NaN</td>\n",
       "      <td>...</td>\n",
       "      <td>44281.0</td>\n",
       "      <td>NaN</td>\n",
       "      <td>44281.00</td>\n",
       "      <td>7683.0</td>\n",
       "      <td>5.76</td>\n",
       "      <td>1.99</td>\n",
       "      <td>5.80</td>\n",
       "      <td>67.781002</td>\n",
       "      <td>36.937384</td>\n",
       "      <td>30.962486</td>\n",
       "    </tr>\n",
       "  </tbody>\n",
       "</table>\n",
       "<p>4 rows × 36 columns</p>\n",
       "</div>"
      ],
      "text/plain": [
       "Período terminado:  Ingresos totales  Ingresos  Otros ingresos de explotación  \\\n",
       "2023-06-30                  211915.0  211915.0                            NaN   \n",
       "2022-06-30                  198270.0  198270.0                            NaN   \n",
       "2021-06-30                  168088.0  168088.0                            NaN   \n",
       "2020-06-30                  143015.0  143015.0                            NaN   \n",
       "\n",
       "Período terminado:  Consumos y otros gastos externos  Beneficio bruto  \\\n",
       "2023-06-30                                   65711.0         146204.0   \n",
       "2022-06-30                                   62650.0         135620.0   \n",
       "2021-06-30                                   52232.0         115856.0   \n",
       "2020-06-30                                   46078.0          96937.0   \n",
       "\n",
       "Período terminado:  Total gastos de explotación  Gastos de personal  \\\n",
       "2023-06-30                             122440.0             29534.0   \n",
       "2022-06-30                             114887.0             27725.0   \n",
       "2021-06-30                              98172.0             25224.0   \n",
       "2020-06-30                              90189.0             24709.0   \n",
       "\n",
       "Período terminado:  Investigación y desarrollo  Amortizaciones  \\\n",
       "2023-06-30                             27195.0         13861.0   \n",
       "2022-06-30                             24512.0             NaN   \n",
       "2021-06-30                             20716.0             NaN   \n",
       "2020-06-30                             19269.0             NaN   \n",
       "\n",
       "Período terminado:  Gastos financieros (ingresos) - Neto de Operaciones  ...  \\\n",
       "2023-06-30                                                    -1995.0    ...   \n",
       "2022-06-30                                                    -2047.0    ...   \n",
       "2021-06-30                                                    -2330.0    ...   \n",
       "2020-06-30                                                        NaN    ...   \n",
       "\n",
       "Período terminado:  Resultado procedente de las operaciones continuadas (neto de minoritarios)  \\\n",
       "2023-06-30                                                    72361.0                            \n",
       "2022-06-30                                                    72738.0                            \n",
       "2021-06-30                                                    61271.0                            \n",
       "2020-06-30                                                    44281.0                            \n",
       "\n",
       "Período terminado:  Ajuste del resultado  Resultado del ejercicio  \\\n",
       "2023-06-30                         32.04                 72328.96   \n",
       "2022-06-30                        -23.00                 72761.00   \n",
       "2021-06-30                         26.60                 61244.40   \n",
       "2020-06-30                           NaN                 44281.00   \n",
       "\n",
       "Período terminado:  Resultado promedio ponderado por acción  \\\n",
       "2023-06-30                                           7472.0   \n",
       "2022-06-30                                           7540.0   \n",
       "2021-06-30                                           7608.0   \n",
       "2020-06-30                                           7683.0   \n",
       "\n",
       "Período terminado:  Beneficio por acción del periodo  Dividendo por acción  \\\n",
       "2023-06-30                                      9.68                  2.72   \n",
       "2022-06-30                                      9.65                  2.48   \n",
       "2021-06-30                                      8.05                  2.24   \n",
       "2020-06-30                                      5.76                  1.99   \n",
       "\n",
       "Período terminado:  UPA - Utilidades por acción  Margen_bruto(%)  \\\n",
       "2023-06-30                                 7.53        68.991813   \n",
       "2022-06-30                                 6.90        68.401674   \n",
       "2021-06-30                                 5.74        68.925801   \n",
       "2020-06-30                                 5.80        67.781002   \n",
       "\n",
       "Período terminado:  Margen_explotacion(%)  Margen_gnetas(%)  \n",
       "2023-06-30                      42.222117         34.131119  \n",
       "2022-06-30                      42.055278         36.697937  \n",
       "2021-06-30                      41.594879         36.435915  \n",
       "2020-06-30                      36.937384         30.962486  \n",
       "\n",
       "[4 rows x 36 columns]"
      ]
     },
     "execution_count": 193,
     "metadata": {},
     "output_type": "execute_result"
    }
   ],
   "source": [
    "# Definimos la accion del objeto para acceder a los reportes\n",
    "stock_pk0 = list(dic_stocks_pkl.keys())[1]\n",
    "dic_stocks_pkl[stock_pk0].df_resultados"
   ]
  },
  {
   "cell_type": "code",
   "execution_count": 194,
   "metadata": {},
   "outputs": [
    {
     "data": {
      "text/html": [
       "<div>\n",
       "<style scoped>\n",
       "    .dataframe tbody tr th:only-of-type {\n",
       "        vertical-align: middle;\n",
       "    }\n",
       "\n",
       "    .dataframe tbody tr th {\n",
       "        vertical-align: top;\n",
       "    }\n",
       "\n",
       "    .dataframe thead th {\n",
       "        text-align: right;\n",
       "    }\n",
       "</style>\n",
       "<table border=\"1\" class=\"dataframe\">\n",
       "  <thead>\n",
       "    <tr style=\"text-align: right;\">\n",
       "      <th>Período terminado:</th>\n",
       "      <th>Total activos corrientes</th>\n",
       "      <th>Efectivo y inversiones a corto plazo</th>\n",
       "      <th>Tesorería</th>\n",
       "      <th>Efectivo y equivalentes</th>\n",
       "      <th>Inversiones a corto plazo</th>\n",
       "      <th>Deudores comerciales y otras cuentas corrientes a cobrar</th>\n",
       "      <th>Deudores comerciales y otras cuentas a cobrar</th>\n",
       "      <th>Existencias</th>\n",
       "      <th>Pagos por adelantado</th>\n",
       "      <th>Otros activos corrientes</th>\n",
       "      <th>...</th>\n",
       "      <th>ESOP Acciones a empleados</th>\n",
       "      <th>Ganancia (Pérdida) acumuladas</th>\n",
       "      <th>Diferencias de conversión</th>\n",
       "      <th>Total pasivo y patrimonio neto</th>\n",
       "      <th>Acciones comunes en circulación</th>\n",
       "      <th>Accciones preferidas en circulación</th>\n",
       "      <th>Ratio solvencia</th>\n",
       "      <th>Ratio liquidez</th>\n",
       "      <th>Endeudamiento a largo plazo</th>\n",
       "      <th>Ratio endeudamiento total</th>\n",
       "    </tr>\n",
       "  </thead>\n",
       "  <tbody>\n",
       "    <tr>\n",
       "      <th>2023-06-30</th>\n",
       "      <td>184257.0</td>\n",
       "      <td>111256.0</td>\n",
       "      <td>NaN</td>\n",
       "      <td>34704.0</td>\n",
       "      <td>76552.0</td>\n",
       "      <td>57888.0</td>\n",
       "      <td>48688.0</td>\n",
       "      <td>2500.0</td>\n",
       "      <td>NaN</td>\n",
       "      <td>12613.0</td>\n",
       "      <td>...</td>\n",
       "      <td>NaN</td>\n",
       "      <td>NaN</td>\n",
       "      <td>-6343.0</td>\n",
       "      <td>411976.0</td>\n",
       "      <td>7432.0</td>\n",
       "      <td>NaN</td>\n",
       "      <td>2.002284</td>\n",
       "      <td>1.769167</td>\n",
       "      <td>0.246626</td>\n",
       "      <td>0.499430</td>\n",
       "    </tr>\n",
       "    <tr>\n",
       "      <th>2022-06-30</th>\n",
       "      <td>169684.0</td>\n",
       "      <td>104749.0</td>\n",
       "      <td>NaN</td>\n",
       "      <td>13931.0</td>\n",
       "      <td>90818.0</td>\n",
       "      <td>50361.0</td>\n",
       "      <td>44261.0</td>\n",
       "      <td>3742.0</td>\n",
       "      <td>NaN</td>\n",
       "      <td>10832.0</td>\n",
       "      <td>...</td>\n",
       "      <td>NaN</td>\n",
       "      <td>NaN</td>\n",
       "      <td>-4678.0</td>\n",
       "      <td>364840.0</td>\n",
       "      <td>7464.0</td>\n",
       "      <td>NaN</td>\n",
       "      <td>1.839857</td>\n",
       "      <td>1.784607</td>\n",
       "      <td>0.282908</td>\n",
       "      <td>0.543520</td>\n",
       "    </tr>\n",
       "    <tr>\n",
       "      <th>2021-06-30</th>\n",
       "      <td>184406.0</td>\n",
       "      <td>130256.0</td>\n",
       "      <td>NaN</td>\n",
       "      <td>14224.0</td>\n",
       "      <td>116032.0</td>\n",
       "      <td>38043.0</td>\n",
       "      <td>38043.0</td>\n",
       "      <td>2636.0</td>\n",
       "      <td>NaN</td>\n",
       "      <td>13471.0</td>\n",
       "      <td>...</td>\n",
       "      <td>NaN</td>\n",
       "      <td>3222.0</td>\n",
       "      <td>1822.0</td>\n",
       "      <td>333779.0</td>\n",
       "      <td>7519.0</td>\n",
       "      <td>NaN</td>\n",
       "      <td>1.740327</td>\n",
       "      <td>2.079994</td>\n",
       "      <td>0.308989</td>\n",
       "      <td>0.574605</td>\n",
       "    </tr>\n",
       "    <tr>\n",
       "      <th>2020-06-30</th>\n",
       "      <td>181915.0</td>\n",
       "      <td>136527.0</td>\n",
       "      <td>NaN</td>\n",
       "      <td>13576.0</td>\n",
       "      <td>122951.0</td>\n",
       "      <td>32011.0</td>\n",
       "      <td>32011.0</td>\n",
       "      <td>1895.0</td>\n",
       "      <td>NaN</td>\n",
       "      <td>11482.0</td>\n",
       "      <td>...</td>\n",
       "      <td>NaN</td>\n",
       "      <td>5478.0</td>\n",
       "      <td>-2292.0</td>\n",
       "      <td>301311.0</td>\n",
       "      <td>7571.0</td>\n",
       "      <td>NaN</td>\n",
       "      <td>1.646445</td>\n",
       "      <td>2.515765</td>\n",
       "      <td>0.367385</td>\n",
       "      <td>0.607369</td>\n",
       "    </tr>\n",
       "  </tbody>\n",
       "</table>\n",
       "<p>4 rows × 51 columns</p>\n",
       "</div>"
      ],
      "text/plain": [
       "Período terminado:  Total activos corrientes  \\\n",
       "2023-06-30                          184257.0   \n",
       "2022-06-30                          169684.0   \n",
       "2021-06-30                          184406.0   \n",
       "2020-06-30                          181915.0   \n",
       "\n",
       "Período terminado:  Efectivo y inversiones a corto plazo  Tesorería  \\\n",
       "2023-06-30                                      111256.0        NaN   \n",
       "2022-06-30                                      104749.0        NaN   \n",
       "2021-06-30                                      130256.0        NaN   \n",
       "2020-06-30                                      136527.0        NaN   \n",
       "\n",
       "Período terminado:  Efectivo y equivalentes  Inversiones a corto plazo  \\\n",
       "2023-06-30                          34704.0                    76552.0   \n",
       "2022-06-30                          13931.0                    90818.0   \n",
       "2021-06-30                          14224.0                   116032.0   \n",
       "2020-06-30                          13576.0                   122951.0   \n",
       "\n",
       "Período terminado:  Deudores comerciales y otras cuentas corrientes a cobrar  \\\n",
       "2023-06-30                                                    57888.0          \n",
       "2022-06-30                                                    50361.0          \n",
       "2021-06-30                                                    38043.0          \n",
       "2020-06-30                                                    32011.0          \n",
       "\n",
       "Período terminado:  Deudores comerciales y otras cuentas a cobrar  \\\n",
       "2023-06-30                                                48688.0   \n",
       "2022-06-30                                                44261.0   \n",
       "2021-06-30                                                38043.0   \n",
       "2020-06-30                                                32011.0   \n",
       "\n",
       "Período terminado:  Existencias  Pagos por adelantado  \\\n",
       "2023-06-30               2500.0                   NaN   \n",
       "2022-06-30               3742.0                   NaN   \n",
       "2021-06-30               2636.0                   NaN   \n",
       "2020-06-30               1895.0                   NaN   \n",
       "\n",
       "Período terminado:  Otros activos corrientes  ...  ESOP Acciones a empleados  \\\n",
       "2023-06-30                           12613.0  ...                        NaN   \n",
       "2022-06-30                           10832.0  ...                        NaN   \n",
       "2021-06-30                           13471.0  ...                        NaN   \n",
       "2020-06-30                           11482.0  ...                        NaN   \n",
       "\n",
       "Período terminado:  Ganancia (Pérdida) acumuladas  Diferencias de conversión  \\\n",
       "2023-06-30                                    NaN                    -6343.0   \n",
       "2022-06-30                                    NaN                    -4678.0   \n",
       "2021-06-30                                 3222.0                     1822.0   \n",
       "2020-06-30                                 5478.0                    -2292.0   \n",
       "\n",
       "Período terminado:  Total pasivo y patrimonio neto  \\\n",
       "2023-06-30                                411976.0   \n",
       "2022-06-30                                364840.0   \n",
       "2021-06-30                                333779.0   \n",
       "2020-06-30                                301311.0   \n",
       "\n",
       "Período terminado:  Acciones comunes en circulación  \\\n",
       "2023-06-30                                   7432.0   \n",
       "2022-06-30                                   7464.0   \n",
       "2021-06-30                                   7519.0   \n",
       "2020-06-30                                   7571.0   \n",
       "\n",
       "Período terminado:  Accciones preferidas en circulación  Ratio solvencia  \\\n",
       "2023-06-30                                          NaN         2.002284   \n",
       "2022-06-30                                          NaN         1.839857   \n",
       "2021-06-30                                          NaN         1.740327   \n",
       "2020-06-30                                          NaN         1.646445   \n",
       "\n",
       "Período terminado:  Ratio liquidez  Endeudamiento a largo plazo  \\\n",
       "2023-06-30                1.769167                     0.246626   \n",
       "2022-06-30                1.784607                     0.282908   \n",
       "2021-06-30                2.079994                     0.308989   \n",
       "2020-06-30                2.515765                     0.367385   \n",
       "\n",
       "Período terminado:  Ratio endeudamiento total  \n",
       "2023-06-30                           0.499430  \n",
       "2022-06-30                           0.543520  \n",
       "2021-06-30                           0.574605  \n",
       "2020-06-30                           0.607369  \n",
       "\n",
       "[4 rows x 51 columns]"
      ]
     },
     "execution_count": 194,
     "metadata": {},
     "output_type": "execute_result"
    }
   ],
   "source": [
    "dic_stocks_pkl[stock_pk0].df_balance"
   ]
  },
  {
   "cell_type": "code",
   "execution_count": 195,
   "metadata": {},
   "outputs": [
    {
     "data": {
      "text/html": [
       "<div>\n",
       "<style scoped>\n",
       "    .dataframe tbody tr th:only-of-type {\n",
       "        vertical-align: middle;\n",
       "    }\n",
       "\n",
       "    .dataframe tbody tr th {\n",
       "        vertical-align: top;\n",
       "    }\n",
       "\n",
       "    .dataframe thead th {\n",
       "        text-align: right;\n",
       "    }\n",
       "</style>\n",
       "<table border=\"1\" class=\"dataframe\">\n",
       "  <thead>\n",
       "    <tr style=\"text-align: right;\">\n",
       "      <th>Período terminado:</th>\n",
       "      <th>Resultado consolidado del ejercicio</th>\n",
       "      <th>Flujos de efectivo de las actividades de explotación</th>\n",
       "      <th>Depreciación</th>\n",
       "      <th>Amortización</th>\n",
       "      <th>Impuestos diferidos</th>\n",
       "      <th>Otros ajustes</th>\n",
       "      <th>Ingresos en efectivo</th>\n",
       "      <th>Pagos en efectivo</th>\n",
       "      <th>Cobros y (pagos) por impuestos sobre beneficios</th>\n",
       "      <th>Pago de intereses</th>\n",
       "      <th>...</th>\n",
       "      <th>Distribución de dividendos</th>\n",
       "      <th>Adquisición de instrumentos de capital propio</th>\n",
       "      <th>Pasivos subordinados</th>\n",
       "      <th>Efecto de las variaciones de los tipos de cambio</th>\n",
       "      <th>Variación neta del efectivo y equivalentes</th>\n",
       "      <th>Saldo de efectivo a la apertura</th>\n",
       "      <th>Saldo de efectivo al cierre</th>\n",
       "      <th>Flujo de caja libre</th>\n",
       "      <th>Crecimiento del flujo de caja libre</th>\n",
       "      <th>Rendimiento del flujo de caja libre</th>\n",
       "    </tr>\n",
       "  </thead>\n",
       "  <tbody>\n",
       "    <tr>\n",
       "      <th>2023-06-30</th>\n",
       "      <td>72361.0</td>\n",
       "      <td>87582.0</td>\n",
       "      <td>11000.0</td>\n",
       "      <td>2500.0</td>\n",
       "      <td>-6059.0</td>\n",
       "      <td>4109.0</td>\n",
       "      <td>NaN</td>\n",
       "      <td>NaN</td>\n",
       "      <td>23100.0</td>\n",
       "      <td>1700.0</td>\n",
       "      <td>...</td>\n",
       "      <td>-19800.0</td>\n",
       "      <td>-20379.0</td>\n",
       "      <td>-2750.0</td>\n",
       "      <td>169.0</td>\n",
       "      <td>20773.0</td>\n",
       "      <td>13931.0</td>\n",
       "      <td>34704.0</td>\n",
       "      <td>47864.00</td>\n",
       "      <td>-3.26</td>\n",
       "      <td>2.35</td>\n",
       "    </tr>\n",
       "    <tr>\n",
       "      <th>2022-06-30</th>\n",
       "      <td>72738.0</td>\n",
       "      <td>89035.0</td>\n",
       "      <td>12600.0</td>\n",
       "      <td>2000.0</td>\n",
       "      <td>-5702.0</td>\n",
       "      <td>1251.0</td>\n",
       "      <td>NaN</td>\n",
       "      <td>NaN</td>\n",
       "      <td>16000.0</td>\n",
       "      <td>1900.0</td>\n",
       "      <td>...</td>\n",
       "      <td>-18135.0</td>\n",
       "      <td>-30855.0</td>\n",
       "      <td>-9023.0</td>\n",
       "      <td>232.0</td>\n",
       "      <td>-293.0</td>\n",
       "      <td>14224.0</td>\n",
       "      <td>13931.0</td>\n",
       "      <td>49479.00</td>\n",
       "      <td>19.70</td>\n",
       "      <td>3.38</td>\n",
       "    </tr>\n",
       "    <tr>\n",
       "      <th>2021-06-30</th>\n",
       "      <td>61271.0</td>\n",
       "      <td>76740.0</td>\n",
       "      <td>10900.0</td>\n",
       "      <td>1600.0</td>\n",
       "      <td>-150.0</td>\n",
       "      <td>5505.0</td>\n",
       "      <td>NaN</td>\n",
       "      <td>NaN</td>\n",
       "      <td>13400.0</td>\n",
       "      <td>2000.0</td>\n",
       "      <td>...</td>\n",
       "      <td>-16521.0</td>\n",
       "      <td>-25692.0</td>\n",
       "      <td>-3750.0</td>\n",
       "      <td>133.0</td>\n",
       "      <td>648.0</td>\n",
       "      <td>13576.0</td>\n",
       "      <td>14224.0</td>\n",
       "      <td>41337.25</td>\n",
       "      <td>20.66</td>\n",
       "      <td>2.74</td>\n",
       "    </tr>\n",
       "    <tr>\n",
       "      <th>2020-06-30</th>\n",
       "      <td>44281.0</td>\n",
       "      <td>60675.0</td>\n",
       "      <td>12796.0</td>\n",
       "      <td>NaN</td>\n",
       "      <td>11.0</td>\n",
       "      <td>5070.0</td>\n",
       "      <td>NaN</td>\n",
       "      <td>NaN</td>\n",
       "      <td>12500.0</td>\n",
       "      <td>2400.0</td>\n",
       "      <td>...</td>\n",
       "      <td>-15137.0</td>\n",
       "      <td>-21625.0</td>\n",
       "      <td>-5518.0</td>\n",
       "      <td>-201.0</td>\n",
       "      <td>2220.0</td>\n",
       "      <td>NaN</td>\n",
       "      <td>NaN</td>\n",
       "      <td>NaN</td>\n",
       "      <td>NaN</td>\n",
       "      <td>NaN</td>\n",
       "    </tr>\n",
       "  </tbody>\n",
       "</table>\n",
       "<p>4 rows × 26 columns</p>\n",
       "</div>"
      ],
      "text/plain": [
       "Período terminado:  Resultado consolidado del ejercicio  \\\n",
       "2023-06-30                                      72361.0   \n",
       "2022-06-30                                      72738.0   \n",
       "2021-06-30                                      61271.0   \n",
       "2020-06-30                                      44281.0   \n",
       "\n",
       "Período terminado:  Flujos de efectivo de las actividades de explotación  \\\n",
       "2023-06-30                                                    87582.0      \n",
       "2022-06-30                                                    89035.0      \n",
       "2021-06-30                                                    76740.0      \n",
       "2020-06-30                                                    60675.0      \n",
       "\n",
       "Período terminado:  Depreciación  Amortización  Impuestos diferidos  \\\n",
       "2023-06-30               11000.0        2500.0              -6059.0   \n",
       "2022-06-30               12600.0        2000.0              -5702.0   \n",
       "2021-06-30               10900.0        1600.0               -150.0   \n",
       "2020-06-30               12796.0           NaN                 11.0   \n",
       "\n",
       "Período terminado:  Otros ajustes  Ingresos en efectivo  Pagos en efectivo  \\\n",
       "2023-06-30                 4109.0                   NaN                NaN   \n",
       "2022-06-30                 1251.0                   NaN                NaN   \n",
       "2021-06-30                 5505.0                   NaN                NaN   \n",
       "2020-06-30                 5070.0                   NaN                NaN   \n",
       "\n",
       "Período terminado:  Cobros y (pagos) por impuestos sobre beneficios  \\\n",
       "2023-06-30                                                  23100.0   \n",
       "2022-06-30                                                  16000.0   \n",
       "2021-06-30                                                  13400.0   \n",
       "2020-06-30                                                  12500.0   \n",
       "\n",
       "Período terminado:  Pago de intereses  ...  Distribución de dividendos  \\\n",
       "2023-06-30                     1700.0  ...                    -19800.0   \n",
       "2022-06-30                     1900.0  ...                    -18135.0   \n",
       "2021-06-30                     2000.0  ...                    -16521.0   \n",
       "2020-06-30                     2400.0  ...                    -15137.0   \n",
       "\n",
       "Período terminado:  Adquisición de instrumentos de capital propio  \\\n",
       "2023-06-30                                               -20379.0   \n",
       "2022-06-30                                               -30855.0   \n",
       "2021-06-30                                               -25692.0   \n",
       "2020-06-30                                               -21625.0   \n",
       "\n",
       "Período terminado:  Pasivos subordinados  \\\n",
       "2023-06-30                       -2750.0   \n",
       "2022-06-30                       -9023.0   \n",
       "2021-06-30                       -3750.0   \n",
       "2020-06-30                       -5518.0   \n",
       "\n",
       "Período terminado:  Efecto de las variaciones de los tipos de cambio  \\\n",
       "2023-06-30                                                     169.0   \n",
       "2022-06-30                                                     232.0   \n",
       "2021-06-30                                                     133.0   \n",
       "2020-06-30                                                    -201.0   \n",
       "\n",
       "Período terminado:  Variación neta del efectivo y equivalentes  \\\n",
       "2023-06-30                                             20773.0   \n",
       "2022-06-30                                              -293.0   \n",
       "2021-06-30                                               648.0   \n",
       "2020-06-30                                              2220.0   \n",
       "\n",
       "Período terminado:  Saldo de efectivo a la apertura  \\\n",
       "2023-06-30                                  13931.0   \n",
       "2022-06-30                                  14224.0   \n",
       "2021-06-30                                  13576.0   \n",
       "2020-06-30                                      NaN   \n",
       "\n",
       "Período terminado:  Saldo de efectivo al cierre  Flujo de caja libre  \\\n",
       "2023-06-30                              34704.0             47864.00   \n",
       "2022-06-30                              13931.0             49479.00   \n",
       "2021-06-30                              14224.0             41337.25   \n",
       "2020-06-30                                  NaN                  NaN   \n",
       "\n",
       "Período terminado:  Crecimiento del flujo de caja libre  \\\n",
       "2023-06-30                                        -3.26   \n",
       "2022-06-30                                        19.70   \n",
       "2021-06-30                                        20.66   \n",
       "2020-06-30                                          NaN   \n",
       "\n",
       "Período terminado:  Rendimiento del flujo de caja libre  \n",
       "2023-06-30                                         2.35  \n",
       "2022-06-30                                         3.38  \n",
       "2021-06-30                                         2.74  \n",
       "2020-06-30                                          NaN  \n",
       "\n",
       "[4 rows x 26 columns]"
      ]
     },
     "execution_count": 195,
     "metadata": {},
     "output_type": "execute_result"
    }
   ],
   "source": [
    "dic_stocks_pkl[stock_pk0].df_flujo_caja"
   ]
  },
  {
   "cell_type": "code",
   "execution_count": 196,
   "metadata": {},
   "outputs": [
    {
     "data": {
      "text/html": [
       "<div>\n",
       "<style scoped>\n",
       "    .dataframe tbody tr th:only-of-type {\n",
       "        vertical-align: middle;\n",
       "    }\n",
       "\n",
       "    .dataframe tbody tr th {\n",
       "        vertical-align: top;\n",
       "    }\n",
       "\n",
       "    .dataframe thead th {\n",
       "        text-align: right;\n",
       "    }\n",
       "</style>\n",
       "<table border=\"1\" class=\"dataframe\">\n",
       "  <thead>\n",
       "    <tr style=\"text-align: right;\">\n",
       "      <th></th>\n",
       "      <th>Fecha de pago</th>\n",
       "      <th>Rendimiento</th>\n",
       "    </tr>\n",
       "  </thead>\n",
       "  <tbody>\n",
       "    <tr>\n",
       "      <th>0</th>\n",
       "      <td>2024-03-14</td>\n",
       "      <td>0.74</td>\n",
       "    </tr>\n",
       "    <tr>\n",
       "      <th>1</th>\n",
       "      <td>2023-12-14</td>\n",
       "      <td>0.81</td>\n",
       "    </tr>\n",
       "    <tr>\n",
       "      <th>2</th>\n",
       "      <td>2023-09-14</td>\n",
       "      <td>0.85</td>\n",
       "    </tr>\n",
       "    <tr>\n",
       "      <th>3</th>\n",
       "      <td>2023-06-08</td>\n",
       "      <td>0.87</td>\n",
       "    </tr>\n",
       "    <tr>\n",
       "      <th>4</th>\n",
       "      <td>2023-03-09</td>\n",
       "      <td>1.00</td>\n",
       "    </tr>\n",
       "    <tr>\n",
       "      <th>5</th>\n",
       "      <td>2022-12-08</td>\n",
       "      <td>1.12</td>\n",
       "    </tr>\n",
       "    <tr>\n",
       "      <th>6</th>\n",
       "      <td>2022-09-08</td>\n",
       "      <td>0.85</td>\n",
       "    </tr>\n",
       "    <tr>\n",
       "      <th>7</th>\n",
       "      <td>2022-06-09</td>\n",
       "      <td>0.93</td>\n",
       "    </tr>\n",
       "    <tr>\n",
       "      <th>8</th>\n",
       "      <td>2022-03-10</td>\n",
       "      <td>0.83</td>\n",
       "    </tr>\n",
       "    <tr>\n",
       "      <th>9</th>\n",
       "      <td>2021-12-09</td>\n",
       "      <td>0.73</td>\n",
       "    </tr>\n",
       "    <tr>\n",
       "      <th>10</th>\n",
       "      <td>2021-09-09</td>\n",
       "      <td>0.76</td>\n",
       "    </tr>\n",
       "    <tr>\n",
       "      <th>11</th>\n",
       "      <td>2021-06-10</td>\n",
       "      <td>0.92</td>\n",
       "    </tr>\n",
       "  </tbody>\n",
       "</table>\n",
       "</div>"
      ],
      "text/plain": [
       "   Fecha de pago  Rendimiento\n",
       "0     2024-03-14         0.74\n",
       "1     2023-12-14         0.81\n",
       "2     2023-09-14         0.85\n",
       "3     2023-06-08         0.87\n",
       "4     2023-03-09         1.00\n",
       "5     2022-12-08         1.12\n",
       "6     2022-09-08         0.85\n",
       "7     2022-06-09         0.93\n",
       "8     2022-03-10         0.83\n",
       "9     2021-12-09         0.73\n",
       "10    2021-09-09         0.76\n",
       "11    2021-06-10         0.92"
      ]
     },
     "execution_count": 196,
     "metadata": {},
     "output_type": "execute_result"
    }
   ],
   "source": [
    "dic_stocks_pkl[stock_pk0].df_dividendos"
   ]
  },
  {
   "cell_type": "code",
   "execution_count": 197,
   "metadata": {},
   "outputs": [
    {
     "data": {
      "application/vnd.plotly.v1+json": {
       "config": {
        "plotlyServerURL": "https://plot.ly"
       },
       "data": [
        {
         "name": "International Business Machines (IBM)",
         "type": "scatter",
         "x": [
          "2023-12-31T00:00:00",
          "2022-12-31T00:00:00",
          "2021-12-31T00:00:00",
          "2020-12-31T00:00:00"
         ],
         "y": [
          55.44778532169414,
          54.0029737320337,
          54.900524838276574,
          55.93613512386959
         ]
        },
        {
         "name": "Microsoft Corporation (MSFT)",
         "type": "scatter",
         "x": [
          "2023-06-30T00:00:00",
          "2022-06-30T00:00:00",
          "2021-06-30T00:00:00",
          "2020-06-30T00:00:00"
         ],
         "y": [
          68.99181275511408,
          68.4016744842891,
          68.9258007710247,
          67.78100199279797
         ]
        },
        {
         "name": "Alphabet Inc Class C (GOOG)",
         "type": "scatter",
         "x": [
          "2023-12-31T00:00:00",
          "2022-12-31T00:00:00",
          "2021-12-31T00:00:00",
          "2020-12-31T00:00:00"
         ],
         "y": [
          56.93735076156333,
          55.37944250378312,
          56.93980290098084,
          53.57837470620785
         ]
        },
        {
         "name": "Amazon.com Inc (AMZN)",
         "type": "scatter",
         "x": [
          "2023-12-31T00:00:00",
          "2022-12-31T00:00:00",
          "2021-12-31T00:00:00",
          "2020-12-31T00:00:00"
         ],
         "y": [
          46.98208895500057,
          43.80533986532629,
          42.0325144416396,
          39.56779186870571
         ]
        },
        {
         "name": "Oracle Corporation (ORCL)",
         "type": "scatter",
         "x": [
          "2023-05-31T00:00:00",
          "2022-05-31T00:00:00",
          "2021-05-31T00:00:00",
          "2020-05-31T00:00:00"
         ],
         "y": [
          72.84701925771711,
          79.08341187558906,
          80.5948763556412,
          79.68158083341865
         ]
        },
        {
         "name": "SAP SE ADR (SAP)",
         "type": "scatter",
         "x": [
          "2023-12-31T00:00:00",
          "2022-12-31T00:00:00",
          "2021-12-31T00:00:00",
          "2020-12-31T00:00:00"
         ],
         "y": [
          72.41324061909187,
          71.80434078393262,
          72.25774010487753,
          71.15736337698442
         ]
        }
       ],
       "layout": {
        "template": {
         "data": {
          "bar": [
           {
            "error_x": {
             "color": "#2a3f5f"
            },
            "error_y": {
             "color": "#2a3f5f"
            },
            "marker": {
             "line": {
              "color": "#E5ECF6",
              "width": 0.5
             },
             "pattern": {
              "fillmode": "overlay",
              "size": 10,
              "solidity": 0.2
             }
            },
            "type": "bar"
           }
          ],
          "barpolar": [
           {
            "marker": {
             "line": {
              "color": "#E5ECF6",
              "width": 0.5
             },
             "pattern": {
              "fillmode": "overlay",
              "size": 10,
              "solidity": 0.2
             }
            },
            "type": "barpolar"
           }
          ],
          "carpet": [
           {
            "aaxis": {
             "endlinecolor": "#2a3f5f",
             "gridcolor": "white",
             "linecolor": "white",
             "minorgridcolor": "white",
             "startlinecolor": "#2a3f5f"
            },
            "baxis": {
             "endlinecolor": "#2a3f5f",
             "gridcolor": "white",
             "linecolor": "white",
             "minorgridcolor": "white",
             "startlinecolor": "#2a3f5f"
            },
            "type": "carpet"
           }
          ],
          "choropleth": [
           {
            "colorbar": {
             "outlinewidth": 0,
             "ticks": ""
            },
            "type": "choropleth"
           }
          ],
          "contour": [
           {
            "colorbar": {
             "outlinewidth": 0,
             "ticks": ""
            },
            "colorscale": [
             [
              0,
              "#0d0887"
             ],
             [
              0.1111111111111111,
              "#46039f"
             ],
             [
              0.2222222222222222,
              "#7201a8"
             ],
             [
              0.3333333333333333,
              "#9c179e"
             ],
             [
              0.4444444444444444,
              "#bd3786"
             ],
             [
              0.5555555555555556,
              "#d8576b"
             ],
             [
              0.6666666666666666,
              "#ed7953"
             ],
             [
              0.7777777777777778,
              "#fb9f3a"
             ],
             [
              0.8888888888888888,
              "#fdca26"
             ],
             [
              1,
              "#f0f921"
             ]
            ],
            "type": "contour"
           }
          ],
          "contourcarpet": [
           {
            "colorbar": {
             "outlinewidth": 0,
             "ticks": ""
            },
            "type": "contourcarpet"
           }
          ],
          "heatmap": [
           {
            "colorbar": {
             "outlinewidth": 0,
             "ticks": ""
            },
            "colorscale": [
             [
              0,
              "#0d0887"
             ],
             [
              0.1111111111111111,
              "#46039f"
             ],
             [
              0.2222222222222222,
              "#7201a8"
             ],
             [
              0.3333333333333333,
              "#9c179e"
             ],
             [
              0.4444444444444444,
              "#bd3786"
             ],
             [
              0.5555555555555556,
              "#d8576b"
             ],
             [
              0.6666666666666666,
              "#ed7953"
             ],
             [
              0.7777777777777778,
              "#fb9f3a"
             ],
             [
              0.8888888888888888,
              "#fdca26"
             ],
             [
              1,
              "#f0f921"
             ]
            ],
            "type": "heatmap"
           }
          ],
          "heatmapgl": [
           {
            "colorbar": {
             "outlinewidth": 0,
             "ticks": ""
            },
            "colorscale": [
             [
              0,
              "#0d0887"
             ],
             [
              0.1111111111111111,
              "#46039f"
             ],
             [
              0.2222222222222222,
              "#7201a8"
             ],
             [
              0.3333333333333333,
              "#9c179e"
             ],
             [
              0.4444444444444444,
              "#bd3786"
             ],
             [
              0.5555555555555556,
              "#d8576b"
             ],
             [
              0.6666666666666666,
              "#ed7953"
             ],
             [
              0.7777777777777778,
              "#fb9f3a"
             ],
             [
              0.8888888888888888,
              "#fdca26"
             ],
             [
              1,
              "#f0f921"
             ]
            ],
            "type": "heatmapgl"
           }
          ],
          "histogram": [
           {
            "marker": {
             "pattern": {
              "fillmode": "overlay",
              "size": 10,
              "solidity": 0.2
             }
            },
            "type": "histogram"
           }
          ],
          "histogram2d": [
           {
            "colorbar": {
             "outlinewidth": 0,
             "ticks": ""
            },
            "colorscale": [
             [
              0,
              "#0d0887"
             ],
             [
              0.1111111111111111,
              "#46039f"
             ],
             [
              0.2222222222222222,
              "#7201a8"
             ],
             [
              0.3333333333333333,
              "#9c179e"
             ],
             [
              0.4444444444444444,
              "#bd3786"
             ],
             [
              0.5555555555555556,
              "#d8576b"
             ],
             [
              0.6666666666666666,
              "#ed7953"
             ],
             [
              0.7777777777777778,
              "#fb9f3a"
             ],
             [
              0.8888888888888888,
              "#fdca26"
             ],
             [
              1,
              "#f0f921"
             ]
            ],
            "type": "histogram2d"
           }
          ],
          "histogram2dcontour": [
           {
            "colorbar": {
             "outlinewidth": 0,
             "ticks": ""
            },
            "colorscale": [
             [
              0,
              "#0d0887"
             ],
             [
              0.1111111111111111,
              "#46039f"
             ],
             [
              0.2222222222222222,
              "#7201a8"
             ],
             [
              0.3333333333333333,
              "#9c179e"
             ],
             [
              0.4444444444444444,
              "#bd3786"
             ],
             [
              0.5555555555555556,
              "#d8576b"
             ],
             [
              0.6666666666666666,
              "#ed7953"
             ],
             [
              0.7777777777777778,
              "#fb9f3a"
             ],
             [
              0.8888888888888888,
              "#fdca26"
             ],
             [
              1,
              "#f0f921"
             ]
            ],
            "type": "histogram2dcontour"
           }
          ],
          "mesh3d": [
           {
            "colorbar": {
             "outlinewidth": 0,
             "ticks": ""
            },
            "type": "mesh3d"
           }
          ],
          "parcoords": [
           {
            "line": {
             "colorbar": {
              "outlinewidth": 0,
              "ticks": ""
             }
            },
            "type": "parcoords"
           }
          ],
          "pie": [
           {
            "automargin": true,
            "type": "pie"
           }
          ],
          "scatter": [
           {
            "fillpattern": {
             "fillmode": "overlay",
             "size": 10,
             "solidity": 0.2
            },
            "type": "scatter"
           }
          ],
          "scatter3d": [
           {
            "line": {
             "colorbar": {
              "outlinewidth": 0,
              "ticks": ""
             }
            },
            "marker": {
             "colorbar": {
              "outlinewidth": 0,
              "ticks": ""
             }
            },
            "type": "scatter3d"
           }
          ],
          "scattercarpet": [
           {
            "marker": {
             "colorbar": {
              "outlinewidth": 0,
              "ticks": ""
             }
            },
            "type": "scattercarpet"
           }
          ],
          "scattergeo": [
           {
            "marker": {
             "colorbar": {
              "outlinewidth": 0,
              "ticks": ""
             }
            },
            "type": "scattergeo"
           }
          ],
          "scattergl": [
           {
            "marker": {
             "colorbar": {
              "outlinewidth": 0,
              "ticks": ""
             }
            },
            "type": "scattergl"
           }
          ],
          "scattermapbox": [
           {
            "marker": {
             "colorbar": {
              "outlinewidth": 0,
              "ticks": ""
             }
            },
            "type": "scattermapbox"
           }
          ],
          "scatterpolar": [
           {
            "marker": {
             "colorbar": {
              "outlinewidth": 0,
              "ticks": ""
             }
            },
            "type": "scatterpolar"
           }
          ],
          "scatterpolargl": [
           {
            "marker": {
             "colorbar": {
              "outlinewidth": 0,
              "ticks": ""
             }
            },
            "type": "scatterpolargl"
           }
          ],
          "scatterternary": [
           {
            "marker": {
             "colorbar": {
              "outlinewidth": 0,
              "ticks": ""
             }
            },
            "type": "scatterternary"
           }
          ],
          "surface": [
           {
            "colorbar": {
             "outlinewidth": 0,
             "ticks": ""
            },
            "colorscale": [
             [
              0,
              "#0d0887"
             ],
             [
              0.1111111111111111,
              "#46039f"
             ],
             [
              0.2222222222222222,
              "#7201a8"
             ],
             [
              0.3333333333333333,
              "#9c179e"
             ],
             [
              0.4444444444444444,
              "#bd3786"
             ],
             [
              0.5555555555555556,
              "#d8576b"
             ],
             [
              0.6666666666666666,
              "#ed7953"
             ],
             [
              0.7777777777777778,
              "#fb9f3a"
             ],
             [
              0.8888888888888888,
              "#fdca26"
             ],
             [
              1,
              "#f0f921"
             ]
            ],
            "type": "surface"
           }
          ],
          "table": [
           {
            "cells": {
             "fill": {
              "color": "#EBF0F8"
             },
             "line": {
              "color": "white"
             }
            },
            "header": {
             "fill": {
              "color": "#C8D4E3"
             },
             "line": {
              "color": "white"
             }
            },
            "type": "table"
           }
          ]
         },
         "layout": {
          "annotationdefaults": {
           "arrowcolor": "#2a3f5f",
           "arrowhead": 0,
           "arrowwidth": 1
          },
          "autotypenumbers": "strict",
          "coloraxis": {
           "colorbar": {
            "outlinewidth": 0,
            "ticks": ""
           }
          },
          "colorscale": {
           "diverging": [
            [
             0,
             "#8e0152"
            ],
            [
             0.1,
             "#c51b7d"
            ],
            [
             0.2,
             "#de77ae"
            ],
            [
             0.3,
             "#f1b6da"
            ],
            [
             0.4,
             "#fde0ef"
            ],
            [
             0.5,
             "#f7f7f7"
            ],
            [
             0.6,
             "#e6f5d0"
            ],
            [
             0.7,
             "#b8e186"
            ],
            [
             0.8,
             "#7fbc41"
            ],
            [
             0.9,
             "#4d9221"
            ],
            [
             1,
             "#276419"
            ]
           ],
           "sequential": [
            [
             0,
             "#0d0887"
            ],
            [
             0.1111111111111111,
             "#46039f"
            ],
            [
             0.2222222222222222,
             "#7201a8"
            ],
            [
             0.3333333333333333,
             "#9c179e"
            ],
            [
             0.4444444444444444,
             "#bd3786"
            ],
            [
             0.5555555555555556,
             "#d8576b"
            ],
            [
             0.6666666666666666,
             "#ed7953"
            ],
            [
             0.7777777777777778,
             "#fb9f3a"
            ],
            [
             0.8888888888888888,
             "#fdca26"
            ],
            [
             1,
             "#f0f921"
            ]
           ],
           "sequentialminus": [
            [
             0,
             "#0d0887"
            ],
            [
             0.1111111111111111,
             "#46039f"
            ],
            [
             0.2222222222222222,
             "#7201a8"
            ],
            [
             0.3333333333333333,
             "#9c179e"
            ],
            [
             0.4444444444444444,
             "#bd3786"
            ],
            [
             0.5555555555555556,
             "#d8576b"
            ],
            [
             0.6666666666666666,
             "#ed7953"
            ],
            [
             0.7777777777777778,
             "#fb9f3a"
            ],
            [
             0.8888888888888888,
             "#fdca26"
            ],
            [
             1,
             "#f0f921"
            ]
           ]
          },
          "colorway": [
           "#636efa",
           "#EF553B",
           "#00cc96",
           "#ab63fa",
           "#FFA15A",
           "#19d3f3",
           "#FF6692",
           "#B6E880",
           "#FF97FF",
           "#FECB52"
          ],
          "font": {
           "color": "#2a3f5f"
          },
          "geo": {
           "bgcolor": "white",
           "lakecolor": "white",
           "landcolor": "#E5ECF6",
           "showlakes": true,
           "showland": true,
           "subunitcolor": "white"
          },
          "hoverlabel": {
           "align": "left"
          },
          "hovermode": "closest",
          "mapbox": {
           "style": "light"
          },
          "paper_bgcolor": "white",
          "plot_bgcolor": "#E5ECF6",
          "polar": {
           "angularaxis": {
            "gridcolor": "white",
            "linecolor": "white",
            "ticks": ""
           },
           "bgcolor": "#E5ECF6",
           "radialaxis": {
            "gridcolor": "white",
            "linecolor": "white",
            "ticks": ""
           }
          },
          "scene": {
           "xaxis": {
            "backgroundcolor": "#E5ECF6",
            "gridcolor": "white",
            "gridwidth": 2,
            "linecolor": "white",
            "showbackground": true,
            "ticks": "",
            "zerolinecolor": "white"
           },
           "yaxis": {
            "backgroundcolor": "#E5ECF6",
            "gridcolor": "white",
            "gridwidth": 2,
            "linecolor": "white",
            "showbackground": true,
            "ticks": "",
            "zerolinecolor": "white"
           },
           "zaxis": {
            "backgroundcolor": "#E5ECF6",
            "gridcolor": "white",
            "gridwidth": 2,
            "linecolor": "white",
            "showbackground": true,
            "ticks": "",
            "zerolinecolor": "white"
           }
          },
          "shapedefaults": {
           "line": {
            "color": "#2a3f5f"
           }
          },
          "ternary": {
           "aaxis": {
            "gridcolor": "white",
            "linecolor": "white",
            "ticks": ""
           },
           "baxis": {
            "gridcolor": "white",
            "linecolor": "white",
            "ticks": ""
           },
           "bgcolor": "#E5ECF6",
           "caxis": {
            "gridcolor": "white",
            "linecolor": "white",
            "ticks": ""
           }
          },
          "title": {
           "x": 0.05
          },
          "xaxis": {
           "automargin": true,
           "gridcolor": "white",
           "linecolor": "white",
           "ticks": "",
           "title": {
            "standoff": 15
           },
           "zerolinecolor": "white",
           "zerolinewidth": 2
          },
          "yaxis": {
           "automargin": true,
           "gridcolor": "white",
           "linecolor": "white",
           "ticks": "",
           "title": {
            "standoff": 15
           },
           "zerolinecolor": "white",
           "zerolinewidth": 2
          }
         }
        },
        "title": {
         "text": "Margen bruto de las acciones"
        },
        "xaxis": {
         "title": {
          "text": "Periodo terminado"
         }
        },
        "yaxis": {
         "title": {
          "text": "Margen_bruto(%)"
         }
        }
       }
      }
     },
     "metadata": {},
     "output_type": "display_data"
    }
   ],
   "source": [
    "# Comparamos los principales indicadores de las acciones que pertenecen al grupo de BI\n",
    "fig = go.Figure()\n",
    "for stock_pkl in list(dic_stocks_pkl.keys()):\n",
    "    fig.add_trace(go.Scatter(x=dic_stocks_pkl[stock_pkl].df_resultados.index , y=dic_stocks_pkl[stock_pkl].df_resultados[\"Margen_bruto(%)\"], name=stock_pkl))\n",
    "fig.update_layout(title='Margen bruto de las acciones', xaxis_title='Periodo terminado', yaxis_title=\"Margen_bruto(%)\")\n",
    "fig.show()"
   ]
  },
  {
   "cell_type": "code",
   "execution_count": 198,
   "metadata": {},
   "outputs": [
    {
     "data": {
      "application/vnd.plotly.v1+json": {
       "config": {
        "plotlyServerURL": "https://plot.ly"
       },
       "data": [
        {
         "name": "International Business Machines (IBM)",
         "type": "scatter",
         "x": [
          "2023-12-31T00:00:00",
          "2022-12-31T00:00:00",
          "2021-12-31T00:00:00",
          "2020-12-31T00:00:00"
         ],
         "y": [
          15.166505011315875,
          12.501239055014043,
          10.064340639221635,
          8.448866416571523
         ]
        },
        {
         "name": "Microsoft Corporation (MSFT)",
         "type": "scatter",
         "x": [
          "2023-06-30T00:00:00",
          "2022-06-30T00:00:00",
          "2021-06-30T00:00:00",
          "2020-06-30T00:00:00"
         ],
         "y": [
          42.222117358374824,
          42.05527815604983,
          41.5948788729713,
          36.93738419046953
         ]
        },
        {
         "name": "Alphabet Inc Class C (GOOG)",
         "type": "scatter",
         "x": [
          "2023-12-31T00:00:00",
          "2022-12-31T00:00:00",
          "2021-12-31T00:00:00",
          "2020-12-31T00:00:00"
         ],
         "y": [
          28.70127588697242,
          26.46127084246701,
          30.55228868524319,
          22.585151785763202
         ]
        },
        {
         "name": "Amazon.com Inc (AMZN)",
         "type": "scatter",
         "x": [
          "2023-12-31T00:00:00",
          "2022-12-31T00:00:00",
          "2021-12-31T00:00:00",
          "2020-12-31T00:00:00"
         ],
         "y": [
          6.41144079960333,
          2.5969730516378946,
          5.295409750926947,
          5.931399975133657
         ]
        },
        {
         "name": "Oracle Corporation (ORCL)",
         "type": "scatter",
         "x": [
          "2023-05-31T00:00:00",
          "2022-05-31T00:00:00",
          "2021-05-31T00:00:00",
          "2020-05-31T00:00:00"
         ],
         "y": [
          27.365175961884937,
          37.3138548539114,
          38.66943353343709,
          35.5687519197297
         ]
        },
        {
         "name": "SAP SE ADR (SAP)",
         "type": "scatter",
         "x": [
          "2023-12-31T00:00:00",
          "2022-12-31T00:00:00",
          "2021-12-31T00:00:00",
          "2020-12-31T00:00:00"
         ],
         "y": [
          20.331976800076905,
          16.987366375121475,
          19.244307161841824,
          23.50940083400395
         ]
        }
       ],
       "layout": {
        "template": {
         "data": {
          "bar": [
           {
            "error_x": {
             "color": "#2a3f5f"
            },
            "error_y": {
             "color": "#2a3f5f"
            },
            "marker": {
             "line": {
              "color": "#E5ECF6",
              "width": 0.5
             },
             "pattern": {
              "fillmode": "overlay",
              "size": 10,
              "solidity": 0.2
             }
            },
            "type": "bar"
           }
          ],
          "barpolar": [
           {
            "marker": {
             "line": {
              "color": "#E5ECF6",
              "width": 0.5
             },
             "pattern": {
              "fillmode": "overlay",
              "size": 10,
              "solidity": 0.2
             }
            },
            "type": "barpolar"
           }
          ],
          "carpet": [
           {
            "aaxis": {
             "endlinecolor": "#2a3f5f",
             "gridcolor": "white",
             "linecolor": "white",
             "minorgridcolor": "white",
             "startlinecolor": "#2a3f5f"
            },
            "baxis": {
             "endlinecolor": "#2a3f5f",
             "gridcolor": "white",
             "linecolor": "white",
             "minorgridcolor": "white",
             "startlinecolor": "#2a3f5f"
            },
            "type": "carpet"
           }
          ],
          "choropleth": [
           {
            "colorbar": {
             "outlinewidth": 0,
             "ticks": ""
            },
            "type": "choropleth"
           }
          ],
          "contour": [
           {
            "colorbar": {
             "outlinewidth": 0,
             "ticks": ""
            },
            "colorscale": [
             [
              0,
              "#0d0887"
             ],
             [
              0.1111111111111111,
              "#46039f"
             ],
             [
              0.2222222222222222,
              "#7201a8"
             ],
             [
              0.3333333333333333,
              "#9c179e"
             ],
             [
              0.4444444444444444,
              "#bd3786"
             ],
             [
              0.5555555555555556,
              "#d8576b"
             ],
             [
              0.6666666666666666,
              "#ed7953"
             ],
             [
              0.7777777777777778,
              "#fb9f3a"
             ],
             [
              0.8888888888888888,
              "#fdca26"
             ],
             [
              1,
              "#f0f921"
             ]
            ],
            "type": "contour"
           }
          ],
          "contourcarpet": [
           {
            "colorbar": {
             "outlinewidth": 0,
             "ticks": ""
            },
            "type": "contourcarpet"
           }
          ],
          "heatmap": [
           {
            "colorbar": {
             "outlinewidth": 0,
             "ticks": ""
            },
            "colorscale": [
             [
              0,
              "#0d0887"
             ],
             [
              0.1111111111111111,
              "#46039f"
             ],
             [
              0.2222222222222222,
              "#7201a8"
             ],
             [
              0.3333333333333333,
              "#9c179e"
             ],
             [
              0.4444444444444444,
              "#bd3786"
             ],
             [
              0.5555555555555556,
              "#d8576b"
             ],
             [
              0.6666666666666666,
              "#ed7953"
             ],
             [
              0.7777777777777778,
              "#fb9f3a"
             ],
             [
              0.8888888888888888,
              "#fdca26"
             ],
             [
              1,
              "#f0f921"
             ]
            ],
            "type": "heatmap"
           }
          ],
          "heatmapgl": [
           {
            "colorbar": {
             "outlinewidth": 0,
             "ticks": ""
            },
            "colorscale": [
             [
              0,
              "#0d0887"
             ],
             [
              0.1111111111111111,
              "#46039f"
             ],
             [
              0.2222222222222222,
              "#7201a8"
             ],
             [
              0.3333333333333333,
              "#9c179e"
             ],
             [
              0.4444444444444444,
              "#bd3786"
             ],
             [
              0.5555555555555556,
              "#d8576b"
             ],
             [
              0.6666666666666666,
              "#ed7953"
             ],
             [
              0.7777777777777778,
              "#fb9f3a"
             ],
             [
              0.8888888888888888,
              "#fdca26"
             ],
             [
              1,
              "#f0f921"
             ]
            ],
            "type": "heatmapgl"
           }
          ],
          "histogram": [
           {
            "marker": {
             "pattern": {
              "fillmode": "overlay",
              "size": 10,
              "solidity": 0.2
             }
            },
            "type": "histogram"
           }
          ],
          "histogram2d": [
           {
            "colorbar": {
             "outlinewidth": 0,
             "ticks": ""
            },
            "colorscale": [
             [
              0,
              "#0d0887"
             ],
             [
              0.1111111111111111,
              "#46039f"
             ],
             [
              0.2222222222222222,
              "#7201a8"
             ],
             [
              0.3333333333333333,
              "#9c179e"
             ],
             [
              0.4444444444444444,
              "#bd3786"
             ],
             [
              0.5555555555555556,
              "#d8576b"
             ],
             [
              0.6666666666666666,
              "#ed7953"
             ],
             [
              0.7777777777777778,
              "#fb9f3a"
             ],
             [
              0.8888888888888888,
              "#fdca26"
             ],
             [
              1,
              "#f0f921"
             ]
            ],
            "type": "histogram2d"
           }
          ],
          "histogram2dcontour": [
           {
            "colorbar": {
             "outlinewidth": 0,
             "ticks": ""
            },
            "colorscale": [
             [
              0,
              "#0d0887"
             ],
             [
              0.1111111111111111,
              "#46039f"
             ],
             [
              0.2222222222222222,
              "#7201a8"
             ],
             [
              0.3333333333333333,
              "#9c179e"
             ],
             [
              0.4444444444444444,
              "#bd3786"
             ],
             [
              0.5555555555555556,
              "#d8576b"
             ],
             [
              0.6666666666666666,
              "#ed7953"
             ],
             [
              0.7777777777777778,
              "#fb9f3a"
             ],
             [
              0.8888888888888888,
              "#fdca26"
             ],
             [
              1,
              "#f0f921"
             ]
            ],
            "type": "histogram2dcontour"
           }
          ],
          "mesh3d": [
           {
            "colorbar": {
             "outlinewidth": 0,
             "ticks": ""
            },
            "type": "mesh3d"
           }
          ],
          "parcoords": [
           {
            "line": {
             "colorbar": {
              "outlinewidth": 0,
              "ticks": ""
             }
            },
            "type": "parcoords"
           }
          ],
          "pie": [
           {
            "automargin": true,
            "type": "pie"
           }
          ],
          "scatter": [
           {
            "fillpattern": {
             "fillmode": "overlay",
             "size": 10,
             "solidity": 0.2
            },
            "type": "scatter"
           }
          ],
          "scatter3d": [
           {
            "line": {
             "colorbar": {
              "outlinewidth": 0,
              "ticks": ""
             }
            },
            "marker": {
             "colorbar": {
              "outlinewidth": 0,
              "ticks": ""
             }
            },
            "type": "scatter3d"
           }
          ],
          "scattercarpet": [
           {
            "marker": {
             "colorbar": {
              "outlinewidth": 0,
              "ticks": ""
             }
            },
            "type": "scattercarpet"
           }
          ],
          "scattergeo": [
           {
            "marker": {
             "colorbar": {
              "outlinewidth": 0,
              "ticks": ""
             }
            },
            "type": "scattergeo"
           }
          ],
          "scattergl": [
           {
            "marker": {
             "colorbar": {
              "outlinewidth": 0,
              "ticks": ""
             }
            },
            "type": "scattergl"
           }
          ],
          "scattermapbox": [
           {
            "marker": {
             "colorbar": {
              "outlinewidth": 0,
              "ticks": ""
             }
            },
            "type": "scattermapbox"
           }
          ],
          "scatterpolar": [
           {
            "marker": {
             "colorbar": {
              "outlinewidth": 0,
              "ticks": ""
             }
            },
            "type": "scatterpolar"
           }
          ],
          "scatterpolargl": [
           {
            "marker": {
             "colorbar": {
              "outlinewidth": 0,
              "ticks": ""
             }
            },
            "type": "scatterpolargl"
           }
          ],
          "scatterternary": [
           {
            "marker": {
             "colorbar": {
              "outlinewidth": 0,
              "ticks": ""
             }
            },
            "type": "scatterternary"
           }
          ],
          "surface": [
           {
            "colorbar": {
             "outlinewidth": 0,
             "ticks": ""
            },
            "colorscale": [
             [
              0,
              "#0d0887"
             ],
             [
              0.1111111111111111,
              "#46039f"
             ],
             [
              0.2222222222222222,
              "#7201a8"
             ],
             [
              0.3333333333333333,
              "#9c179e"
             ],
             [
              0.4444444444444444,
              "#bd3786"
             ],
             [
              0.5555555555555556,
              "#d8576b"
             ],
             [
              0.6666666666666666,
              "#ed7953"
             ],
             [
              0.7777777777777778,
              "#fb9f3a"
             ],
             [
              0.8888888888888888,
              "#fdca26"
             ],
             [
              1,
              "#f0f921"
             ]
            ],
            "type": "surface"
           }
          ],
          "table": [
           {
            "cells": {
             "fill": {
              "color": "#EBF0F8"
             },
             "line": {
              "color": "white"
             }
            },
            "header": {
             "fill": {
              "color": "#C8D4E3"
             },
             "line": {
              "color": "white"
             }
            },
            "type": "table"
           }
          ]
         },
         "layout": {
          "annotationdefaults": {
           "arrowcolor": "#2a3f5f",
           "arrowhead": 0,
           "arrowwidth": 1
          },
          "autotypenumbers": "strict",
          "coloraxis": {
           "colorbar": {
            "outlinewidth": 0,
            "ticks": ""
           }
          },
          "colorscale": {
           "diverging": [
            [
             0,
             "#8e0152"
            ],
            [
             0.1,
             "#c51b7d"
            ],
            [
             0.2,
             "#de77ae"
            ],
            [
             0.3,
             "#f1b6da"
            ],
            [
             0.4,
             "#fde0ef"
            ],
            [
             0.5,
             "#f7f7f7"
            ],
            [
             0.6,
             "#e6f5d0"
            ],
            [
             0.7,
             "#b8e186"
            ],
            [
             0.8,
             "#7fbc41"
            ],
            [
             0.9,
             "#4d9221"
            ],
            [
             1,
             "#276419"
            ]
           ],
           "sequential": [
            [
             0,
             "#0d0887"
            ],
            [
             0.1111111111111111,
             "#46039f"
            ],
            [
             0.2222222222222222,
             "#7201a8"
            ],
            [
             0.3333333333333333,
             "#9c179e"
            ],
            [
             0.4444444444444444,
             "#bd3786"
            ],
            [
             0.5555555555555556,
             "#d8576b"
            ],
            [
             0.6666666666666666,
             "#ed7953"
            ],
            [
             0.7777777777777778,
             "#fb9f3a"
            ],
            [
             0.8888888888888888,
             "#fdca26"
            ],
            [
             1,
             "#f0f921"
            ]
           ],
           "sequentialminus": [
            [
             0,
             "#0d0887"
            ],
            [
             0.1111111111111111,
             "#46039f"
            ],
            [
             0.2222222222222222,
             "#7201a8"
            ],
            [
             0.3333333333333333,
             "#9c179e"
            ],
            [
             0.4444444444444444,
             "#bd3786"
            ],
            [
             0.5555555555555556,
             "#d8576b"
            ],
            [
             0.6666666666666666,
             "#ed7953"
            ],
            [
             0.7777777777777778,
             "#fb9f3a"
            ],
            [
             0.8888888888888888,
             "#fdca26"
            ],
            [
             1,
             "#f0f921"
            ]
           ]
          },
          "colorway": [
           "#636efa",
           "#EF553B",
           "#00cc96",
           "#ab63fa",
           "#FFA15A",
           "#19d3f3",
           "#FF6692",
           "#B6E880",
           "#FF97FF",
           "#FECB52"
          ],
          "font": {
           "color": "#2a3f5f"
          },
          "geo": {
           "bgcolor": "white",
           "lakecolor": "white",
           "landcolor": "#E5ECF6",
           "showlakes": true,
           "showland": true,
           "subunitcolor": "white"
          },
          "hoverlabel": {
           "align": "left"
          },
          "hovermode": "closest",
          "mapbox": {
           "style": "light"
          },
          "paper_bgcolor": "white",
          "plot_bgcolor": "#E5ECF6",
          "polar": {
           "angularaxis": {
            "gridcolor": "white",
            "linecolor": "white",
            "ticks": ""
           },
           "bgcolor": "#E5ECF6",
           "radialaxis": {
            "gridcolor": "white",
            "linecolor": "white",
            "ticks": ""
           }
          },
          "scene": {
           "xaxis": {
            "backgroundcolor": "#E5ECF6",
            "gridcolor": "white",
            "gridwidth": 2,
            "linecolor": "white",
            "showbackground": true,
            "ticks": "",
            "zerolinecolor": "white"
           },
           "yaxis": {
            "backgroundcolor": "#E5ECF6",
            "gridcolor": "white",
            "gridwidth": 2,
            "linecolor": "white",
            "showbackground": true,
            "ticks": "",
            "zerolinecolor": "white"
           },
           "zaxis": {
            "backgroundcolor": "#E5ECF6",
            "gridcolor": "white",
            "gridwidth": 2,
            "linecolor": "white",
            "showbackground": true,
            "ticks": "",
            "zerolinecolor": "white"
           }
          },
          "shapedefaults": {
           "line": {
            "color": "#2a3f5f"
           }
          },
          "ternary": {
           "aaxis": {
            "gridcolor": "white",
            "linecolor": "white",
            "ticks": ""
           },
           "baxis": {
            "gridcolor": "white",
            "linecolor": "white",
            "ticks": ""
           },
           "bgcolor": "#E5ECF6",
           "caxis": {
            "gridcolor": "white",
            "linecolor": "white",
            "ticks": ""
           }
          },
          "title": {
           "x": 0.05
          },
          "xaxis": {
           "automargin": true,
           "gridcolor": "white",
           "linecolor": "white",
           "ticks": "",
           "title": {
            "standoff": 15
           },
           "zerolinecolor": "white",
           "zerolinewidth": 2
          },
          "yaxis": {
           "automargin": true,
           "gridcolor": "white",
           "linecolor": "white",
           "ticks": "",
           "title": {
            "standoff": 15
           },
           "zerolinecolor": "white",
           "zerolinewidth": 2
          }
         }
        },
        "title": {
         "text": "Margen explotacion de acciones (%)"
        },
        "xaxis": {
         "title": {
          "text": "Periodo terminado"
         }
        },
        "yaxis": {
         "title": {
          "text": "Margen explotacion (%)"
         }
        }
       }
      }
     },
     "metadata": {},
     "output_type": "display_data"
    }
   ],
   "source": [
    "fig = go.Figure()\n",
    "for stock_pkl in list(dic_stocks_pkl.keys()):\n",
    "    fig.add_trace(go.Scatter(x=dic_stocks_pkl[stock_pkl].df_resultados.index , y=dic_stocks_pkl[stock_pkl].df_resultados[\"Margen_explotacion(%)\"], name=stock_pkl))\n",
    "fig.update_layout(title='Margen explotacion de acciones (%)', xaxis_title='Periodo terminado', yaxis_title=\"Margen explotacion (%)\")\n",
    "fig.show()"
   ]
  },
  {
   "cell_type": "code",
   "execution_count": 199,
   "metadata": {},
   "outputs": [
    {
     "data": {
      "application/vnd.plotly.v1+json": {
       "config": {
        "plotlyServerURL": "https://plot.ly"
       },
       "data": [
        {
         "name": "International Business Machines (IBM)",
         "type": "scatter",
         "x": [
          "2023-12-31T00:00:00",
          "2022-12-31T00:00:00",
          "2021-12-31T00:00:00",
          "2020-12-31T00:00:00"
         ],
         "y": [
          12.148593598448109,
          2.9389063274409386,
          8.218130459800179,
          10.130665651787819
         ]
        },
        {
         "name": "Microsoft Corporation (MSFT)",
         "type": "scatter",
         "x": [
          "2023-06-30T00:00:00",
          "2022-06-30T00:00:00",
          "2021-06-30T00:00:00",
          "2020-06-30T00:00:00"
         ],
         "y": [
          34.13111860887621,
          36.69793715640288,
          36.435914520965206,
          30.962486452470024
         ]
        },
        {
         "name": "Alphabet Inc Class C (GOOG)",
         "type": "scatter",
         "x": [
          "2023-12-31T00:00:00",
          "2022-12-31T00:00:00",
          "2021-12-31T00:00:00",
          "2020-12-31T00:00:00"
         ],
         "y": [
          24.006649446638516,
          21.203807153261963,
          29.511677282377917,
          22.061941520980458
         ]
        },
        {
         "name": "Amazon.com Inc (AMZN)",
         "type": "scatter",
         "x": [
          "2023-12-31T00:00:00",
          "2022-12-31T00:00:00",
          "2021-12-31T00:00:00",
          "2020-12-31T00:00:00"
         ],
         "y": [
          5.293596736170915,
          -0.5352375467671111,
          7.100357156540136,
          5.520799660159973
         ]
        },
        {
         "name": "Oracle Corporation (ORCL)",
         "type": "scatter",
         "x": [
          "2023-05-31T00:00:00",
          "2022-05-31T00:00:00",
          "2021-05-31T00:00:00",
          "2020-05-31T00:00:00"
         ],
         "y": [
          16.99887896865116,
          15.820593779453345,
          33.968477482151236,
          25.941947373809764
         ]
        },
        {
         "name": "SAP SE ADR (SAP)",
         "type": "scatter",
         "x": [
          "2023-12-31T00:00:00",
          "2022-12-31T00:00:00",
          "2021-12-31T00:00:00",
          "2020-12-31T00:00:00"
         ],
         "y": [
          11.976800076905821,
          7.384191771946874,
          18.902377702751238,
          18.80788645840954
         ]
        }
       ],
       "layout": {
        "template": {
         "data": {
          "bar": [
           {
            "error_x": {
             "color": "#2a3f5f"
            },
            "error_y": {
             "color": "#2a3f5f"
            },
            "marker": {
             "line": {
              "color": "#E5ECF6",
              "width": 0.5
             },
             "pattern": {
              "fillmode": "overlay",
              "size": 10,
              "solidity": 0.2
             }
            },
            "type": "bar"
           }
          ],
          "barpolar": [
           {
            "marker": {
             "line": {
              "color": "#E5ECF6",
              "width": 0.5
             },
             "pattern": {
              "fillmode": "overlay",
              "size": 10,
              "solidity": 0.2
             }
            },
            "type": "barpolar"
           }
          ],
          "carpet": [
           {
            "aaxis": {
             "endlinecolor": "#2a3f5f",
             "gridcolor": "white",
             "linecolor": "white",
             "minorgridcolor": "white",
             "startlinecolor": "#2a3f5f"
            },
            "baxis": {
             "endlinecolor": "#2a3f5f",
             "gridcolor": "white",
             "linecolor": "white",
             "minorgridcolor": "white",
             "startlinecolor": "#2a3f5f"
            },
            "type": "carpet"
           }
          ],
          "choropleth": [
           {
            "colorbar": {
             "outlinewidth": 0,
             "ticks": ""
            },
            "type": "choropleth"
           }
          ],
          "contour": [
           {
            "colorbar": {
             "outlinewidth": 0,
             "ticks": ""
            },
            "colorscale": [
             [
              0,
              "#0d0887"
             ],
             [
              0.1111111111111111,
              "#46039f"
             ],
             [
              0.2222222222222222,
              "#7201a8"
             ],
             [
              0.3333333333333333,
              "#9c179e"
             ],
             [
              0.4444444444444444,
              "#bd3786"
             ],
             [
              0.5555555555555556,
              "#d8576b"
             ],
             [
              0.6666666666666666,
              "#ed7953"
             ],
             [
              0.7777777777777778,
              "#fb9f3a"
             ],
             [
              0.8888888888888888,
              "#fdca26"
             ],
             [
              1,
              "#f0f921"
             ]
            ],
            "type": "contour"
           }
          ],
          "contourcarpet": [
           {
            "colorbar": {
             "outlinewidth": 0,
             "ticks": ""
            },
            "type": "contourcarpet"
           }
          ],
          "heatmap": [
           {
            "colorbar": {
             "outlinewidth": 0,
             "ticks": ""
            },
            "colorscale": [
             [
              0,
              "#0d0887"
             ],
             [
              0.1111111111111111,
              "#46039f"
             ],
             [
              0.2222222222222222,
              "#7201a8"
             ],
             [
              0.3333333333333333,
              "#9c179e"
             ],
             [
              0.4444444444444444,
              "#bd3786"
             ],
             [
              0.5555555555555556,
              "#d8576b"
             ],
             [
              0.6666666666666666,
              "#ed7953"
             ],
             [
              0.7777777777777778,
              "#fb9f3a"
             ],
             [
              0.8888888888888888,
              "#fdca26"
             ],
             [
              1,
              "#f0f921"
             ]
            ],
            "type": "heatmap"
           }
          ],
          "heatmapgl": [
           {
            "colorbar": {
             "outlinewidth": 0,
             "ticks": ""
            },
            "colorscale": [
             [
              0,
              "#0d0887"
             ],
             [
              0.1111111111111111,
              "#46039f"
             ],
             [
              0.2222222222222222,
              "#7201a8"
             ],
             [
              0.3333333333333333,
              "#9c179e"
             ],
             [
              0.4444444444444444,
              "#bd3786"
             ],
             [
              0.5555555555555556,
              "#d8576b"
             ],
             [
              0.6666666666666666,
              "#ed7953"
             ],
             [
              0.7777777777777778,
              "#fb9f3a"
             ],
             [
              0.8888888888888888,
              "#fdca26"
             ],
             [
              1,
              "#f0f921"
             ]
            ],
            "type": "heatmapgl"
           }
          ],
          "histogram": [
           {
            "marker": {
             "pattern": {
              "fillmode": "overlay",
              "size": 10,
              "solidity": 0.2
             }
            },
            "type": "histogram"
           }
          ],
          "histogram2d": [
           {
            "colorbar": {
             "outlinewidth": 0,
             "ticks": ""
            },
            "colorscale": [
             [
              0,
              "#0d0887"
             ],
             [
              0.1111111111111111,
              "#46039f"
             ],
             [
              0.2222222222222222,
              "#7201a8"
             ],
             [
              0.3333333333333333,
              "#9c179e"
             ],
             [
              0.4444444444444444,
              "#bd3786"
             ],
             [
              0.5555555555555556,
              "#d8576b"
             ],
             [
              0.6666666666666666,
              "#ed7953"
             ],
             [
              0.7777777777777778,
              "#fb9f3a"
             ],
             [
              0.8888888888888888,
              "#fdca26"
             ],
             [
              1,
              "#f0f921"
             ]
            ],
            "type": "histogram2d"
           }
          ],
          "histogram2dcontour": [
           {
            "colorbar": {
             "outlinewidth": 0,
             "ticks": ""
            },
            "colorscale": [
             [
              0,
              "#0d0887"
             ],
             [
              0.1111111111111111,
              "#46039f"
             ],
             [
              0.2222222222222222,
              "#7201a8"
             ],
             [
              0.3333333333333333,
              "#9c179e"
             ],
             [
              0.4444444444444444,
              "#bd3786"
             ],
             [
              0.5555555555555556,
              "#d8576b"
             ],
             [
              0.6666666666666666,
              "#ed7953"
             ],
             [
              0.7777777777777778,
              "#fb9f3a"
             ],
             [
              0.8888888888888888,
              "#fdca26"
             ],
             [
              1,
              "#f0f921"
             ]
            ],
            "type": "histogram2dcontour"
           }
          ],
          "mesh3d": [
           {
            "colorbar": {
             "outlinewidth": 0,
             "ticks": ""
            },
            "type": "mesh3d"
           }
          ],
          "parcoords": [
           {
            "line": {
             "colorbar": {
              "outlinewidth": 0,
              "ticks": ""
             }
            },
            "type": "parcoords"
           }
          ],
          "pie": [
           {
            "automargin": true,
            "type": "pie"
           }
          ],
          "scatter": [
           {
            "fillpattern": {
             "fillmode": "overlay",
             "size": 10,
             "solidity": 0.2
            },
            "type": "scatter"
           }
          ],
          "scatter3d": [
           {
            "line": {
             "colorbar": {
              "outlinewidth": 0,
              "ticks": ""
             }
            },
            "marker": {
             "colorbar": {
              "outlinewidth": 0,
              "ticks": ""
             }
            },
            "type": "scatter3d"
           }
          ],
          "scattercarpet": [
           {
            "marker": {
             "colorbar": {
              "outlinewidth": 0,
              "ticks": ""
             }
            },
            "type": "scattercarpet"
           }
          ],
          "scattergeo": [
           {
            "marker": {
             "colorbar": {
              "outlinewidth": 0,
              "ticks": ""
             }
            },
            "type": "scattergeo"
           }
          ],
          "scattergl": [
           {
            "marker": {
             "colorbar": {
              "outlinewidth": 0,
              "ticks": ""
             }
            },
            "type": "scattergl"
           }
          ],
          "scattermapbox": [
           {
            "marker": {
             "colorbar": {
              "outlinewidth": 0,
              "ticks": ""
             }
            },
            "type": "scattermapbox"
           }
          ],
          "scatterpolar": [
           {
            "marker": {
             "colorbar": {
              "outlinewidth": 0,
              "ticks": ""
             }
            },
            "type": "scatterpolar"
           }
          ],
          "scatterpolargl": [
           {
            "marker": {
             "colorbar": {
              "outlinewidth": 0,
              "ticks": ""
             }
            },
            "type": "scatterpolargl"
           }
          ],
          "scatterternary": [
           {
            "marker": {
             "colorbar": {
              "outlinewidth": 0,
              "ticks": ""
             }
            },
            "type": "scatterternary"
           }
          ],
          "surface": [
           {
            "colorbar": {
             "outlinewidth": 0,
             "ticks": ""
            },
            "colorscale": [
             [
              0,
              "#0d0887"
             ],
             [
              0.1111111111111111,
              "#46039f"
             ],
             [
              0.2222222222222222,
              "#7201a8"
             ],
             [
              0.3333333333333333,
              "#9c179e"
             ],
             [
              0.4444444444444444,
              "#bd3786"
             ],
             [
              0.5555555555555556,
              "#d8576b"
             ],
             [
              0.6666666666666666,
              "#ed7953"
             ],
             [
              0.7777777777777778,
              "#fb9f3a"
             ],
             [
              0.8888888888888888,
              "#fdca26"
             ],
             [
              1,
              "#f0f921"
             ]
            ],
            "type": "surface"
           }
          ],
          "table": [
           {
            "cells": {
             "fill": {
              "color": "#EBF0F8"
             },
             "line": {
              "color": "white"
             }
            },
            "header": {
             "fill": {
              "color": "#C8D4E3"
             },
             "line": {
              "color": "white"
             }
            },
            "type": "table"
           }
          ]
         },
         "layout": {
          "annotationdefaults": {
           "arrowcolor": "#2a3f5f",
           "arrowhead": 0,
           "arrowwidth": 1
          },
          "autotypenumbers": "strict",
          "coloraxis": {
           "colorbar": {
            "outlinewidth": 0,
            "ticks": ""
           }
          },
          "colorscale": {
           "diverging": [
            [
             0,
             "#8e0152"
            ],
            [
             0.1,
             "#c51b7d"
            ],
            [
             0.2,
             "#de77ae"
            ],
            [
             0.3,
             "#f1b6da"
            ],
            [
             0.4,
             "#fde0ef"
            ],
            [
             0.5,
             "#f7f7f7"
            ],
            [
             0.6,
             "#e6f5d0"
            ],
            [
             0.7,
             "#b8e186"
            ],
            [
             0.8,
             "#7fbc41"
            ],
            [
             0.9,
             "#4d9221"
            ],
            [
             1,
             "#276419"
            ]
           ],
           "sequential": [
            [
             0,
             "#0d0887"
            ],
            [
             0.1111111111111111,
             "#46039f"
            ],
            [
             0.2222222222222222,
             "#7201a8"
            ],
            [
             0.3333333333333333,
             "#9c179e"
            ],
            [
             0.4444444444444444,
             "#bd3786"
            ],
            [
             0.5555555555555556,
             "#d8576b"
            ],
            [
             0.6666666666666666,
             "#ed7953"
            ],
            [
             0.7777777777777778,
             "#fb9f3a"
            ],
            [
             0.8888888888888888,
             "#fdca26"
            ],
            [
             1,
             "#f0f921"
            ]
           ],
           "sequentialminus": [
            [
             0,
             "#0d0887"
            ],
            [
             0.1111111111111111,
             "#46039f"
            ],
            [
             0.2222222222222222,
             "#7201a8"
            ],
            [
             0.3333333333333333,
             "#9c179e"
            ],
            [
             0.4444444444444444,
             "#bd3786"
            ],
            [
             0.5555555555555556,
             "#d8576b"
            ],
            [
             0.6666666666666666,
             "#ed7953"
            ],
            [
             0.7777777777777778,
             "#fb9f3a"
            ],
            [
             0.8888888888888888,
             "#fdca26"
            ],
            [
             1,
             "#f0f921"
            ]
           ]
          },
          "colorway": [
           "#636efa",
           "#EF553B",
           "#00cc96",
           "#ab63fa",
           "#FFA15A",
           "#19d3f3",
           "#FF6692",
           "#B6E880",
           "#FF97FF",
           "#FECB52"
          ],
          "font": {
           "color": "#2a3f5f"
          },
          "geo": {
           "bgcolor": "white",
           "lakecolor": "white",
           "landcolor": "#E5ECF6",
           "showlakes": true,
           "showland": true,
           "subunitcolor": "white"
          },
          "hoverlabel": {
           "align": "left"
          },
          "hovermode": "closest",
          "mapbox": {
           "style": "light"
          },
          "paper_bgcolor": "white",
          "plot_bgcolor": "#E5ECF6",
          "polar": {
           "angularaxis": {
            "gridcolor": "white",
            "linecolor": "white",
            "ticks": ""
           },
           "bgcolor": "#E5ECF6",
           "radialaxis": {
            "gridcolor": "white",
            "linecolor": "white",
            "ticks": ""
           }
          },
          "scene": {
           "xaxis": {
            "backgroundcolor": "#E5ECF6",
            "gridcolor": "white",
            "gridwidth": 2,
            "linecolor": "white",
            "showbackground": true,
            "ticks": "",
            "zerolinecolor": "white"
           },
           "yaxis": {
            "backgroundcolor": "#E5ECF6",
            "gridcolor": "white",
            "gridwidth": 2,
            "linecolor": "white",
            "showbackground": true,
            "ticks": "",
            "zerolinecolor": "white"
           },
           "zaxis": {
            "backgroundcolor": "#E5ECF6",
            "gridcolor": "white",
            "gridwidth": 2,
            "linecolor": "white",
            "showbackground": true,
            "ticks": "",
            "zerolinecolor": "white"
           }
          },
          "shapedefaults": {
           "line": {
            "color": "#2a3f5f"
           }
          },
          "ternary": {
           "aaxis": {
            "gridcolor": "white",
            "linecolor": "white",
            "ticks": ""
           },
           "baxis": {
            "gridcolor": "white",
            "linecolor": "white",
            "ticks": ""
           },
           "bgcolor": "#E5ECF6",
           "caxis": {
            "gridcolor": "white",
            "linecolor": "white",
            "ticks": ""
           }
          },
          "title": {
           "x": 0.05
          },
          "xaxis": {
           "automargin": true,
           "gridcolor": "white",
           "linecolor": "white",
           "ticks": "",
           "title": {
            "standoff": 15
           },
           "zerolinecolor": "white",
           "zerolinewidth": 2
          },
          "yaxis": {
           "automargin": true,
           "gridcolor": "white",
           "linecolor": "white",
           "ticks": "",
           "title": {
            "standoff": 15
           },
           "zerolinecolor": "white",
           "zerolinewidth": 2
          }
         }
        },
        "title": {
         "text": "Margen de ganancias netas de acciones"
        },
        "xaxis": {
         "title": {
          "text": "Periodo terminado"
         }
        },
        "yaxis": {
         "title": {
          "text": "Margen gnetas(%)"
         }
        }
       }
      }
     },
     "metadata": {},
     "output_type": "display_data"
    }
   ],
   "source": [
    "fig = go.Figure()\n",
    "for stock_pkl in list(dic_stocks_pkl.keys()):\n",
    "    fig.add_trace(go.Scatter(x=dic_stocks_pkl[stock_pkl].df_resultados.index , y=dic_stocks_pkl[stock_pkl].df_resultados[\"Margen_gnetas(%)\"], name=stock_pkl))\n",
    "fig.update_layout(title='Margen de ganancias netas de acciones', xaxis_title='Periodo terminado', yaxis_title=\"Margen gnetas(%)\")\n",
    "fig.show()"
   ]
  },
  {
   "cell_type": "code",
   "execution_count": 200,
   "metadata": {},
   "outputs": [
    {
     "data": {
      "application/vnd.plotly.v1+json": {
       "config": {
        "plotlyServerURL": "https://plot.ly"
       },
       "data": [
        {
         "name": "International Business Machines (IBM)",
         "type": "scatter",
         "x": [
          "2023-12-31T00:00:00",
          "2022-12-31T00:00:00",
          "2021-12-31T00:00:00",
          "2020-12-31T00:00:00"
         ],
         "y": [
          1.2007760059665447,
          1.209281328999639,
          1.1680987566921817,
          1.1521573725927623
         ]
        },
        {
         "name": "Microsoft Corporation (MSFT)",
         "type": "scatter",
         "x": [
          "2023-06-30T00:00:00",
          "2022-06-30T00:00:00",
          "2021-06-30T00:00:00",
          "2020-06-30T00:00:00"
         ],
         "y": [
          2.002284292331096,
          1.8398571846412974,
          1.740326709803901,
          1.646445217942483
         ]
        },
        {
         "name": "Alphabet Inc Class C (GOOG)",
         "type": "scatter",
         "x": [
          "2023-12-31T00:00:00",
          "2022-12-31T00:00:00",
          "2021-12-31T00:00:00",
          "2020-12-31T00:00:00"
         ],
         "y": [
          3.381076016905716,
          3.3473607038123165,
          3.337898228238551,
          3.2925663425086533
         ]
        },
        {
         "name": "Amazon.com Inc (AMZN)",
         "type": "scatter",
         "x": [
          "2023-12-31T00:00:00",
          "2022-12-31T00:00:00",
          "2021-12-31T00:00:00",
          "2020-12-31T00:00:00"
         ],
         "y": [
          1.6192883590660747,
          1.4612389145759115,
          1.48970259011562,
          1.4100425389940778
         ]
        },
        {
         "name": "Oracle Corporation (ORCL)",
         "type": "scatter",
         "x": [
          "2023-05-31T00:00:00",
          "2022-05-31T00:00:00",
          "2021-05-31T00:00:00",
          "2020-05-31T00:00:00"
         ],
         "y": [
          1.0117143975667782,
          0.9498718115847564,
          1.0475570292836882,
          1.1168104949498858
         ]
        },
        {
         "name": "SAP SE ADR (SAP)",
         "type": "scatter",
         "x": [
          "2023-12-31T00:00:00",
          "2022-12-31T00:00:00",
          "2021-12-31T00:00:00",
          "2020-12-31T00:00:00"
         ],
         "y": [
          2.739749658990612,
          2.4618402647470234,
          2.400627403359644,
          2.033671907610964
         ]
        }
       ],
       "layout": {
        "template": {
         "data": {
          "bar": [
           {
            "error_x": {
             "color": "#2a3f5f"
            },
            "error_y": {
             "color": "#2a3f5f"
            },
            "marker": {
             "line": {
              "color": "#E5ECF6",
              "width": 0.5
             },
             "pattern": {
              "fillmode": "overlay",
              "size": 10,
              "solidity": 0.2
             }
            },
            "type": "bar"
           }
          ],
          "barpolar": [
           {
            "marker": {
             "line": {
              "color": "#E5ECF6",
              "width": 0.5
             },
             "pattern": {
              "fillmode": "overlay",
              "size": 10,
              "solidity": 0.2
             }
            },
            "type": "barpolar"
           }
          ],
          "carpet": [
           {
            "aaxis": {
             "endlinecolor": "#2a3f5f",
             "gridcolor": "white",
             "linecolor": "white",
             "minorgridcolor": "white",
             "startlinecolor": "#2a3f5f"
            },
            "baxis": {
             "endlinecolor": "#2a3f5f",
             "gridcolor": "white",
             "linecolor": "white",
             "minorgridcolor": "white",
             "startlinecolor": "#2a3f5f"
            },
            "type": "carpet"
           }
          ],
          "choropleth": [
           {
            "colorbar": {
             "outlinewidth": 0,
             "ticks": ""
            },
            "type": "choropleth"
           }
          ],
          "contour": [
           {
            "colorbar": {
             "outlinewidth": 0,
             "ticks": ""
            },
            "colorscale": [
             [
              0,
              "#0d0887"
             ],
             [
              0.1111111111111111,
              "#46039f"
             ],
             [
              0.2222222222222222,
              "#7201a8"
             ],
             [
              0.3333333333333333,
              "#9c179e"
             ],
             [
              0.4444444444444444,
              "#bd3786"
             ],
             [
              0.5555555555555556,
              "#d8576b"
             ],
             [
              0.6666666666666666,
              "#ed7953"
             ],
             [
              0.7777777777777778,
              "#fb9f3a"
             ],
             [
              0.8888888888888888,
              "#fdca26"
             ],
             [
              1,
              "#f0f921"
             ]
            ],
            "type": "contour"
           }
          ],
          "contourcarpet": [
           {
            "colorbar": {
             "outlinewidth": 0,
             "ticks": ""
            },
            "type": "contourcarpet"
           }
          ],
          "heatmap": [
           {
            "colorbar": {
             "outlinewidth": 0,
             "ticks": ""
            },
            "colorscale": [
             [
              0,
              "#0d0887"
             ],
             [
              0.1111111111111111,
              "#46039f"
             ],
             [
              0.2222222222222222,
              "#7201a8"
             ],
             [
              0.3333333333333333,
              "#9c179e"
             ],
             [
              0.4444444444444444,
              "#bd3786"
             ],
             [
              0.5555555555555556,
              "#d8576b"
             ],
             [
              0.6666666666666666,
              "#ed7953"
             ],
             [
              0.7777777777777778,
              "#fb9f3a"
             ],
             [
              0.8888888888888888,
              "#fdca26"
             ],
             [
              1,
              "#f0f921"
             ]
            ],
            "type": "heatmap"
           }
          ],
          "heatmapgl": [
           {
            "colorbar": {
             "outlinewidth": 0,
             "ticks": ""
            },
            "colorscale": [
             [
              0,
              "#0d0887"
             ],
             [
              0.1111111111111111,
              "#46039f"
             ],
             [
              0.2222222222222222,
              "#7201a8"
             ],
             [
              0.3333333333333333,
              "#9c179e"
             ],
             [
              0.4444444444444444,
              "#bd3786"
             ],
             [
              0.5555555555555556,
              "#d8576b"
             ],
             [
              0.6666666666666666,
              "#ed7953"
             ],
             [
              0.7777777777777778,
              "#fb9f3a"
             ],
             [
              0.8888888888888888,
              "#fdca26"
             ],
             [
              1,
              "#f0f921"
             ]
            ],
            "type": "heatmapgl"
           }
          ],
          "histogram": [
           {
            "marker": {
             "pattern": {
              "fillmode": "overlay",
              "size": 10,
              "solidity": 0.2
             }
            },
            "type": "histogram"
           }
          ],
          "histogram2d": [
           {
            "colorbar": {
             "outlinewidth": 0,
             "ticks": ""
            },
            "colorscale": [
             [
              0,
              "#0d0887"
             ],
             [
              0.1111111111111111,
              "#46039f"
             ],
             [
              0.2222222222222222,
              "#7201a8"
             ],
             [
              0.3333333333333333,
              "#9c179e"
             ],
             [
              0.4444444444444444,
              "#bd3786"
             ],
             [
              0.5555555555555556,
              "#d8576b"
             ],
             [
              0.6666666666666666,
              "#ed7953"
             ],
             [
              0.7777777777777778,
              "#fb9f3a"
             ],
             [
              0.8888888888888888,
              "#fdca26"
             ],
             [
              1,
              "#f0f921"
             ]
            ],
            "type": "histogram2d"
           }
          ],
          "histogram2dcontour": [
           {
            "colorbar": {
             "outlinewidth": 0,
             "ticks": ""
            },
            "colorscale": [
             [
              0,
              "#0d0887"
             ],
             [
              0.1111111111111111,
              "#46039f"
             ],
             [
              0.2222222222222222,
              "#7201a8"
             ],
             [
              0.3333333333333333,
              "#9c179e"
             ],
             [
              0.4444444444444444,
              "#bd3786"
             ],
             [
              0.5555555555555556,
              "#d8576b"
             ],
             [
              0.6666666666666666,
              "#ed7953"
             ],
             [
              0.7777777777777778,
              "#fb9f3a"
             ],
             [
              0.8888888888888888,
              "#fdca26"
             ],
             [
              1,
              "#f0f921"
             ]
            ],
            "type": "histogram2dcontour"
           }
          ],
          "mesh3d": [
           {
            "colorbar": {
             "outlinewidth": 0,
             "ticks": ""
            },
            "type": "mesh3d"
           }
          ],
          "parcoords": [
           {
            "line": {
             "colorbar": {
              "outlinewidth": 0,
              "ticks": ""
             }
            },
            "type": "parcoords"
           }
          ],
          "pie": [
           {
            "automargin": true,
            "type": "pie"
           }
          ],
          "scatter": [
           {
            "fillpattern": {
             "fillmode": "overlay",
             "size": 10,
             "solidity": 0.2
            },
            "type": "scatter"
           }
          ],
          "scatter3d": [
           {
            "line": {
             "colorbar": {
              "outlinewidth": 0,
              "ticks": ""
             }
            },
            "marker": {
             "colorbar": {
              "outlinewidth": 0,
              "ticks": ""
             }
            },
            "type": "scatter3d"
           }
          ],
          "scattercarpet": [
           {
            "marker": {
             "colorbar": {
              "outlinewidth": 0,
              "ticks": ""
             }
            },
            "type": "scattercarpet"
           }
          ],
          "scattergeo": [
           {
            "marker": {
             "colorbar": {
              "outlinewidth": 0,
              "ticks": ""
             }
            },
            "type": "scattergeo"
           }
          ],
          "scattergl": [
           {
            "marker": {
             "colorbar": {
              "outlinewidth": 0,
              "ticks": ""
             }
            },
            "type": "scattergl"
           }
          ],
          "scattermapbox": [
           {
            "marker": {
             "colorbar": {
              "outlinewidth": 0,
              "ticks": ""
             }
            },
            "type": "scattermapbox"
           }
          ],
          "scatterpolar": [
           {
            "marker": {
             "colorbar": {
              "outlinewidth": 0,
              "ticks": ""
             }
            },
            "type": "scatterpolar"
           }
          ],
          "scatterpolargl": [
           {
            "marker": {
             "colorbar": {
              "outlinewidth": 0,
              "ticks": ""
             }
            },
            "type": "scatterpolargl"
           }
          ],
          "scatterternary": [
           {
            "marker": {
             "colorbar": {
              "outlinewidth": 0,
              "ticks": ""
             }
            },
            "type": "scatterternary"
           }
          ],
          "surface": [
           {
            "colorbar": {
             "outlinewidth": 0,
             "ticks": ""
            },
            "colorscale": [
             [
              0,
              "#0d0887"
             ],
             [
              0.1111111111111111,
              "#46039f"
             ],
             [
              0.2222222222222222,
              "#7201a8"
             ],
             [
              0.3333333333333333,
              "#9c179e"
             ],
             [
              0.4444444444444444,
              "#bd3786"
             ],
             [
              0.5555555555555556,
              "#d8576b"
             ],
             [
              0.6666666666666666,
              "#ed7953"
             ],
             [
              0.7777777777777778,
              "#fb9f3a"
             ],
             [
              0.8888888888888888,
              "#fdca26"
             ],
             [
              1,
              "#f0f921"
             ]
            ],
            "type": "surface"
           }
          ],
          "table": [
           {
            "cells": {
             "fill": {
              "color": "#EBF0F8"
             },
             "line": {
              "color": "white"
             }
            },
            "header": {
             "fill": {
              "color": "#C8D4E3"
             },
             "line": {
              "color": "white"
             }
            },
            "type": "table"
           }
          ]
         },
         "layout": {
          "annotationdefaults": {
           "arrowcolor": "#2a3f5f",
           "arrowhead": 0,
           "arrowwidth": 1
          },
          "autotypenumbers": "strict",
          "coloraxis": {
           "colorbar": {
            "outlinewidth": 0,
            "ticks": ""
           }
          },
          "colorscale": {
           "diverging": [
            [
             0,
             "#8e0152"
            ],
            [
             0.1,
             "#c51b7d"
            ],
            [
             0.2,
             "#de77ae"
            ],
            [
             0.3,
             "#f1b6da"
            ],
            [
             0.4,
             "#fde0ef"
            ],
            [
             0.5,
             "#f7f7f7"
            ],
            [
             0.6,
             "#e6f5d0"
            ],
            [
             0.7,
             "#b8e186"
            ],
            [
             0.8,
             "#7fbc41"
            ],
            [
             0.9,
             "#4d9221"
            ],
            [
             1,
             "#276419"
            ]
           ],
           "sequential": [
            [
             0,
             "#0d0887"
            ],
            [
             0.1111111111111111,
             "#46039f"
            ],
            [
             0.2222222222222222,
             "#7201a8"
            ],
            [
             0.3333333333333333,
             "#9c179e"
            ],
            [
             0.4444444444444444,
             "#bd3786"
            ],
            [
             0.5555555555555556,
             "#d8576b"
            ],
            [
             0.6666666666666666,
             "#ed7953"
            ],
            [
             0.7777777777777778,
             "#fb9f3a"
            ],
            [
             0.8888888888888888,
             "#fdca26"
            ],
            [
             1,
             "#f0f921"
            ]
           ],
           "sequentialminus": [
            [
             0,
             "#0d0887"
            ],
            [
             0.1111111111111111,
             "#46039f"
            ],
            [
             0.2222222222222222,
             "#7201a8"
            ],
            [
             0.3333333333333333,
             "#9c179e"
            ],
            [
             0.4444444444444444,
             "#bd3786"
            ],
            [
             0.5555555555555556,
             "#d8576b"
            ],
            [
             0.6666666666666666,
             "#ed7953"
            ],
            [
             0.7777777777777778,
             "#fb9f3a"
            ],
            [
             0.8888888888888888,
             "#fdca26"
            ],
            [
             1,
             "#f0f921"
            ]
           ]
          },
          "colorway": [
           "#636efa",
           "#EF553B",
           "#00cc96",
           "#ab63fa",
           "#FFA15A",
           "#19d3f3",
           "#FF6692",
           "#B6E880",
           "#FF97FF",
           "#FECB52"
          ],
          "font": {
           "color": "#2a3f5f"
          },
          "geo": {
           "bgcolor": "white",
           "lakecolor": "white",
           "landcolor": "#E5ECF6",
           "showlakes": true,
           "showland": true,
           "subunitcolor": "white"
          },
          "hoverlabel": {
           "align": "left"
          },
          "hovermode": "closest",
          "mapbox": {
           "style": "light"
          },
          "paper_bgcolor": "white",
          "plot_bgcolor": "#E5ECF6",
          "polar": {
           "angularaxis": {
            "gridcolor": "white",
            "linecolor": "white",
            "ticks": ""
           },
           "bgcolor": "#E5ECF6",
           "radialaxis": {
            "gridcolor": "white",
            "linecolor": "white",
            "ticks": ""
           }
          },
          "scene": {
           "xaxis": {
            "backgroundcolor": "#E5ECF6",
            "gridcolor": "white",
            "gridwidth": 2,
            "linecolor": "white",
            "showbackground": true,
            "ticks": "",
            "zerolinecolor": "white"
           },
           "yaxis": {
            "backgroundcolor": "#E5ECF6",
            "gridcolor": "white",
            "gridwidth": 2,
            "linecolor": "white",
            "showbackground": true,
            "ticks": "",
            "zerolinecolor": "white"
           },
           "zaxis": {
            "backgroundcolor": "#E5ECF6",
            "gridcolor": "white",
            "gridwidth": 2,
            "linecolor": "white",
            "showbackground": true,
            "ticks": "",
            "zerolinecolor": "white"
           }
          },
          "shapedefaults": {
           "line": {
            "color": "#2a3f5f"
           }
          },
          "ternary": {
           "aaxis": {
            "gridcolor": "white",
            "linecolor": "white",
            "ticks": ""
           },
           "baxis": {
            "gridcolor": "white",
            "linecolor": "white",
            "ticks": ""
           },
           "bgcolor": "#E5ECF6",
           "caxis": {
            "gridcolor": "white",
            "linecolor": "white",
            "ticks": ""
           }
          },
          "title": {
           "x": 0.05
          },
          "xaxis": {
           "automargin": true,
           "gridcolor": "white",
           "linecolor": "white",
           "ticks": "",
           "title": {
            "standoff": 15
           },
           "zerolinecolor": "white",
           "zerolinewidth": 2
          },
          "yaxis": {
           "automargin": true,
           "gridcolor": "white",
           "linecolor": "white",
           "ticks": "",
           "title": {
            "standoff": 15
           },
           "zerolinecolor": "white",
           "zerolinewidth": 2
          }
         }
        },
        "title": {
         "text": "Ratio solvencia de acciones"
        },
        "xaxis": {
         "title": {
          "text": "Periodo terminado"
         }
        },
        "yaxis": {
         "title": {
          "text": "Ratio solvencia"
         }
        }
       }
      }
     },
     "metadata": {},
     "output_type": "display_data"
    }
   ],
   "source": [
    "fig = go.Figure()\n",
    "for stock_pkl in list(dic_stocks_pkl.keys()):\n",
    "    fig.add_trace(go.Scatter(x=dic_stocks_pkl[stock_pkl].df_balance.index , y=dic_stocks_pkl[stock_pkl].df_balance[\"Ratio solvencia\"], name=stock_pkl))\n",
    "fig.update_layout(title='Ratio solvencia de acciones', xaxis_title='Periodo terminado', yaxis_title='Ratio solvencia')\n",
    "fig.show()"
   ]
  },
  {
   "cell_type": "code",
   "execution_count": 201,
   "metadata": {},
   "outputs": [
    {
     "data": {
      "application/vnd.plotly.v1+json": {
       "config": {
        "plotlyServerURL": "https://plot.ly"
       },
       "data": [
        {
         "name": "International Business Machines (IBM)",
         "type": "scatter",
         "x": [
          "2023-12-31T00:00:00",
          "2022-12-31T00:00:00",
          "2021-12-31T00:00:00",
          "2020-12-31T00:00:00"
         ],
         "y": [
          0.9644217806693629,
          0.924234248531979,
          0.8786400547309557,
          0.9823421706087436
         ]
        },
        {
         "name": "Microsoft Corporation (MSFT)",
         "type": "scatter",
         "x": [
          "2023-06-30T00:00:00",
          "2022-06-30T00:00:00",
          "2021-06-30T00:00:00",
          "2020-06-30T00:00:00"
         ],
         "y": [
          1.76916725076573,
          1.7846069708251824,
          2.0799936835218875,
          2.5157654542940118
         ]
        },
        {
         "name": "Alphabet Inc Class C (GOOG)",
         "type": "scatter",
         "x": [
          "2023-12-31T00:00:00",
          "2022-12-31T00:00:00",
          "2021-12-31T00:00:00",
          "2020-12-31T00:00:00"
         ],
         "y": [
          2.096584936563424,
          2.377994227994228,
          2.928113424845146,
          3.0667558151810534
         ]
        },
        {
         "name": "Amazon.com Inc (AMZN)",
         "type": "scatter",
         "x": [
          "2023-12-31T00:00:00",
          "2022-12-31T00:00:00",
          "2021-12-31T00:00:00",
          "2020-12-31T00:00:00"
         ],
         "y": [
          1.0450772206625152,
          0.9446435811136924,
          1.1357597739445826,
          1.0502274795268425
         ]
        },
        {
         "name": "Oracle Corporation (ORCL)",
         "type": "scatter",
         "x": [
          "2023-05-31T00:00:00",
          "2022-05-31T00:00:00",
          "2021-05-31T00:00:00",
          "2020-05-31T00:00:00"
         ],
         "y": [
          0.9096578605456908,
          1.6212905540464353,
          2.299577884456216,
          3.031395348837209
         ]
        },
        {
         "name": "SAP SE ADR (SAP)",
         "type": "scatter",
         "x": [
          "2023-12-31T00:00:00",
          "2022-12-31T00:00:00",
          "2021-12-31T00:00:00",
          "2020-12-31T00:00:00"
         ],
         "y": [
          1.4085482985729967,
          1.0612502148627743,
          1.242191373326723,
          1.1734153558635727
         ]
        }
       ],
       "layout": {
        "template": {
         "data": {
          "bar": [
           {
            "error_x": {
             "color": "#2a3f5f"
            },
            "error_y": {
             "color": "#2a3f5f"
            },
            "marker": {
             "line": {
              "color": "#E5ECF6",
              "width": 0.5
             },
             "pattern": {
              "fillmode": "overlay",
              "size": 10,
              "solidity": 0.2
             }
            },
            "type": "bar"
           }
          ],
          "barpolar": [
           {
            "marker": {
             "line": {
              "color": "#E5ECF6",
              "width": 0.5
             },
             "pattern": {
              "fillmode": "overlay",
              "size": 10,
              "solidity": 0.2
             }
            },
            "type": "barpolar"
           }
          ],
          "carpet": [
           {
            "aaxis": {
             "endlinecolor": "#2a3f5f",
             "gridcolor": "white",
             "linecolor": "white",
             "minorgridcolor": "white",
             "startlinecolor": "#2a3f5f"
            },
            "baxis": {
             "endlinecolor": "#2a3f5f",
             "gridcolor": "white",
             "linecolor": "white",
             "minorgridcolor": "white",
             "startlinecolor": "#2a3f5f"
            },
            "type": "carpet"
           }
          ],
          "choropleth": [
           {
            "colorbar": {
             "outlinewidth": 0,
             "ticks": ""
            },
            "type": "choropleth"
           }
          ],
          "contour": [
           {
            "colorbar": {
             "outlinewidth": 0,
             "ticks": ""
            },
            "colorscale": [
             [
              0,
              "#0d0887"
             ],
             [
              0.1111111111111111,
              "#46039f"
             ],
             [
              0.2222222222222222,
              "#7201a8"
             ],
             [
              0.3333333333333333,
              "#9c179e"
             ],
             [
              0.4444444444444444,
              "#bd3786"
             ],
             [
              0.5555555555555556,
              "#d8576b"
             ],
             [
              0.6666666666666666,
              "#ed7953"
             ],
             [
              0.7777777777777778,
              "#fb9f3a"
             ],
             [
              0.8888888888888888,
              "#fdca26"
             ],
             [
              1,
              "#f0f921"
             ]
            ],
            "type": "contour"
           }
          ],
          "contourcarpet": [
           {
            "colorbar": {
             "outlinewidth": 0,
             "ticks": ""
            },
            "type": "contourcarpet"
           }
          ],
          "heatmap": [
           {
            "colorbar": {
             "outlinewidth": 0,
             "ticks": ""
            },
            "colorscale": [
             [
              0,
              "#0d0887"
             ],
             [
              0.1111111111111111,
              "#46039f"
             ],
             [
              0.2222222222222222,
              "#7201a8"
             ],
             [
              0.3333333333333333,
              "#9c179e"
             ],
             [
              0.4444444444444444,
              "#bd3786"
             ],
             [
              0.5555555555555556,
              "#d8576b"
             ],
             [
              0.6666666666666666,
              "#ed7953"
             ],
             [
              0.7777777777777778,
              "#fb9f3a"
             ],
             [
              0.8888888888888888,
              "#fdca26"
             ],
             [
              1,
              "#f0f921"
             ]
            ],
            "type": "heatmap"
           }
          ],
          "heatmapgl": [
           {
            "colorbar": {
             "outlinewidth": 0,
             "ticks": ""
            },
            "colorscale": [
             [
              0,
              "#0d0887"
             ],
             [
              0.1111111111111111,
              "#46039f"
             ],
             [
              0.2222222222222222,
              "#7201a8"
             ],
             [
              0.3333333333333333,
              "#9c179e"
             ],
             [
              0.4444444444444444,
              "#bd3786"
             ],
             [
              0.5555555555555556,
              "#d8576b"
             ],
             [
              0.6666666666666666,
              "#ed7953"
             ],
             [
              0.7777777777777778,
              "#fb9f3a"
             ],
             [
              0.8888888888888888,
              "#fdca26"
             ],
             [
              1,
              "#f0f921"
             ]
            ],
            "type": "heatmapgl"
           }
          ],
          "histogram": [
           {
            "marker": {
             "pattern": {
              "fillmode": "overlay",
              "size": 10,
              "solidity": 0.2
             }
            },
            "type": "histogram"
           }
          ],
          "histogram2d": [
           {
            "colorbar": {
             "outlinewidth": 0,
             "ticks": ""
            },
            "colorscale": [
             [
              0,
              "#0d0887"
             ],
             [
              0.1111111111111111,
              "#46039f"
             ],
             [
              0.2222222222222222,
              "#7201a8"
             ],
             [
              0.3333333333333333,
              "#9c179e"
             ],
             [
              0.4444444444444444,
              "#bd3786"
             ],
             [
              0.5555555555555556,
              "#d8576b"
             ],
             [
              0.6666666666666666,
              "#ed7953"
             ],
             [
              0.7777777777777778,
              "#fb9f3a"
             ],
             [
              0.8888888888888888,
              "#fdca26"
             ],
             [
              1,
              "#f0f921"
             ]
            ],
            "type": "histogram2d"
           }
          ],
          "histogram2dcontour": [
           {
            "colorbar": {
             "outlinewidth": 0,
             "ticks": ""
            },
            "colorscale": [
             [
              0,
              "#0d0887"
             ],
             [
              0.1111111111111111,
              "#46039f"
             ],
             [
              0.2222222222222222,
              "#7201a8"
             ],
             [
              0.3333333333333333,
              "#9c179e"
             ],
             [
              0.4444444444444444,
              "#bd3786"
             ],
             [
              0.5555555555555556,
              "#d8576b"
             ],
             [
              0.6666666666666666,
              "#ed7953"
             ],
             [
              0.7777777777777778,
              "#fb9f3a"
             ],
             [
              0.8888888888888888,
              "#fdca26"
             ],
             [
              1,
              "#f0f921"
             ]
            ],
            "type": "histogram2dcontour"
           }
          ],
          "mesh3d": [
           {
            "colorbar": {
             "outlinewidth": 0,
             "ticks": ""
            },
            "type": "mesh3d"
           }
          ],
          "parcoords": [
           {
            "line": {
             "colorbar": {
              "outlinewidth": 0,
              "ticks": ""
             }
            },
            "type": "parcoords"
           }
          ],
          "pie": [
           {
            "automargin": true,
            "type": "pie"
           }
          ],
          "scatter": [
           {
            "fillpattern": {
             "fillmode": "overlay",
             "size": 10,
             "solidity": 0.2
            },
            "type": "scatter"
           }
          ],
          "scatter3d": [
           {
            "line": {
             "colorbar": {
              "outlinewidth": 0,
              "ticks": ""
             }
            },
            "marker": {
             "colorbar": {
              "outlinewidth": 0,
              "ticks": ""
             }
            },
            "type": "scatter3d"
           }
          ],
          "scattercarpet": [
           {
            "marker": {
             "colorbar": {
              "outlinewidth": 0,
              "ticks": ""
             }
            },
            "type": "scattercarpet"
           }
          ],
          "scattergeo": [
           {
            "marker": {
             "colorbar": {
              "outlinewidth": 0,
              "ticks": ""
             }
            },
            "type": "scattergeo"
           }
          ],
          "scattergl": [
           {
            "marker": {
             "colorbar": {
              "outlinewidth": 0,
              "ticks": ""
             }
            },
            "type": "scattergl"
           }
          ],
          "scattermapbox": [
           {
            "marker": {
             "colorbar": {
              "outlinewidth": 0,
              "ticks": ""
             }
            },
            "type": "scattermapbox"
           }
          ],
          "scatterpolar": [
           {
            "marker": {
             "colorbar": {
              "outlinewidth": 0,
              "ticks": ""
             }
            },
            "type": "scatterpolar"
           }
          ],
          "scatterpolargl": [
           {
            "marker": {
             "colorbar": {
              "outlinewidth": 0,
              "ticks": ""
             }
            },
            "type": "scatterpolargl"
           }
          ],
          "scatterternary": [
           {
            "marker": {
             "colorbar": {
              "outlinewidth": 0,
              "ticks": ""
             }
            },
            "type": "scatterternary"
           }
          ],
          "surface": [
           {
            "colorbar": {
             "outlinewidth": 0,
             "ticks": ""
            },
            "colorscale": [
             [
              0,
              "#0d0887"
             ],
             [
              0.1111111111111111,
              "#46039f"
             ],
             [
              0.2222222222222222,
              "#7201a8"
             ],
             [
              0.3333333333333333,
              "#9c179e"
             ],
             [
              0.4444444444444444,
              "#bd3786"
             ],
             [
              0.5555555555555556,
              "#d8576b"
             ],
             [
              0.6666666666666666,
              "#ed7953"
             ],
             [
              0.7777777777777778,
              "#fb9f3a"
             ],
             [
              0.8888888888888888,
              "#fdca26"
             ],
             [
              1,
              "#f0f921"
             ]
            ],
            "type": "surface"
           }
          ],
          "table": [
           {
            "cells": {
             "fill": {
              "color": "#EBF0F8"
             },
             "line": {
              "color": "white"
             }
            },
            "header": {
             "fill": {
              "color": "#C8D4E3"
             },
             "line": {
              "color": "white"
             }
            },
            "type": "table"
           }
          ]
         },
         "layout": {
          "annotationdefaults": {
           "arrowcolor": "#2a3f5f",
           "arrowhead": 0,
           "arrowwidth": 1
          },
          "autotypenumbers": "strict",
          "coloraxis": {
           "colorbar": {
            "outlinewidth": 0,
            "ticks": ""
           }
          },
          "colorscale": {
           "diverging": [
            [
             0,
             "#8e0152"
            ],
            [
             0.1,
             "#c51b7d"
            ],
            [
             0.2,
             "#de77ae"
            ],
            [
             0.3,
             "#f1b6da"
            ],
            [
             0.4,
             "#fde0ef"
            ],
            [
             0.5,
             "#f7f7f7"
            ],
            [
             0.6,
             "#e6f5d0"
            ],
            [
             0.7,
             "#b8e186"
            ],
            [
             0.8,
             "#7fbc41"
            ],
            [
             0.9,
             "#4d9221"
            ],
            [
             1,
             "#276419"
            ]
           ],
           "sequential": [
            [
             0,
             "#0d0887"
            ],
            [
             0.1111111111111111,
             "#46039f"
            ],
            [
             0.2222222222222222,
             "#7201a8"
            ],
            [
             0.3333333333333333,
             "#9c179e"
            ],
            [
             0.4444444444444444,
             "#bd3786"
            ],
            [
             0.5555555555555556,
             "#d8576b"
            ],
            [
             0.6666666666666666,
             "#ed7953"
            ],
            [
             0.7777777777777778,
             "#fb9f3a"
            ],
            [
             0.8888888888888888,
             "#fdca26"
            ],
            [
             1,
             "#f0f921"
            ]
           ],
           "sequentialminus": [
            [
             0,
             "#0d0887"
            ],
            [
             0.1111111111111111,
             "#46039f"
            ],
            [
             0.2222222222222222,
             "#7201a8"
            ],
            [
             0.3333333333333333,
             "#9c179e"
            ],
            [
             0.4444444444444444,
             "#bd3786"
            ],
            [
             0.5555555555555556,
             "#d8576b"
            ],
            [
             0.6666666666666666,
             "#ed7953"
            ],
            [
             0.7777777777777778,
             "#fb9f3a"
            ],
            [
             0.8888888888888888,
             "#fdca26"
            ],
            [
             1,
             "#f0f921"
            ]
           ]
          },
          "colorway": [
           "#636efa",
           "#EF553B",
           "#00cc96",
           "#ab63fa",
           "#FFA15A",
           "#19d3f3",
           "#FF6692",
           "#B6E880",
           "#FF97FF",
           "#FECB52"
          ],
          "font": {
           "color": "#2a3f5f"
          },
          "geo": {
           "bgcolor": "white",
           "lakecolor": "white",
           "landcolor": "#E5ECF6",
           "showlakes": true,
           "showland": true,
           "subunitcolor": "white"
          },
          "hoverlabel": {
           "align": "left"
          },
          "hovermode": "closest",
          "mapbox": {
           "style": "light"
          },
          "paper_bgcolor": "white",
          "plot_bgcolor": "#E5ECF6",
          "polar": {
           "angularaxis": {
            "gridcolor": "white",
            "linecolor": "white",
            "ticks": ""
           },
           "bgcolor": "#E5ECF6",
           "radialaxis": {
            "gridcolor": "white",
            "linecolor": "white",
            "ticks": ""
           }
          },
          "scene": {
           "xaxis": {
            "backgroundcolor": "#E5ECF6",
            "gridcolor": "white",
            "gridwidth": 2,
            "linecolor": "white",
            "showbackground": true,
            "ticks": "",
            "zerolinecolor": "white"
           },
           "yaxis": {
            "backgroundcolor": "#E5ECF6",
            "gridcolor": "white",
            "gridwidth": 2,
            "linecolor": "white",
            "showbackground": true,
            "ticks": "",
            "zerolinecolor": "white"
           },
           "zaxis": {
            "backgroundcolor": "#E5ECF6",
            "gridcolor": "white",
            "gridwidth": 2,
            "linecolor": "white",
            "showbackground": true,
            "ticks": "",
            "zerolinecolor": "white"
           }
          },
          "shapedefaults": {
           "line": {
            "color": "#2a3f5f"
           }
          },
          "ternary": {
           "aaxis": {
            "gridcolor": "white",
            "linecolor": "white",
            "ticks": ""
           },
           "baxis": {
            "gridcolor": "white",
            "linecolor": "white",
            "ticks": ""
           },
           "bgcolor": "#E5ECF6",
           "caxis": {
            "gridcolor": "white",
            "linecolor": "white",
            "ticks": ""
           }
          },
          "title": {
           "x": 0.05
          },
          "xaxis": {
           "automargin": true,
           "gridcolor": "white",
           "linecolor": "white",
           "ticks": "",
           "title": {
            "standoff": 15
           },
           "zerolinecolor": "white",
           "zerolinewidth": 2
          },
          "yaxis": {
           "automargin": true,
           "gridcolor": "white",
           "linecolor": "white",
           "ticks": "",
           "title": {
            "standoff": 15
           },
           "zerolinecolor": "white",
           "zerolinewidth": 2
          }
         }
        },
        "title": {
         "text": "Ratio liquidez de acciones"
        },
        "xaxis": {
         "title": {
          "text": "Periodo terminado"
         }
        },
        "yaxis": {
         "title": {
          "text": "Ratio liquidez"
         }
        }
       }
      }
     },
     "metadata": {},
     "output_type": "display_data"
    }
   ],
   "source": [
    "fig = go.Figure()\n",
    "for stock_pkl in list(dic_stocks_pkl.keys()):\n",
    "    fig.add_trace(go.Scatter(x=dic_stocks_pkl[stock_pkl].df_balance.index , y=dic_stocks_pkl[stock_pkl].df_balance[\"Ratio liquidez\"], name=stock_pkl))\n",
    "fig.update_layout(title='Ratio liquidez de acciones', xaxis_title='Periodo terminado', yaxis_title='Ratio liquidez')\n",
    "fig.show()"
   ]
  },
  {
   "cell_type": "code",
   "execution_count": 202,
   "metadata": {},
   "outputs": [
    {
     "data": {
      "application/vnd.plotly.v1+json": {
       "config": {
        "plotlyServerURL": "https://plot.ly"
       },
       "data": [
        {
         "name": "International Business Machines (IBM)",
         "type": "scatter",
         "x": [
          "2023-12-31T00:00:00",
          "2022-12-31T00:00:00",
          "2021-12-31T00:00:00",
          "2020-12-31T00:00:00"
         ],
         "y": [
          0.5804896444125672,
          0.5793403173455515,
          0.6014045348141301,
          0.6123189567291355
         ]
        },
        {
         "name": "Microsoft Corporation (MSFT)",
         "type": "scatter",
         "x": [
          "2023-06-30T00:00:00",
          "2022-06-30T00:00:00",
          "2021-06-30T00:00:00",
          "2020-06-30T00:00:00"
         ],
         "y": [
          0.24662601704953688,
          0.2829075759236926,
          0.30898888186494655,
          0.3673845296056234
         ]
        },
        {
         "name": "Alphabet Inc Class C (GOOG)",
         "type": "scatter",
         "x": [
          "2023-12-31T00:00:00",
          "2022-12-31T00:00:00",
          "2021-12-31T00:00:00",
          "2020-12-31T00:00:00"
         ],
         "y": [
          0.0924446808087636,
          0.10901703973016777,
          0.1207427324448601,
          0.12589482378854625
         ]
        },
        {
         "name": "Amazon.com Inc (AMZN)",
         "type": "scatter",
         "x": [
          "2023-12-31T00:00:00",
          "2022-12-31T00:00:00",
          "2021-12-31T00:00:00",
          "2020-12-31T00:00:00"
         ],
         "y": [
          0.3051260386394723,
          0.3484930026476468,
          0.33298854592449395,
          0.3157147527203101
         ]
        },
        {
         "name": "Oracle Corporation (ORCL)",
         "type": "scatter",
         "x": [
          "2023-05-31T00:00:00",
          "2022-05-31T00:00:00",
          "2021-05-31T00:00:00",
          "2020-05-31T00:00:00"
         ],
         "y": [
          0.8166001904988689,
          0.8742600437340458,
          0.7702944922849275,
          0.7464093279509347
         ]
        },
        {
         "name": "SAP SE ADR (SAP)",
         "type": "scatter",
         "x": [
          "2023-12-31T00:00:00",
          "2022-12-31T00:00:00",
          "2021-12-31T00:00:00",
          "2020-12-31T00:00:00"
         ],
         "y": [
          0.1515573062336179,
          0.16433154561454566,
          0.18982984164453626,
          0.2720648604269294
         ]
        }
       ],
       "layout": {
        "template": {
         "data": {
          "bar": [
           {
            "error_x": {
             "color": "#2a3f5f"
            },
            "error_y": {
             "color": "#2a3f5f"
            },
            "marker": {
             "line": {
              "color": "#E5ECF6",
              "width": 0.5
             },
             "pattern": {
              "fillmode": "overlay",
              "size": 10,
              "solidity": 0.2
             }
            },
            "type": "bar"
           }
          ],
          "barpolar": [
           {
            "marker": {
             "line": {
              "color": "#E5ECF6",
              "width": 0.5
             },
             "pattern": {
              "fillmode": "overlay",
              "size": 10,
              "solidity": 0.2
             }
            },
            "type": "barpolar"
           }
          ],
          "carpet": [
           {
            "aaxis": {
             "endlinecolor": "#2a3f5f",
             "gridcolor": "white",
             "linecolor": "white",
             "minorgridcolor": "white",
             "startlinecolor": "#2a3f5f"
            },
            "baxis": {
             "endlinecolor": "#2a3f5f",
             "gridcolor": "white",
             "linecolor": "white",
             "minorgridcolor": "white",
             "startlinecolor": "#2a3f5f"
            },
            "type": "carpet"
           }
          ],
          "choropleth": [
           {
            "colorbar": {
             "outlinewidth": 0,
             "ticks": ""
            },
            "type": "choropleth"
           }
          ],
          "contour": [
           {
            "colorbar": {
             "outlinewidth": 0,
             "ticks": ""
            },
            "colorscale": [
             [
              0,
              "#0d0887"
             ],
             [
              0.1111111111111111,
              "#46039f"
             ],
             [
              0.2222222222222222,
              "#7201a8"
             ],
             [
              0.3333333333333333,
              "#9c179e"
             ],
             [
              0.4444444444444444,
              "#bd3786"
             ],
             [
              0.5555555555555556,
              "#d8576b"
             ],
             [
              0.6666666666666666,
              "#ed7953"
             ],
             [
              0.7777777777777778,
              "#fb9f3a"
             ],
             [
              0.8888888888888888,
              "#fdca26"
             ],
             [
              1,
              "#f0f921"
             ]
            ],
            "type": "contour"
           }
          ],
          "contourcarpet": [
           {
            "colorbar": {
             "outlinewidth": 0,
             "ticks": ""
            },
            "type": "contourcarpet"
           }
          ],
          "heatmap": [
           {
            "colorbar": {
             "outlinewidth": 0,
             "ticks": ""
            },
            "colorscale": [
             [
              0,
              "#0d0887"
             ],
             [
              0.1111111111111111,
              "#46039f"
             ],
             [
              0.2222222222222222,
              "#7201a8"
             ],
             [
              0.3333333333333333,
              "#9c179e"
             ],
             [
              0.4444444444444444,
              "#bd3786"
             ],
             [
              0.5555555555555556,
              "#d8576b"
             ],
             [
              0.6666666666666666,
              "#ed7953"
             ],
             [
              0.7777777777777778,
              "#fb9f3a"
             ],
             [
              0.8888888888888888,
              "#fdca26"
             ],
             [
              1,
              "#f0f921"
             ]
            ],
            "type": "heatmap"
           }
          ],
          "heatmapgl": [
           {
            "colorbar": {
             "outlinewidth": 0,
             "ticks": ""
            },
            "colorscale": [
             [
              0,
              "#0d0887"
             ],
             [
              0.1111111111111111,
              "#46039f"
             ],
             [
              0.2222222222222222,
              "#7201a8"
             ],
             [
              0.3333333333333333,
              "#9c179e"
             ],
             [
              0.4444444444444444,
              "#bd3786"
             ],
             [
              0.5555555555555556,
              "#d8576b"
             ],
             [
              0.6666666666666666,
              "#ed7953"
             ],
             [
              0.7777777777777778,
              "#fb9f3a"
             ],
             [
              0.8888888888888888,
              "#fdca26"
             ],
             [
              1,
              "#f0f921"
             ]
            ],
            "type": "heatmapgl"
           }
          ],
          "histogram": [
           {
            "marker": {
             "pattern": {
              "fillmode": "overlay",
              "size": 10,
              "solidity": 0.2
             }
            },
            "type": "histogram"
           }
          ],
          "histogram2d": [
           {
            "colorbar": {
             "outlinewidth": 0,
             "ticks": ""
            },
            "colorscale": [
             [
              0,
              "#0d0887"
             ],
             [
              0.1111111111111111,
              "#46039f"
             ],
             [
              0.2222222222222222,
              "#7201a8"
             ],
             [
              0.3333333333333333,
              "#9c179e"
             ],
             [
              0.4444444444444444,
              "#bd3786"
             ],
             [
              0.5555555555555556,
              "#d8576b"
             ],
             [
              0.6666666666666666,
              "#ed7953"
             ],
             [
              0.7777777777777778,
              "#fb9f3a"
             ],
             [
              0.8888888888888888,
              "#fdca26"
             ],
             [
              1,
              "#f0f921"
             ]
            ],
            "type": "histogram2d"
           }
          ],
          "histogram2dcontour": [
           {
            "colorbar": {
             "outlinewidth": 0,
             "ticks": ""
            },
            "colorscale": [
             [
              0,
              "#0d0887"
             ],
             [
              0.1111111111111111,
              "#46039f"
             ],
             [
              0.2222222222222222,
              "#7201a8"
             ],
             [
              0.3333333333333333,
              "#9c179e"
             ],
             [
              0.4444444444444444,
              "#bd3786"
             ],
             [
              0.5555555555555556,
              "#d8576b"
             ],
             [
              0.6666666666666666,
              "#ed7953"
             ],
             [
              0.7777777777777778,
              "#fb9f3a"
             ],
             [
              0.8888888888888888,
              "#fdca26"
             ],
             [
              1,
              "#f0f921"
             ]
            ],
            "type": "histogram2dcontour"
           }
          ],
          "mesh3d": [
           {
            "colorbar": {
             "outlinewidth": 0,
             "ticks": ""
            },
            "type": "mesh3d"
           }
          ],
          "parcoords": [
           {
            "line": {
             "colorbar": {
              "outlinewidth": 0,
              "ticks": ""
             }
            },
            "type": "parcoords"
           }
          ],
          "pie": [
           {
            "automargin": true,
            "type": "pie"
           }
          ],
          "scatter": [
           {
            "fillpattern": {
             "fillmode": "overlay",
             "size": 10,
             "solidity": 0.2
            },
            "type": "scatter"
           }
          ],
          "scatter3d": [
           {
            "line": {
             "colorbar": {
              "outlinewidth": 0,
              "ticks": ""
             }
            },
            "marker": {
             "colorbar": {
              "outlinewidth": 0,
              "ticks": ""
             }
            },
            "type": "scatter3d"
           }
          ],
          "scattercarpet": [
           {
            "marker": {
             "colorbar": {
              "outlinewidth": 0,
              "ticks": ""
             }
            },
            "type": "scattercarpet"
           }
          ],
          "scattergeo": [
           {
            "marker": {
             "colorbar": {
              "outlinewidth": 0,
              "ticks": ""
             }
            },
            "type": "scattergeo"
           }
          ],
          "scattergl": [
           {
            "marker": {
             "colorbar": {
              "outlinewidth": 0,
              "ticks": ""
             }
            },
            "type": "scattergl"
           }
          ],
          "scattermapbox": [
           {
            "marker": {
             "colorbar": {
              "outlinewidth": 0,
              "ticks": ""
             }
            },
            "type": "scattermapbox"
           }
          ],
          "scatterpolar": [
           {
            "marker": {
             "colorbar": {
              "outlinewidth": 0,
              "ticks": ""
             }
            },
            "type": "scatterpolar"
           }
          ],
          "scatterpolargl": [
           {
            "marker": {
             "colorbar": {
              "outlinewidth": 0,
              "ticks": ""
             }
            },
            "type": "scatterpolargl"
           }
          ],
          "scatterternary": [
           {
            "marker": {
             "colorbar": {
              "outlinewidth": 0,
              "ticks": ""
             }
            },
            "type": "scatterternary"
           }
          ],
          "surface": [
           {
            "colorbar": {
             "outlinewidth": 0,
             "ticks": ""
            },
            "colorscale": [
             [
              0,
              "#0d0887"
             ],
             [
              0.1111111111111111,
              "#46039f"
             ],
             [
              0.2222222222222222,
              "#7201a8"
             ],
             [
              0.3333333333333333,
              "#9c179e"
             ],
             [
              0.4444444444444444,
              "#bd3786"
             ],
             [
              0.5555555555555556,
              "#d8576b"
             ],
             [
              0.6666666666666666,
              "#ed7953"
             ],
             [
              0.7777777777777778,
              "#fb9f3a"
             ],
             [
              0.8888888888888888,
              "#fdca26"
             ],
             [
              1,
              "#f0f921"
             ]
            ],
            "type": "surface"
           }
          ],
          "table": [
           {
            "cells": {
             "fill": {
              "color": "#EBF0F8"
             },
             "line": {
              "color": "white"
             }
            },
            "header": {
             "fill": {
              "color": "#C8D4E3"
             },
             "line": {
              "color": "white"
             }
            },
            "type": "table"
           }
          ]
         },
         "layout": {
          "annotationdefaults": {
           "arrowcolor": "#2a3f5f",
           "arrowhead": 0,
           "arrowwidth": 1
          },
          "autotypenumbers": "strict",
          "coloraxis": {
           "colorbar": {
            "outlinewidth": 0,
            "ticks": ""
           }
          },
          "colorscale": {
           "diverging": [
            [
             0,
             "#8e0152"
            ],
            [
             0.1,
             "#c51b7d"
            ],
            [
             0.2,
             "#de77ae"
            ],
            [
             0.3,
             "#f1b6da"
            ],
            [
             0.4,
             "#fde0ef"
            ],
            [
             0.5,
             "#f7f7f7"
            ],
            [
             0.6,
             "#e6f5d0"
            ],
            [
             0.7,
             "#b8e186"
            ],
            [
             0.8,
             "#7fbc41"
            ],
            [
             0.9,
             "#4d9221"
            ],
            [
             1,
             "#276419"
            ]
           ],
           "sequential": [
            [
             0,
             "#0d0887"
            ],
            [
             0.1111111111111111,
             "#46039f"
            ],
            [
             0.2222222222222222,
             "#7201a8"
            ],
            [
             0.3333333333333333,
             "#9c179e"
            ],
            [
             0.4444444444444444,
             "#bd3786"
            ],
            [
             0.5555555555555556,
             "#d8576b"
            ],
            [
             0.6666666666666666,
             "#ed7953"
            ],
            [
             0.7777777777777778,
             "#fb9f3a"
            ],
            [
             0.8888888888888888,
             "#fdca26"
            ],
            [
             1,
             "#f0f921"
            ]
           ],
           "sequentialminus": [
            [
             0,
             "#0d0887"
            ],
            [
             0.1111111111111111,
             "#46039f"
            ],
            [
             0.2222222222222222,
             "#7201a8"
            ],
            [
             0.3333333333333333,
             "#9c179e"
            ],
            [
             0.4444444444444444,
             "#bd3786"
            ],
            [
             0.5555555555555556,
             "#d8576b"
            ],
            [
             0.6666666666666666,
             "#ed7953"
            ],
            [
             0.7777777777777778,
             "#fb9f3a"
            ],
            [
             0.8888888888888888,
             "#fdca26"
            ],
            [
             1,
             "#f0f921"
            ]
           ]
          },
          "colorway": [
           "#636efa",
           "#EF553B",
           "#00cc96",
           "#ab63fa",
           "#FFA15A",
           "#19d3f3",
           "#FF6692",
           "#B6E880",
           "#FF97FF",
           "#FECB52"
          ],
          "font": {
           "color": "#2a3f5f"
          },
          "geo": {
           "bgcolor": "white",
           "lakecolor": "white",
           "landcolor": "#E5ECF6",
           "showlakes": true,
           "showland": true,
           "subunitcolor": "white"
          },
          "hoverlabel": {
           "align": "left"
          },
          "hovermode": "closest",
          "mapbox": {
           "style": "light"
          },
          "paper_bgcolor": "white",
          "plot_bgcolor": "#E5ECF6",
          "polar": {
           "angularaxis": {
            "gridcolor": "white",
            "linecolor": "white",
            "ticks": ""
           },
           "bgcolor": "#E5ECF6",
           "radialaxis": {
            "gridcolor": "white",
            "linecolor": "white",
            "ticks": ""
           }
          },
          "scene": {
           "xaxis": {
            "backgroundcolor": "#E5ECF6",
            "gridcolor": "white",
            "gridwidth": 2,
            "linecolor": "white",
            "showbackground": true,
            "ticks": "",
            "zerolinecolor": "white"
           },
           "yaxis": {
            "backgroundcolor": "#E5ECF6",
            "gridcolor": "white",
            "gridwidth": 2,
            "linecolor": "white",
            "showbackground": true,
            "ticks": "",
            "zerolinecolor": "white"
           },
           "zaxis": {
            "backgroundcolor": "#E5ECF6",
            "gridcolor": "white",
            "gridwidth": 2,
            "linecolor": "white",
            "showbackground": true,
            "ticks": "",
            "zerolinecolor": "white"
           }
          },
          "shapedefaults": {
           "line": {
            "color": "#2a3f5f"
           }
          },
          "ternary": {
           "aaxis": {
            "gridcolor": "white",
            "linecolor": "white",
            "ticks": ""
           },
           "baxis": {
            "gridcolor": "white",
            "linecolor": "white",
            "ticks": ""
           },
           "bgcolor": "#E5ECF6",
           "caxis": {
            "gridcolor": "white",
            "linecolor": "white",
            "ticks": ""
           }
          },
          "title": {
           "x": 0.05
          },
          "xaxis": {
           "automargin": true,
           "gridcolor": "white",
           "linecolor": "white",
           "ticks": "",
           "title": {
            "standoff": 15
           },
           "zerolinecolor": "white",
           "zerolinewidth": 2
          },
          "yaxis": {
           "automargin": true,
           "gridcolor": "white",
           "linecolor": "white",
           "ticks": "",
           "title": {
            "standoff": 15
           },
           "zerolinecolor": "white",
           "zerolinewidth": 2
          }
         }
        },
        "title": {
         "text": "Endeudamiento a largo plazo de acciones"
        },
        "xaxis": {
         "title": {
          "text": "Periodo terminado"
         }
        },
        "yaxis": {
         "title": {
          "text": "Endeudamiento a largo plazo"
         }
        }
       }
      }
     },
     "metadata": {},
     "output_type": "display_data"
    }
   ],
   "source": [
    "fig = go.Figure()\n",
    "for stock_pkl in list(dic_stocks_pkl.keys()):\n",
    "    fig.add_trace(go.Scatter(x=dic_stocks_pkl[stock_pkl].df_balance.index , y=dic_stocks_pkl[stock_pkl].df_balance[\"Endeudamiento a largo plazo\"], name=stock_pkl))\n",
    "fig.update_layout(title='Endeudamiento a largo plazo de acciones', xaxis_title='Periodo terminado', yaxis_title='Endeudamiento a largo plazo')\n",
    "fig.show()"
   ]
  },
  {
   "cell_type": "code",
   "execution_count": 203,
   "metadata": {},
   "outputs": [
    {
     "data": {
      "application/vnd.plotly.v1+json": {
       "config": {
        "plotlyServerURL": "https://plot.ly"
       },
       "data": [
        {
         "name": "International Business Machines (IBM)",
         "type": "scatter",
         "x": [
          "2023-12-31T00:00:00",
          "2022-12-31T00:00:00",
          "2021-12-31T00:00:00",
          "2020-12-31T00:00:00"
         ],
         "y": [
          0.83279478856264,
          0.8269374346722413,
          0.8560919993030356,
          0.867936988286284
         ]
        },
        {
         "name": "Microsoft Corporation (MSFT)",
         "type": "scatter",
         "x": [
          "2023-06-30T00:00:00",
          "2022-06-30T00:00:00",
          "2021-06-30T00:00:00",
          "2020-06-30T00:00:00"
         ],
         "y": [
          0.499429578422044,
          0.5435204473193729,
          0.5746047534446445,
          0.6073691302342098
         ]
        },
        {
         "name": "Alphabet Inc Class C (GOOG)",
         "type": "scatter",
         "x": [
          "2023-12-31T00:00:00",
          "2022-12-31T00:00:00",
          "2021-12-31T00:00:00",
          "2020-12-31T00:00:00"
         ],
         "y": [
          0.29576383228294795,
          0.29874282710587413,
          0.2995897213222441,
          0.3037144573488186
         ]
        },
        {
         "name": "Amazon.com Inc (AMZN)",
         "type": "scatter",
         "x": [
          "2023-12-31T00:00:00",
          "2022-12-31T00:00:00",
          "2021-12-31T00:00:00",
          "2020-12-31T00:00:00"
         ],
         "y": [
          0.6175552330758126,
          0.6843507861890096,
          0.6712749287241201,
          0.709198461993493
         ]
        },
        {
         "name": "Oracle Corporation (ORCL)",
         "type": "scatter",
         "x": [
          "2023-05-31T00:00:00",
          "2022-05-31T00:00:00",
          "2021-05-31T00:00:00",
          "2020-05-31T00:00:00"
         ],
         "y": [
          0.9884212406238838,
          1.0527736351409462,
          0.9546019663328427,
          0.895407058334344
         ]
        },
        {
         "name": "SAP SE ADR (SAP)",
         "type": "scatter",
         "x": [
          "2023-12-31T00:00:00",
          "2022-12-31T00:00:00",
          "2021-12-31T00:00:00",
          "2020-12-31T00:00:00"
         ],
         "y": [
          0.3649968517081314,
          0.4062001967876495,
          0.4165577709395945,
          0.4917214012041598
         ]
        }
       ],
       "layout": {
        "template": {
         "data": {
          "bar": [
           {
            "error_x": {
             "color": "#2a3f5f"
            },
            "error_y": {
             "color": "#2a3f5f"
            },
            "marker": {
             "line": {
              "color": "#E5ECF6",
              "width": 0.5
             },
             "pattern": {
              "fillmode": "overlay",
              "size": 10,
              "solidity": 0.2
             }
            },
            "type": "bar"
           }
          ],
          "barpolar": [
           {
            "marker": {
             "line": {
              "color": "#E5ECF6",
              "width": 0.5
             },
             "pattern": {
              "fillmode": "overlay",
              "size": 10,
              "solidity": 0.2
             }
            },
            "type": "barpolar"
           }
          ],
          "carpet": [
           {
            "aaxis": {
             "endlinecolor": "#2a3f5f",
             "gridcolor": "white",
             "linecolor": "white",
             "minorgridcolor": "white",
             "startlinecolor": "#2a3f5f"
            },
            "baxis": {
             "endlinecolor": "#2a3f5f",
             "gridcolor": "white",
             "linecolor": "white",
             "minorgridcolor": "white",
             "startlinecolor": "#2a3f5f"
            },
            "type": "carpet"
           }
          ],
          "choropleth": [
           {
            "colorbar": {
             "outlinewidth": 0,
             "ticks": ""
            },
            "type": "choropleth"
           }
          ],
          "contour": [
           {
            "colorbar": {
             "outlinewidth": 0,
             "ticks": ""
            },
            "colorscale": [
             [
              0,
              "#0d0887"
             ],
             [
              0.1111111111111111,
              "#46039f"
             ],
             [
              0.2222222222222222,
              "#7201a8"
             ],
             [
              0.3333333333333333,
              "#9c179e"
             ],
             [
              0.4444444444444444,
              "#bd3786"
             ],
             [
              0.5555555555555556,
              "#d8576b"
             ],
             [
              0.6666666666666666,
              "#ed7953"
             ],
             [
              0.7777777777777778,
              "#fb9f3a"
             ],
             [
              0.8888888888888888,
              "#fdca26"
             ],
             [
              1,
              "#f0f921"
             ]
            ],
            "type": "contour"
           }
          ],
          "contourcarpet": [
           {
            "colorbar": {
             "outlinewidth": 0,
             "ticks": ""
            },
            "type": "contourcarpet"
           }
          ],
          "heatmap": [
           {
            "colorbar": {
             "outlinewidth": 0,
             "ticks": ""
            },
            "colorscale": [
             [
              0,
              "#0d0887"
             ],
             [
              0.1111111111111111,
              "#46039f"
             ],
             [
              0.2222222222222222,
              "#7201a8"
             ],
             [
              0.3333333333333333,
              "#9c179e"
             ],
             [
              0.4444444444444444,
              "#bd3786"
             ],
             [
              0.5555555555555556,
              "#d8576b"
             ],
             [
              0.6666666666666666,
              "#ed7953"
             ],
             [
              0.7777777777777778,
              "#fb9f3a"
             ],
             [
              0.8888888888888888,
              "#fdca26"
             ],
             [
              1,
              "#f0f921"
             ]
            ],
            "type": "heatmap"
           }
          ],
          "heatmapgl": [
           {
            "colorbar": {
             "outlinewidth": 0,
             "ticks": ""
            },
            "colorscale": [
             [
              0,
              "#0d0887"
             ],
             [
              0.1111111111111111,
              "#46039f"
             ],
             [
              0.2222222222222222,
              "#7201a8"
             ],
             [
              0.3333333333333333,
              "#9c179e"
             ],
             [
              0.4444444444444444,
              "#bd3786"
             ],
             [
              0.5555555555555556,
              "#d8576b"
             ],
             [
              0.6666666666666666,
              "#ed7953"
             ],
             [
              0.7777777777777778,
              "#fb9f3a"
             ],
             [
              0.8888888888888888,
              "#fdca26"
             ],
             [
              1,
              "#f0f921"
             ]
            ],
            "type": "heatmapgl"
           }
          ],
          "histogram": [
           {
            "marker": {
             "pattern": {
              "fillmode": "overlay",
              "size": 10,
              "solidity": 0.2
             }
            },
            "type": "histogram"
           }
          ],
          "histogram2d": [
           {
            "colorbar": {
             "outlinewidth": 0,
             "ticks": ""
            },
            "colorscale": [
             [
              0,
              "#0d0887"
             ],
             [
              0.1111111111111111,
              "#46039f"
             ],
             [
              0.2222222222222222,
              "#7201a8"
             ],
             [
              0.3333333333333333,
              "#9c179e"
             ],
             [
              0.4444444444444444,
              "#bd3786"
             ],
             [
              0.5555555555555556,
              "#d8576b"
             ],
             [
              0.6666666666666666,
              "#ed7953"
             ],
             [
              0.7777777777777778,
              "#fb9f3a"
             ],
             [
              0.8888888888888888,
              "#fdca26"
             ],
             [
              1,
              "#f0f921"
             ]
            ],
            "type": "histogram2d"
           }
          ],
          "histogram2dcontour": [
           {
            "colorbar": {
             "outlinewidth": 0,
             "ticks": ""
            },
            "colorscale": [
             [
              0,
              "#0d0887"
             ],
             [
              0.1111111111111111,
              "#46039f"
             ],
             [
              0.2222222222222222,
              "#7201a8"
             ],
             [
              0.3333333333333333,
              "#9c179e"
             ],
             [
              0.4444444444444444,
              "#bd3786"
             ],
             [
              0.5555555555555556,
              "#d8576b"
             ],
             [
              0.6666666666666666,
              "#ed7953"
             ],
             [
              0.7777777777777778,
              "#fb9f3a"
             ],
             [
              0.8888888888888888,
              "#fdca26"
             ],
             [
              1,
              "#f0f921"
             ]
            ],
            "type": "histogram2dcontour"
           }
          ],
          "mesh3d": [
           {
            "colorbar": {
             "outlinewidth": 0,
             "ticks": ""
            },
            "type": "mesh3d"
           }
          ],
          "parcoords": [
           {
            "line": {
             "colorbar": {
              "outlinewidth": 0,
              "ticks": ""
             }
            },
            "type": "parcoords"
           }
          ],
          "pie": [
           {
            "automargin": true,
            "type": "pie"
           }
          ],
          "scatter": [
           {
            "fillpattern": {
             "fillmode": "overlay",
             "size": 10,
             "solidity": 0.2
            },
            "type": "scatter"
           }
          ],
          "scatter3d": [
           {
            "line": {
             "colorbar": {
              "outlinewidth": 0,
              "ticks": ""
             }
            },
            "marker": {
             "colorbar": {
              "outlinewidth": 0,
              "ticks": ""
             }
            },
            "type": "scatter3d"
           }
          ],
          "scattercarpet": [
           {
            "marker": {
             "colorbar": {
              "outlinewidth": 0,
              "ticks": ""
             }
            },
            "type": "scattercarpet"
           }
          ],
          "scattergeo": [
           {
            "marker": {
             "colorbar": {
              "outlinewidth": 0,
              "ticks": ""
             }
            },
            "type": "scattergeo"
           }
          ],
          "scattergl": [
           {
            "marker": {
             "colorbar": {
              "outlinewidth": 0,
              "ticks": ""
             }
            },
            "type": "scattergl"
           }
          ],
          "scattermapbox": [
           {
            "marker": {
             "colorbar": {
              "outlinewidth": 0,
              "ticks": ""
             }
            },
            "type": "scattermapbox"
           }
          ],
          "scatterpolar": [
           {
            "marker": {
             "colorbar": {
              "outlinewidth": 0,
              "ticks": ""
             }
            },
            "type": "scatterpolar"
           }
          ],
          "scatterpolargl": [
           {
            "marker": {
             "colorbar": {
              "outlinewidth": 0,
              "ticks": ""
             }
            },
            "type": "scatterpolargl"
           }
          ],
          "scatterternary": [
           {
            "marker": {
             "colorbar": {
              "outlinewidth": 0,
              "ticks": ""
             }
            },
            "type": "scatterternary"
           }
          ],
          "surface": [
           {
            "colorbar": {
             "outlinewidth": 0,
             "ticks": ""
            },
            "colorscale": [
             [
              0,
              "#0d0887"
             ],
             [
              0.1111111111111111,
              "#46039f"
             ],
             [
              0.2222222222222222,
              "#7201a8"
             ],
             [
              0.3333333333333333,
              "#9c179e"
             ],
             [
              0.4444444444444444,
              "#bd3786"
             ],
             [
              0.5555555555555556,
              "#d8576b"
             ],
             [
              0.6666666666666666,
              "#ed7953"
             ],
             [
              0.7777777777777778,
              "#fb9f3a"
             ],
             [
              0.8888888888888888,
              "#fdca26"
             ],
             [
              1,
              "#f0f921"
             ]
            ],
            "type": "surface"
           }
          ],
          "table": [
           {
            "cells": {
             "fill": {
              "color": "#EBF0F8"
             },
             "line": {
              "color": "white"
             }
            },
            "header": {
             "fill": {
              "color": "#C8D4E3"
             },
             "line": {
              "color": "white"
             }
            },
            "type": "table"
           }
          ]
         },
         "layout": {
          "annotationdefaults": {
           "arrowcolor": "#2a3f5f",
           "arrowhead": 0,
           "arrowwidth": 1
          },
          "autotypenumbers": "strict",
          "coloraxis": {
           "colorbar": {
            "outlinewidth": 0,
            "ticks": ""
           }
          },
          "colorscale": {
           "diverging": [
            [
             0,
             "#8e0152"
            ],
            [
             0.1,
             "#c51b7d"
            ],
            [
             0.2,
             "#de77ae"
            ],
            [
             0.3,
             "#f1b6da"
            ],
            [
             0.4,
             "#fde0ef"
            ],
            [
             0.5,
             "#f7f7f7"
            ],
            [
             0.6,
             "#e6f5d0"
            ],
            [
             0.7,
             "#b8e186"
            ],
            [
             0.8,
             "#7fbc41"
            ],
            [
             0.9,
             "#4d9221"
            ],
            [
             1,
             "#276419"
            ]
           ],
           "sequential": [
            [
             0,
             "#0d0887"
            ],
            [
             0.1111111111111111,
             "#46039f"
            ],
            [
             0.2222222222222222,
             "#7201a8"
            ],
            [
             0.3333333333333333,
             "#9c179e"
            ],
            [
             0.4444444444444444,
             "#bd3786"
            ],
            [
             0.5555555555555556,
             "#d8576b"
            ],
            [
             0.6666666666666666,
             "#ed7953"
            ],
            [
             0.7777777777777778,
             "#fb9f3a"
            ],
            [
             0.8888888888888888,
             "#fdca26"
            ],
            [
             1,
             "#f0f921"
            ]
           ],
           "sequentialminus": [
            [
             0,
             "#0d0887"
            ],
            [
             0.1111111111111111,
             "#46039f"
            ],
            [
             0.2222222222222222,
             "#7201a8"
            ],
            [
             0.3333333333333333,
             "#9c179e"
            ],
            [
             0.4444444444444444,
             "#bd3786"
            ],
            [
             0.5555555555555556,
             "#d8576b"
            ],
            [
             0.6666666666666666,
             "#ed7953"
            ],
            [
             0.7777777777777778,
             "#fb9f3a"
            ],
            [
             0.8888888888888888,
             "#fdca26"
            ],
            [
             1,
             "#f0f921"
            ]
           ]
          },
          "colorway": [
           "#636efa",
           "#EF553B",
           "#00cc96",
           "#ab63fa",
           "#FFA15A",
           "#19d3f3",
           "#FF6692",
           "#B6E880",
           "#FF97FF",
           "#FECB52"
          ],
          "font": {
           "color": "#2a3f5f"
          },
          "geo": {
           "bgcolor": "white",
           "lakecolor": "white",
           "landcolor": "#E5ECF6",
           "showlakes": true,
           "showland": true,
           "subunitcolor": "white"
          },
          "hoverlabel": {
           "align": "left"
          },
          "hovermode": "closest",
          "mapbox": {
           "style": "light"
          },
          "paper_bgcolor": "white",
          "plot_bgcolor": "#E5ECF6",
          "polar": {
           "angularaxis": {
            "gridcolor": "white",
            "linecolor": "white",
            "ticks": ""
           },
           "bgcolor": "#E5ECF6",
           "radialaxis": {
            "gridcolor": "white",
            "linecolor": "white",
            "ticks": ""
           }
          },
          "scene": {
           "xaxis": {
            "backgroundcolor": "#E5ECF6",
            "gridcolor": "white",
            "gridwidth": 2,
            "linecolor": "white",
            "showbackground": true,
            "ticks": "",
            "zerolinecolor": "white"
           },
           "yaxis": {
            "backgroundcolor": "#E5ECF6",
            "gridcolor": "white",
            "gridwidth": 2,
            "linecolor": "white",
            "showbackground": true,
            "ticks": "",
            "zerolinecolor": "white"
           },
           "zaxis": {
            "backgroundcolor": "#E5ECF6",
            "gridcolor": "white",
            "gridwidth": 2,
            "linecolor": "white",
            "showbackground": true,
            "ticks": "",
            "zerolinecolor": "white"
           }
          },
          "shapedefaults": {
           "line": {
            "color": "#2a3f5f"
           }
          },
          "ternary": {
           "aaxis": {
            "gridcolor": "white",
            "linecolor": "white",
            "ticks": ""
           },
           "baxis": {
            "gridcolor": "white",
            "linecolor": "white",
            "ticks": ""
           },
           "bgcolor": "#E5ECF6",
           "caxis": {
            "gridcolor": "white",
            "linecolor": "white",
            "ticks": ""
           }
          },
          "title": {
           "x": 0.05
          },
          "xaxis": {
           "automargin": true,
           "gridcolor": "white",
           "linecolor": "white",
           "ticks": "",
           "title": {
            "standoff": 15
           },
           "zerolinecolor": "white",
           "zerolinewidth": 2
          },
          "yaxis": {
           "automargin": true,
           "gridcolor": "white",
           "linecolor": "white",
           "ticks": "",
           "title": {
            "standoff": 15
           },
           "zerolinecolor": "white",
           "zerolinewidth": 2
          }
         }
        },
        "title": {
         "text": "Ratio endeudamiento total de acciones"
        },
        "xaxis": {
         "title": {
          "text": "Periodo terminado"
         }
        },
        "yaxis": {
         "title": {
          "text": "Ratio endeudamiento total"
         }
        }
       }
      }
     },
     "metadata": {},
     "output_type": "display_data"
    }
   ],
   "source": [
    "fig = go.Figure()\n",
    "for stock_pkl in list(dic_stocks_pkl.keys()):\n",
    "    fig.add_trace(go.Scatter(x=dic_stocks_pkl[stock_pkl].df_balance.index , y=dic_stocks_pkl[stock_pkl].df_balance[\"Ratio endeudamiento total\"], name=stock_pkl))\n",
    "fig.update_layout(title='Ratio endeudamiento total de acciones', xaxis_title='Periodo terminado', yaxis_title='Ratio endeudamiento total')\n",
    "fig.show()"
   ]
  },
  {
   "cell_type": "code",
   "execution_count": 204,
   "metadata": {},
   "outputs": [
    {
     "data": {
      "application/vnd.plotly.v1+json": {
       "config": {
        "plotlyServerURL": "https://plot.ly"
       },
       "data": [
        {
         "name": "International Business Machines (IBM)",
         "type": "scatter",
         "x": [
          "2023-12-31T00:00:00",
          "2022-12-31T00:00:00",
          "2021-12-31T00:00:00",
          "2020-12-31T00:00:00"
         ],
         "y": [
          7502,
          1639,
          5743,
          5590
         ]
        },
        {
         "name": "Microsoft Corporation (MSFT)",
         "type": "scatter",
         "x": [
          "2023-06-30T00:00:00",
          "2022-06-30T00:00:00",
          "2021-06-30T00:00:00",
          "2020-06-30T00:00:00"
         ],
         "y": [
          72361,
          72738,
          61271,
          44281
         ]
        },
        {
         "name": "Alphabet Inc Class C (GOOG)",
         "type": "scatter",
         "x": [
          "2023-12-31T00:00:00",
          "2022-12-31T00:00:00",
          "2021-12-31T00:00:00",
          "2020-12-31T00:00:00"
         ],
         "y": [
          73795,
          59972,
          76033,
          40269
         ]
        },
        {
         "name": "Amazon.com Inc (AMZN)",
         "type": "scatter",
         "x": [
          "2023-12-31T00:00:00",
          "2022-12-31T00:00:00",
          "2021-12-31T00:00:00",
          "2020-12-31T00:00:00"
         ],
         "y": [
          30425,
          -2722,
          33364,
          21331
         ]
        },
        {
         "name": "Oracle Corporation (ORCL)",
         "type": "scatter",
         "x": [
          "2023-05-31T00:00:00",
          "2022-05-31T00:00:00",
          "2021-05-31T00:00:00",
          "2020-05-31T00:00:00"
         ],
         "y": [
          8503,
          6717,
          13746,
          10135
         ]
        },
        {
         "name": "SAP SE ADR (SAP)",
         "type": "scatter",
         "x": [
          "2023-12-31T00:00:00",
          "2022-12-31T00:00:00",
          "2021-12-31T00:00:00",
          "2020-12-31T00:00:00"
         ],
         "y": [
          6103,
          2284,
          5256,
          5283
         ]
        }
       ],
       "layout": {
        "template": {
         "data": {
          "bar": [
           {
            "error_x": {
             "color": "#2a3f5f"
            },
            "error_y": {
             "color": "#2a3f5f"
            },
            "marker": {
             "line": {
              "color": "#E5ECF6",
              "width": 0.5
             },
             "pattern": {
              "fillmode": "overlay",
              "size": 10,
              "solidity": 0.2
             }
            },
            "type": "bar"
           }
          ],
          "barpolar": [
           {
            "marker": {
             "line": {
              "color": "#E5ECF6",
              "width": 0.5
             },
             "pattern": {
              "fillmode": "overlay",
              "size": 10,
              "solidity": 0.2
             }
            },
            "type": "barpolar"
           }
          ],
          "carpet": [
           {
            "aaxis": {
             "endlinecolor": "#2a3f5f",
             "gridcolor": "white",
             "linecolor": "white",
             "minorgridcolor": "white",
             "startlinecolor": "#2a3f5f"
            },
            "baxis": {
             "endlinecolor": "#2a3f5f",
             "gridcolor": "white",
             "linecolor": "white",
             "minorgridcolor": "white",
             "startlinecolor": "#2a3f5f"
            },
            "type": "carpet"
           }
          ],
          "choropleth": [
           {
            "colorbar": {
             "outlinewidth": 0,
             "ticks": ""
            },
            "type": "choropleth"
           }
          ],
          "contour": [
           {
            "colorbar": {
             "outlinewidth": 0,
             "ticks": ""
            },
            "colorscale": [
             [
              0,
              "#0d0887"
             ],
             [
              0.1111111111111111,
              "#46039f"
             ],
             [
              0.2222222222222222,
              "#7201a8"
             ],
             [
              0.3333333333333333,
              "#9c179e"
             ],
             [
              0.4444444444444444,
              "#bd3786"
             ],
             [
              0.5555555555555556,
              "#d8576b"
             ],
             [
              0.6666666666666666,
              "#ed7953"
             ],
             [
              0.7777777777777778,
              "#fb9f3a"
             ],
             [
              0.8888888888888888,
              "#fdca26"
             ],
             [
              1,
              "#f0f921"
             ]
            ],
            "type": "contour"
           }
          ],
          "contourcarpet": [
           {
            "colorbar": {
             "outlinewidth": 0,
             "ticks": ""
            },
            "type": "contourcarpet"
           }
          ],
          "heatmap": [
           {
            "colorbar": {
             "outlinewidth": 0,
             "ticks": ""
            },
            "colorscale": [
             [
              0,
              "#0d0887"
             ],
             [
              0.1111111111111111,
              "#46039f"
             ],
             [
              0.2222222222222222,
              "#7201a8"
             ],
             [
              0.3333333333333333,
              "#9c179e"
             ],
             [
              0.4444444444444444,
              "#bd3786"
             ],
             [
              0.5555555555555556,
              "#d8576b"
             ],
             [
              0.6666666666666666,
              "#ed7953"
             ],
             [
              0.7777777777777778,
              "#fb9f3a"
             ],
             [
              0.8888888888888888,
              "#fdca26"
             ],
             [
              1,
              "#f0f921"
             ]
            ],
            "type": "heatmap"
           }
          ],
          "heatmapgl": [
           {
            "colorbar": {
             "outlinewidth": 0,
             "ticks": ""
            },
            "colorscale": [
             [
              0,
              "#0d0887"
             ],
             [
              0.1111111111111111,
              "#46039f"
             ],
             [
              0.2222222222222222,
              "#7201a8"
             ],
             [
              0.3333333333333333,
              "#9c179e"
             ],
             [
              0.4444444444444444,
              "#bd3786"
             ],
             [
              0.5555555555555556,
              "#d8576b"
             ],
             [
              0.6666666666666666,
              "#ed7953"
             ],
             [
              0.7777777777777778,
              "#fb9f3a"
             ],
             [
              0.8888888888888888,
              "#fdca26"
             ],
             [
              1,
              "#f0f921"
             ]
            ],
            "type": "heatmapgl"
           }
          ],
          "histogram": [
           {
            "marker": {
             "pattern": {
              "fillmode": "overlay",
              "size": 10,
              "solidity": 0.2
             }
            },
            "type": "histogram"
           }
          ],
          "histogram2d": [
           {
            "colorbar": {
             "outlinewidth": 0,
             "ticks": ""
            },
            "colorscale": [
             [
              0,
              "#0d0887"
             ],
             [
              0.1111111111111111,
              "#46039f"
             ],
             [
              0.2222222222222222,
              "#7201a8"
             ],
             [
              0.3333333333333333,
              "#9c179e"
             ],
             [
              0.4444444444444444,
              "#bd3786"
             ],
             [
              0.5555555555555556,
              "#d8576b"
             ],
             [
              0.6666666666666666,
              "#ed7953"
             ],
             [
              0.7777777777777778,
              "#fb9f3a"
             ],
             [
              0.8888888888888888,
              "#fdca26"
             ],
             [
              1,
              "#f0f921"
             ]
            ],
            "type": "histogram2d"
           }
          ],
          "histogram2dcontour": [
           {
            "colorbar": {
             "outlinewidth": 0,
             "ticks": ""
            },
            "colorscale": [
             [
              0,
              "#0d0887"
             ],
             [
              0.1111111111111111,
              "#46039f"
             ],
             [
              0.2222222222222222,
              "#7201a8"
             ],
             [
              0.3333333333333333,
              "#9c179e"
             ],
             [
              0.4444444444444444,
              "#bd3786"
             ],
             [
              0.5555555555555556,
              "#d8576b"
             ],
             [
              0.6666666666666666,
              "#ed7953"
             ],
             [
              0.7777777777777778,
              "#fb9f3a"
             ],
             [
              0.8888888888888888,
              "#fdca26"
             ],
             [
              1,
              "#f0f921"
             ]
            ],
            "type": "histogram2dcontour"
           }
          ],
          "mesh3d": [
           {
            "colorbar": {
             "outlinewidth": 0,
             "ticks": ""
            },
            "type": "mesh3d"
           }
          ],
          "parcoords": [
           {
            "line": {
             "colorbar": {
              "outlinewidth": 0,
              "ticks": ""
             }
            },
            "type": "parcoords"
           }
          ],
          "pie": [
           {
            "automargin": true,
            "type": "pie"
           }
          ],
          "scatter": [
           {
            "fillpattern": {
             "fillmode": "overlay",
             "size": 10,
             "solidity": 0.2
            },
            "type": "scatter"
           }
          ],
          "scatter3d": [
           {
            "line": {
             "colorbar": {
              "outlinewidth": 0,
              "ticks": ""
             }
            },
            "marker": {
             "colorbar": {
              "outlinewidth": 0,
              "ticks": ""
             }
            },
            "type": "scatter3d"
           }
          ],
          "scattercarpet": [
           {
            "marker": {
             "colorbar": {
              "outlinewidth": 0,
              "ticks": ""
             }
            },
            "type": "scattercarpet"
           }
          ],
          "scattergeo": [
           {
            "marker": {
             "colorbar": {
              "outlinewidth": 0,
              "ticks": ""
             }
            },
            "type": "scattergeo"
           }
          ],
          "scattergl": [
           {
            "marker": {
             "colorbar": {
              "outlinewidth": 0,
              "ticks": ""
             }
            },
            "type": "scattergl"
           }
          ],
          "scattermapbox": [
           {
            "marker": {
             "colorbar": {
              "outlinewidth": 0,
              "ticks": ""
             }
            },
            "type": "scattermapbox"
           }
          ],
          "scatterpolar": [
           {
            "marker": {
             "colorbar": {
              "outlinewidth": 0,
              "ticks": ""
             }
            },
            "type": "scatterpolar"
           }
          ],
          "scatterpolargl": [
           {
            "marker": {
             "colorbar": {
              "outlinewidth": 0,
              "ticks": ""
             }
            },
            "type": "scatterpolargl"
           }
          ],
          "scatterternary": [
           {
            "marker": {
             "colorbar": {
              "outlinewidth": 0,
              "ticks": ""
             }
            },
            "type": "scatterternary"
           }
          ],
          "surface": [
           {
            "colorbar": {
             "outlinewidth": 0,
             "ticks": ""
            },
            "colorscale": [
             [
              0,
              "#0d0887"
             ],
             [
              0.1111111111111111,
              "#46039f"
             ],
             [
              0.2222222222222222,
              "#7201a8"
             ],
             [
              0.3333333333333333,
              "#9c179e"
             ],
             [
              0.4444444444444444,
              "#bd3786"
             ],
             [
              0.5555555555555556,
              "#d8576b"
             ],
             [
              0.6666666666666666,
              "#ed7953"
             ],
             [
              0.7777777777777778,
              "#fb9f3a"
             ],
             [
              0.8888888888888888,
              "#fdca26"
             ],
             [
              1,
              "#f0f921"
             ]
            ],
            "type": "surface"
           }
          ],
          "table": [
           {
            "cells": {
             "fill": {
              "color": "#EBF0F8"
             },
             "line": {
              "color": "white"
             }
            },
            "header": {
             "fill": {
              "color": "#C8D4E3"
             },
             "line": {
              "color": "white"
             }
            },
            "type": "table"
           }
          ]
         },
         "layout": {
          "annotationdefaults": {
           "arrowcolor": "#2a3f5f",
           "arrowhead": 0,
           "arrowwidth": 1
          },
          "autotypenumbers": "strict",
          "coloraxis": {
           "colorbar": {
            "outlinewidth": 0,
            "ticks": ""
           }
          },
          "colorscale": {
           "diverging": [
            [
             0,
             "#8e0152"
            ],
            [
             0.1,
             "#c51b7d"
            ],
            [
             0.2,
             "#de77ae"
            ],
            [
             0.3,
             "#f1b6da"
            ],
            [
             0.4,
             "#fde0ef"
            ],
            [
             0.5,
             "#f7f7f7"
            ],
            [
             0.6,
             "#e6f5d0"
            ],
            [
             0.7,
             "#b8e186"
            ],
            [
             0.8,
             "#7fbc41"
            ],
            [
             0.9,
             "#4d9221"
            ],
            [
             1,
             "#276419"
            ]
           ],
           "sequential": [
            [
             0,
             "#0d0887"
            ],
            [
             0.1111111111111111,
             "#46039f"
            ],
            [
             0.2222222222222222,
             "#7201a8"
            ],
            [
             0.3333333333333333,
             "#9c179e"
            ],
            [
             0.4444444444444444,
             "#bd3786"
            ],
            [
             0.5555555555555556,
             "#d8576b"
            ],
            [
             0.6666666666666666,
             "#ed7953"
            ],
            [
             0.7777777777777778,
             "#fb9f3a"
            ],
            [
             0.8888888888888888,
             "#fdca26"
            ],
            [
             1,
             "#f0f921"
            ]
           ],
           "sequentialminus": [
            [
             0,
             "#0d0887"
            ],
            [
             0.1111111111111111,
             "#46039f"
            ],
            [
             0.2222222222222222,
             "#7201a8"
            ],
            [
             0.3333333333333333,
             "#9c179e"
            ],
            [
             0.4444444444444444,
             "#bd3786"
            ],
            [
             0.5555555555555556,
             "#d8576b"
            ],
            [
             0.6666666666666666,
             "#ed7953"
            ],
            [
             0.7777777777777778,
             "#fb9f3a"
            ],
            [
             0.8888888888888888,
             "#fdca26"
            ],
            [
             1,
             "#f0f921"
            ]
           ]
          },
          "colorway": [
           "#636efa",
           "#EF553B",
           "#00cc96",
           "#ab63fa",
           "#FFA15A",
           "#19d3f3",
           "#FF6692",
           "#B6E880",
           "#FF97FF",
           "#FECB52"
          ],
          "font": {
           "color": "#2a3f5f"
          },
          "geo": {
           "bgcolor": "white",
           "lakecolor": "white",
           "landcolor": "#E5ECF6",
           "showlakes": true,
           "showland": true,
           "subunitcolor": "white"
          },
          "hoverlabel": {
           "align": "left"
          },
          "hovermode": "closest",
          "mapbox": {
           "style": "light"
          },
          "paper_bgcolor": "white",
          "plot_bgcolor": "#E5ECF6",
          "polar": {
           "angularaxis": {
            "gridcolor": "white",
            "linecolor": "white",
            "ticks": ""
           },
           "bgcolor": "#E5ECF6",
           "radialaxis": {
            "gridcolor": "white",
            "linecolor": "white",
            "ticks": ""
           }
          },
          "scene": {
           "xaxis": {
            "backgroundcolor": "#E5ECF6",
            "gridcolor": "white",
            "gridwidth": 2,
            "linecolor": "white",
            "showbackground": true,
            "ticks": "",
            "zerolinecolor": "white"
           },
           "yaxis": {
            "backgroundcolor": "#E5ECF6",
            "gridcolor": "white",
            "gridwidth": 2,
            "linecolor": "white",
            "showbackground": true,
            "ticks": "",
            "zerolinecolor": "white"
           },
           "zaxis": {
            "backgroundcolor": "#E5ECF6",
            "gridcolor": "white",
            "gridwidth": 2,
            "linecolor": "white",
            "showbackground": true,
            "ticks": "",
            "zerolinecolor": "white"
           }
          },
          "shapedefaults": {
           "line": {
            "color": "#2a3f5f"
           }
          },
          "ternary": {
           "aaxis": {
            "gridcolor": "white",
            "linecolor": "white",
            "ticks": ""
           },
           "baxis": {
            "gridcolor": "white",
            "linecolor": "white",
            "ticks": ""
           },
           "bgcolor": "#E5ECF6",
           "caxis": {
            "gridcolor": "white",
            "linecolor": "white",
            "ticks": ""
           }
          },
          "title": {
           "x": 0.05
          },
          "xaxis": {
           "automargin": true,
           "gridcolor": "white",
           "linecolor": "white",
           "ticks": "",
           "title": {
            "standoff": 15
           },
           "zerolinecolor": "white",
           "zerolinewidth": 2
          },
          "yaxis": {
           "automargin": true,
           "gridcolor": "white",
           "linecolor": "white",
           "ticks": "",
           "title": {
            "standoff": 15
           },
           "zerolinecolor": "white",
           "zerolinewidth": 2
          }
         }
        },
        "title": {
         "text": "Resultado consolidado del ejercicio de acciones"
        },
        "xaxis": {
         "title": {
          "text": "Periodo terminado"
         }
        },
        "yaxis": {
         "title": {
          "text": "Resultados del ejercicio"
         }
        }
       }
      }
     },
     "metadata": {},
     "output_type": "display_data"
    }
   ],
   "source": [
    "fig = go.Figure()\n",
    "for stock_pkl in list(dic_stocks_pkl.keys()):\n",
    "    fig.add_trace(go.Scatter(x=dic_stocks_pkl[stock_pkl].df_flujo_caja.index , y=dic_stocks_pkl[stock_pkl].df_flujo_caja[\"Resultado consolidado del ejercicio\"], name=stock_pkl))\n",
    "fig.update_layout(title='Resultado consolidado del ejercicio de acciones', xaxis_title='Periodo terminado', yaxis_title='Resultados del ejercicio')\n",
    "fig.show()"
   ]
  },
  {
   "cell_type": "code",
   "execution_count": 205,
   "metadata": {},
   "outputs": [
    {
     "data": {
      "application/vnd.plotly.v1+json": {
       "config": {
        "plotlyServerURL": "https://plot.ly"
       },
       "data": [
        {
         "name": "International Business Machines (IBM)",
         "type": "scatter",
         "x": [
          "2024-03-09T00:00:00",
          "2023-12-09T00:00:00",
          "2023-09-09T00:00:00",
          "2023-06-10T00:00:00",
          "2023-03-10T00:00:00",
          "2022-12-10T00:00:00",
          "2022-09-10T00:00:00",
          "2022-06-10T00:00:00",
          "2022-03-10T00:00:00",
          "2021-12-10T00:00:00",
          "2021-11-03T00:00:00",
          "2021-09-10T00:00:00"
         ],
         "y": [
          3.61,
          4.49,
          4.55,
          5.38,
          4.85,
          4.71,
          4.98,
          4.79,
          4.76,
          5.27,
          null,
          4.55
         ]
        },
        {
         "name": "Microsoft Corporation (MSFT)",
         "type": "scatter",
         "x": [
          "2024-03-14T00:00:00",
          "2023-12-14T00:00:00",
          "2023-09-14T00:00:00",
          "2023-06-08T00:00:00",
          "2023-03-09T00:00:00",
          "2022-12-08T00:00:00",
          "2022-09-08T00:00:00",
          "2022-06-09T00:00:00",
          "2022-03-10T00:00:00",
          "2021-12-09T00:00:00",
          "2021-09-09T00:00:00",
          "2021-06-10T00:00:00"
         ],
         "y": [
          0.74,
          0.81,
          0.85,
          0.87,
          1,
          1.12,
          0.85,
          0.93,
          0.83,
          0.73,
          0.76,
          0.92
         ]
        },
        {
         "name": "Alphabet Inc Class C (GOOG)",
         "type": "scatter",
         "x": [],
         "y": []
        },
        {
         "name": "Amazon.com Inc (AMZN)",
         "type": "scatter",
         "x": [],
         "y": []
        },
        {
         "name": "Oracle Corporation (ORCL)",
         "type": "scatter",
         "x": [
          "2024-01-25T00:00:00",
          "2023-10-26T00:00:00",
          "2023-07-26T00:00:00",
          "2023-04-24T00:00:00",
          "2023-01-24T00:00:00",
          "2022-10-25T00:00:00",
          "2022-07-26T00:00:00",
          "2022-04-21T00:00:00",
          "2022-01-19T00:00:00",
          "2021-10-26T00:00:00",
          "2021-07-29T00:00:00",
          "2021-04-22T00:00:00"
         ],
         "y": [
          1.54,
          1.46,
          1.4,
          1.67,
          1.49,
          2.05,
          1.78,
          1.56,
          1.48,
          1.39,
          1.47,
          1.72
         ]
        },
        {
         "name": "SAP SE ADR (SAP)",
         "type": "scatter",
         "x": [
          "2023-05-22T00:00:00",
          "2022-05-31T00:00:00",
          "2022-05-31T00:00:00",
          "2021-05-25T00:00:00",
          "2020-06-02T00:00:00",
          "2019-05-28T00:00:00",
          "2018-05-29T00:00:00"
         ],
         "y": [
          1.21,
          1.61,
          2.03,
          1.21,
          1.04,
          0.97,
          1.04
         ]
        }
       ],
       "layout": {
        "template": {
         "data": {
          "bar": [
           {
            "error_x": {
             "color": "#2a3f5f"
            },
            "error_y": {
             "color": "#2a3f5f"
            },
            "marker": {
             "line": {
              "color": "#E5ECF6",
              "width": 0.5
             },
             "pattern": {
              "fillmode": "overlay",
              "size": 10,
              "solidity": 0.2
             }
            },
            "type": "bar"
           }
          ],
          "barpolar": [
           {
            "marker": {
             "line": {
              "color": "#E5ECF6",
              "width": 0.5
             },
             "pattern": {
              "fillmode": "overlay",
              "size": 10,
              "solidity": 0.2
             }
            },
            "type": "barpolar"
           }
          ],
          "carpet": [
           {
            "aaxis": {
             "endlinecolor": "#2a3f5f",
             "gridcolor": "white",
             "linecolor": "white",
             "minorgridcolor": "white",
             "startlinecolor": "#2a3f5f"
            },
            "baxis": {
             "endlinecolor": "#2a3f5f",
             "gridcolor": "white",
             "linecolor": "white",
             "minorgridcolor": "white",
             "startlinecolor": "#2a3f5f"
            },
            "type": "carpet"
           }
          ],
          "choropleth": [
           {
            "colorbar": {
             "outlinewidth": 0,
             "ticks": ""
            },
            "type": "choropleth"
           }
          ],
          "contour": [
           {
            "colorbar": {
             "outlinewidth": 0,
             "ticks": ""
            },
            "colorscale": [
             [
              0,
              "#0d0887"
             ],
             [
              0.1111111111111111,
              "#46039f"
             ],
             [
              0.2222222222222222,
              "#7201a8"
             ],
             [
              0.3333333333333333,
              "#9c179e"
             ],
             [
              0.4444444444444444,
              "#bd3786"
             ],
             [
              0.5555555555555556,
              "#d8576b"
             ],
             [
              0.6666666666666666,
              "#ed7953"
             ],
             [
              0.7777777777777778,
              "#fb9f3a"
             ],
             [
              0.8888888888888888,
              "#fdca26"
             ],
             [
              1,
              "#f0f921"
             ]
            ],
            "type": "contour"
           }
          ],
          "contourcarpet": [
           {
            "colorbar": {
             "outlinewidth": 0,
             "ticks": ""
            },
            "type": "contourcarpet"
           }
          ],
          "heatmap": [
           {
            "colorbar": {
             "outlinewidth": 0,
             "ticks": ""
            },
            "colorscale": [
             [
              0,
              "#0d0887"
             ],
             [
              0.1111111111111111,
              "#46039f"
             ],
             [
              0.2222222222222222,
              "#7201a8"
             ],
             [
              0.3333333333333333,
              "#9c179e"
             ],
             [
              0.4444444444444444,
              "#bd3786"
             ],
             [
              0.5555555555555556,
              "#d8576b"
             ],
             [
              0.6666666666666666,
              "#ed7953"
             ],
             [
              0.7777777777777778,
              "#fb9f3a"
             ],
             [
              0.8888888888888888,
              "#fdca26"
             ],
             [
              1,
              "#f0f921"
             ]
            ],
            "type": "heatmap"
           }
          ],
          "heatmapgl": [
           {
            "colorbar": {
             "outlinewidth": 0,
             "ticks": ""
            },
            "colorscale": [
             [
              0,
              "#0d0887"
             ],
             [
              0.1111111111111111,
              "#46039f"
             ],
             [
              0.2222222222222222,
              "#7201a8"
             ],
             [
              0.3333333333333333,
              "#9c179e"
             ],
             [
              0.4444444444444444,
              "#bd3786"
             ],
             [
              0.5555555555555556,
              "#d8576b"
             ],
             [
              0.6666666666666666,
              "#ed7953"
             ],
             [
              0.7777777777777778,
              "#fb9f3a"
             ],
             [
              0.8888888888888888,
              "#fdca26"
             ],
             [
              1,
              "#f0f921"
             ]
            ],
            "type": "heatmapgl"
           }
          ],
          "histogram": [
           {
            "marker": {
             "pattern": {
              "fillmode": "overlay",
              "size": 10,
              "solidity": 0.2
             }
            },
            "type": "histogram"
           }
          ],
          "histogram2d": [
           {
            "colorbar": {
             "outlinewidth": 0,
             "ticks": ""
            },
            "colorscale": [
             [
              0,
              "#0d0887"
             ],
             [
              0.1111111111111111,
              "#46039f"
             ],
             [
              0.2222222222222222,
              "#7201a8"
             ],
             [
              0.3333333333333333,
              "#9c179e"
             ],
             [
              0.4444444444444444,
              "#bd3786"
             ],
             [
              0.5555555555555556,
              "#d8576b"
             ],
             [
              0.6666666666666666,
              "#ed7953"
             ],
             [
              0.7777777777777778,
              "#fb9f3a"
             ],
             [
              0.8888888888888888,
              "#fdca26"
             ],
             [
              1,
              "#f0f921"
             ]
            ],
            "type": "histogram2d"
           }
          ],
          "histogram2dcontour": [
           {
            "colorbar": {
             "outlinewidth": 0,
             "ticks": ""
            },
            "colorscale": [
             [
              0,
              "#0d0887"
             ],
             [
              0.1111111111111111,
              "#46039f"
             ],
             [
              0.2222222222222222,
              "#7201a8"
             ],
             [
              0.3333333333333333,
              "#9c179e"
             ],
             [
              0.4444444444444444,
              "#bd3786"
             ],
             [
              0.5555555555555556,
              "#d8576b"
             ],
             [
              0.6666666666666666,
              "#ed7953"
             ],
             [
              0.7777777777777778,
              "#fb9f3a"
             ],
             [
              0.8888888888888888,
              "#fdca26"
             ],
             [
              1,
              "#f0f921"
             ]
            ],
            "type": "histogram2dcontour"
           }
          ],
          "mesh3d": [
           {
            "colorbar": {
             "outlinewidth": 0,
             "ticks": ""
            },
            "type": "mesh3d"
           }
          ],
          "parcoords": [
           {
            "line": {
             "colorbar": {
              "outlinewidth": 0,
              "ticks": ""
             }
            },
            "type": "parcoords"
           }
          ],
          "pie": [
           {
            "automargin": true,
            "type": "pie"
           }
          ],
          "scatter": [
           {
            "fillpattern": {
             "fillmode": "overlay",
             "size": 10,
             "solidity": 0.2
            },
            "type": "scatter"
           }
          ],
          "scatter3d": [
           {
            "line": {
             "colorbar": {
              "outlinewidth": 0,
              "ticks": ""
             }
            },
            "marker": {
             "colorbar": {
              "outlinewidth": 0,
              "ticks": ""
             }
            },
            "type": "scatter3d"
           }
          ],
          "scattercarpet": [
           {
            "marker": {
             "colorbar": {
              "outlinewidth": 0,
              "ticks": ""
             }
            },
            "type": "scattercarpet"
           }
          ],
          "scattergeo": [
           {
            "marker": {
             "colorbar": {
              "outlinewidth": 0,
              "ticks": ""
             }
            },
            "type": "scattergeo"
           }
          ],
          "scattergl": [
           {
            "marker": {
             "colorbar": {
              "outlinewidth": 0,
              "ticks": ""
             }
            },
            "type": "scattergl"
           }
          ],
          "scattermapbox": [
           {
            "marker": {
             "colorbar": {
              "outlinewidth": 0,
              "ticks": ""
             }
            },
            "type": "scattermapbox"
           }
          ],
          "scatterpolar": [
           {
            "marker": {
             "colorbar": {
              "outlinewidth": 0,
              "ticks": ""
             }
            },
            "type": "scatterpolar"
           }
          ],
          "scatterpolargl": [
           {
            "marker": {
             "colorbar": {
              "outlinewidth": 0,
              "ticks": ""
             }
            },
            "type": "scatterpolargl"
           }
          ],
          "scatterternary": [
           {
            "marker": {
             "colorbar": {
              "outlinewidth": 0,
              "ticks": ""
             }
            },
            "type": "scatterternary"
           }
          ],
          "surface": [
           {
            "colorbar": {
             "outlinewidth": 0,
             "ticks": ""
            },
            "colorscale": [
             [
              0,
              "#0d0887"
             ],
             [
              0.1111111111111111,
              "#46039f"
             ],
             [
              0.2222222222222222,
              "#7201a8"
             ],
             [
              0.3333333333333333,
              "#9c179e"
             ],
             [
              0.4444444444444444,
              "#bd3786"
             ],
             [
              0.5555555555555556,
              "#d8576b"
             ],
             [
              0.6666666666666666,
              "#ed7953"
             ],
             [
              0.7777777777777778,
              "#fb9f3a"
             ],
             [
              0.8888888888888888,
              "#fdca26"
             ],
             [
              1,
              "#f0f921"
             ]
            ],
            "type": "surface"
           }
          ],
          "table": [
           {
            "cells": {
             "fill": {
              "color": "#EBF0F8"
             },
             "line": {
              "color": "white"
             }
            },
            "header": {
             "fill": {
              "color": "#C8D4E3"
             },
             "line": {
              "color": "white"
             }
            },
            "type": "table"
           }
          ]
         },
         "layout": {
          "annotationdefaults": {
           "arrowcolor": "#2a3f5f",
           "arrowhead": 0,
           "arrowwidth": 1
          },
          "autotypenumbers": "strict",
          "coloraxis": {
           "colorbar": {
            "outlinewidth": 0,
            "ticks": ""
           }
          },
          "colorscale": {
           "diverging": [
            [
             0,
             "#8e0152"
            ],
            [
             0.1,
             "#c51b7d"
            ],
            [
             0.2,
             "#de77ae"
            ],
            [
             0.3,
             "#f1b6da"
            ],
            [
             0.4,
             "#fde0ef"
            ],
            [
             0.5,
             "#f7f7f7"
            ],
            [
             0.6,
             "#e6f5d0"
            ],
            [
             0.7,
             "#b8e186"
            ],
            [
             0.8,
             "#7fbc41"
            ],
            [
             0.9,
             "#4d9221"
            ],
            [
             1,
             "#276419"
            ]
           ],
           "sequential": [
            [
             0,
             "#0d0887"
            ],
            [
             0.1111111111111111,
             "#46039f"
            ],
            [
             0.2222222222222222,
             "#7201a8"
            ],
            [
             0.3333333333333333,
             "#9c179e"
            ],
            [
             0.4444444444444444,
             "#bd3786"
            ],
            [
             0.5555555555555556,
             "#d8576b"
            ],
            [
             0.6666666666666666,
             "#ed7953"
            ],
            [
             0.7777777777777778,
             "#fb9f3a"
            ],
            [
             0.8888888888888888,
             "#fdca26"
            ],
            [
             1,
             "#f0f921"
            ]
           ],
           "sequentialminus": [
            [
             0,
             "#0d0887"
            ],
            [
             0.1111111111111111,
             "#46039f"
            ],
            [
             0.2222222222222222,
             "#7201a8"
            ],
            [
             0.3333333333333333,
             "#9c179e"
            ],
            [
             0.4444444444444444,
             "#bd3786"
            ],
            [
             0.5555555555555556,
             "#d8576b"
            ],
            [
             0.6666666666666666,
             "#ed7953"
            ],
            [
             0.7777777777777778,
             "#fb9f3a"
            ],
            [
             0.8888888888888888,
             "#fdca26"
            ],
            [
             1,
             "#f0f921"
            ]
           ]
          },
          "colorway": [
           "#636efa",
           "#EF553B",
           "#00cc96",
           "#ab63fa",
           "#FFA15A",
           "#19d3f3",
           "#FF6692",
           "#B6E880",
           "#FF97FF",
           "#FECB52"
          ],
          "font": {
           "color": "#2a3f5f"
          },
          "geo": {
           "bgcolor": "white",
           "lakecolor": "white",
           "landcolor": "#E5ECF6",
           "showlakes": true,
           "showland": true,
           "subunitcolor": "white"
          },
          "hoverlabel": {
           "align": "left"
          },
          "hovermode": "closest",
          "mapbox": {
           "style": "light"
          },
          "paper_bgcolor": "white",
          "plot_bgcolor": "#E5ECF6",
          "polar": {
           "angularaxis": {
            "gridcolor": "white",
            "linecolor": "white",
            "ticks": ""
           },
           "bgcolor": "#E5ECF6",
           "radialaxis": {
            "gridcolor": "white",
            "linecolor": "white",
            "ticks": ""
           }
          },
          "scene": {
           "xaxis": {
            "backgroundcolor": "#E5ECF6",
            "gridcolor": "white",
            "gridwidth": 2,
            "linecolor": "white",
            "showbackground": true,
            "ticks": "",
            "zerolinecolor": "white"
           },
           "yaxis": {
            "backgroundcolor": "#E5ECF6",
            "gridcolor": "white",
            "gridwidth": 2,
            "linecolor": "white",
            "showbackground": true,
            "ticks": "",
            "zerolinecolor": "white"
           },
           "zaxis": {
            "backgroundcolor": "#E5ECF6",
            "gridcolor": "white",
            "gridwidth": 2,
            "linecolor": "white",
            "showbackground": true,
            "ticks": "",
            "zerolinecolor": "white"
           }
          },
          "shapedefaults": {
           "line": {
            "color": "#2a3f5f"
           }
          },
          "ternary": {
           "aaxis": {
            "gridcolor": "white",
            "linecolor": "white",
            "ticks": ""
           },
           "baxis": {
            "gridcolor": "white",
            "linecolor": "white",
            "ticks": ""
           },
           "bgcolor": "#E5ECF6",
           "caxis": {
            "gridcolor": "white",
            "linecolor": "white",
            "ticks": ""
           }
          },
          "title": {
           "x": 0.05
          },
          "xaxis": {
           "automargin": true,
           "gridcolor": "white",
           "linecolor": "white",
           "ticks": "",
           "title": {
            "standoff": 15
           },
           "zerolinecolor": "white",
           "zerolinewidth": 2
          },
          "yaxis": {
           "automargin": true,
           "gridcolor": "white",
           "linecolor": "white",
           "ticks": "",
           "title": {
            "standoff": 15
           },
           "zerolinecolor": "white",
           "zerolinewidth": 2
          }
         }
        },
        "title": {
         "text": "Rendimiento de acciones"
        },
        "xaxis": {
         "title": {
          "text": "Fecha de pago"
         }
        },
        "yaxis": {
         "title": {
          "text": "Rendimiento (%)"
         }
        }
       }
      }
     },
     "metadata": {},
     "output_type": "display_data"
    }
   ],
   "source": [
    "fig = go.Figure()\n",
    "for stock_pkl in list(dic_stocks_pkl.keys()):\n",
    "    fig.add_trace(go.Scatter(x=dic_stocks_pkl[stock_pkl].df_dividendos[\"Fecha de pago\"] , y=dic_stocks_pkl[stock_pkl].df_dividendos[\"Rendimiento\"], name=stock_pkl))\n",
    "fig.update_layout(title='Rendimiento de acciones', xaxis_title='Fecha de pago', yaxis_title='Rendimiento (%)')\n",
    "fig.show()"
   ]
  },
  {
   "cell_type": "code",
   "execution_count": 207,
   "metadata": {},
   "outputs": [],
   "source": [
    "# Revision de los dividendos entregado por accion\n",
    "tickets = [\"IBM\", \"MSFT\", \"GOOG\", \"AMZN\", \"ORCL\", \"SAP\"]\n",
    "start_date = pd.Timestamp(\"2021-01-01\").date()\n",
    "#end_date = \"2023-12-31\"\n",
    "\n",
    "dc_dividends = {}\n",
    "for stock in tickets:\n",
    "    ticker = yf.Ticker(stock)\n",
    "    dividend = ticker.dividends\n",
    "    if not dividend.empty:\n",
    "        dc_dividends[stock] = dividend"
   ]
  },
  {
   "cell_type": "code",
   "execution_count": 208,
   "metadata": {},
   "outputs": [],
   "source": [
    "df_dividends = pd.DataFrame(dc_dividends)\n",
    "df_dividends.reset_index(inplace=True)\n",
    "df_dividends[\"Date\"] = pd.to_datetime(df_dividends[\"Date\"], utc=True)\n",
    "df_dividends[\"Date\"] = df_dividends[\"Date\"].dt.date\n",
    "df_dividends = df_dividends[df_dividends[\"Date\"] >= start_date]\n",
    "df_dividends[\"Date\"] = pd.to_datetime(df_dividends[\"Date\"])\n",
    "df_dividends = df_dividends.groupby(df_dividends[\"Date\"].dt.to_period(\"M\")).mean()\n",
    "df_dividends[\"Date\"] = df_dividends[\"Date\"].dt.date\n",
    "df_dividends = df_dividends.fillna(method=\"ffill\")\n",
    "df_dividends.dropna(inplace=True)\n",
    "nombre_stock_ticket = {'NVDA': 'NVIDIA','MSFT': 'Microsoft','AAPL': 'Apple','JNJ': 'Johnson & Johnson','TSM': 'Taiwan Semiconductor','V': 'Visa','UNH': 'UnitedHealth','XOM': 'Exxon Mobil','WMT': 'Walmart',\n",
    "    'JPM': 'JPMorgan Chase','PG': 'Procter & Gamble','MA': 'Mastercard','LLY': 'Eli Lilly','HD': 'Home Depot','CVX': 'Chevron'}\n",
    "df_dividends = df_dividends.rename(columns=nombre_stock_ticket)\n",
    "df_dividends.set_index(\"Date\", inplace=True)"
   ]
  },
  {
   "cell_type": "code",
   "execution_count": 209,
   "metadata": {},
   "outputs": [
    {
     "data": {
      "text/html": [
       "<div>\n",
       "<style scoped>\n",
       "    .dataframe tbody tr th:only-of-type {\n",
       "        vertical-align: middle;\n",
       "    }\n",
       "\n",
       "    .dataframe tbody tr th {\n",
       "        vertical-align: top;\n",
       "    }\n",
       "\n",
       "    .dataframe thead th {\n",
       "        text-align: right;\n",
       "    }\n",
       "</style>\n",
       "<table border=\"1\" class=\"dataframe\">\n",
       "  <thead>\n",
       "    <tr style=\"text-align: right;\">\n",
       "      <th></th>\n",
       "      <th>IBM</th>\n",
       "      <th>Microsoft</th>\n",
       "      <th>ORCL</th>\n",
       "      <th>SAP</th>\n",
       "    </tr>\n",
       "    <tr>\n",
       "      <th>Date</th>\n",
       "      <th></th>\n",
       "      <th></th>\n",
       "      <th></th>\n",
       "      <th></th>\n",
       "    </tr>\n",
       "  </thead>\n",
       "  <tbody>\n",
       "    <tr>\n",
       "      <th>2021-10-08</th>\n",
       "      <td>1.567878</td>\n",
       "      <td>0.56</td>\n",
       "      <td>0.32</td>\n",
       "      <td>2.189</td>\n",
       "    </tr>\n",
       "    <tr>\n",
       "      <th>2021-11-13</th>\n",
       "      <td>1.640000</td>\n",
       "      <td>0.62</td>\n",
       "      <td>0.32</td>\n",
       "      <td>2.189</td>\n",
       "    </tr>\n",
       "    <tr>\n",
       "      <th>2022-01-06</th>\n",
       "      <td>1.640000</td>\n",
       "      <td>0.62</td>\n",
       "      <td>0.32</td>\n",
       "      <td>2.189</td>\n",
       "    </tr>\n",
       "    <tr>\n",
       "      <th>2022-02-13</th>\n",
       "      <td>1.640000</td>\n",
       "      <td>0.62</td>\n",
       "      <td>0.32</td>\n",
       "      <td>2.189</td>\n",
       "    </tr>\n",
       "    <tr>\n",
       "      <th>2022-04-07</th>\n",
       "      <td>1.640000</td>\n",
       "      <td>0.62</td>\n",
       "      <td>0.32</td>\n",
       "      <td>2.189</td>\n",
       "    </tr>\n",
       "    <tr>\n",
       "      <th>2022-05-15</th>\n",
       "      <td>1.650000</td>\n",
       "      <td>0.62</td>\n",
       "      <td>0.32</td>\n",
       "      <td>2.660</td>\n",
       "    </tr>\n",
       "    <tr>\n",
       "      <th>2022-07-11</th>\n",
       "      <td>1.650000</td>\n",
       "      <td>0.62</td>\n",
       "      <td>0.32</td>\n",
       "      <td>2.660</td>\n",
       "    </tr>\n",
       "    <tr>\n",
       "      <th>2022-08-13</th>\n",
       "      <td>1.650000</td>\n",
       "      <td>0.62</td>\n",
       "      <td>0.32</td>\n",
       "      <td>2.660</td>\n",
       "    </tr>\n",
       "    <tr>\n",
       "      <th>2022-10-11</th>\n",
       "      <td>1.650000</td>\n",
       "      <td>0.62</td>\n",
       "      <td>0.32</td>\n",
       "      <td>2.660</td>\n",
       "    </tr>\n",
       "    <tr>\n",
       "      <th>2022-11-12</th>\n",
       "      <td>1.650000</td>\n",
       "      <td>0.68</td>\n",
       "      <td>0.32</td>\n",
       "      <td>2.660</td>\n",
       "    </tr>\n",
       "    <tr>\n",
       "      <th>2023-01-09</th>\n",
       "      <td>1.650000</td>\n",
       "      <td>0.68</td>\n",
       "      <td>0.32</td>\n",
       "      <td>2.660</td>\n",
       "    </tr>\n",
       "    <tr>\n",
       "      <th>2023-02-12</th>\n",
       "      <td>1.650000</td>\n",
       "      <td>0.68</td>\n",
       "      <td>0.32</td>\n",
       "      <td>2.660</td>\n",
       "    </tr>\n",
       "    <tr>\n",
       "      <th>2023-04-10</th>\n",
       "      <td>1.650000</td>\n",
       "      <td>0.68</td>\n",
       "      <td>0.40</td>\n",
       "      <td>2.660</td>\n",
       "    </tr>\n",
       "    <tr>\n",
       "      <th>2023-05-12</th>\n",
       "      <td>1.660000</td>\n",
       "      <td>0.68</td>\n",
       "      <td>0.40</td>\n",
       "      <td>2.186</td>\n",
       "    </tr>\n",
       "    <tr>\n",
       "      <th>2023-07-11</th>\n",
       "      <td>1.660000</td>\n",
       "      <td>0.68</td>\n",
       "      <td>0.40</td>\n",
       "      <td>2.186</td>\n",
       "    </tr>\n",
       "    <tr>\n",
       "      <th>2023-08-12</th>\n",
       "      <td>1.660000</td>\n",
       "      <td>0.68</td>\n",
       "      <td>0.40</td>\n",
       "      <td>2.186</td>\n",
       "    </tr>\n",
       "    <tr>\n",
       "      <th>2023-10-11</th>\n",
       "      <td>1.660000</td>\n",
       "      <td>0.68</td>\n",
       "      <td>0.40</td>\n",
       "      <td>2.186</td>\n",
       "    </tr>\n",
       "    <tr>\n",
       "      <th>2023-11-12</th>\n",
       "      <td>1.660000</td>\n",
       "      <td>0.75</td>\n",
       "      <td>0.40</td>\n",
       "      <td>2.186</td>\n",
       "    </tr>\n",
       "    <tr>\n",
       "      <th>2024-01-10</th>\n",
       "      <td>1.660000</td>\n",
       "      <td>0.75</td>\n",
       "      <td>0.40</td>\n",
       "      <td>2.186</td>\n",
       "    </tr>\n",
       "    <tr>\n",
       "      <th>2024-02-11</th>\n",
       "      <td>1.660000</td>\n",
       "      <td>0.75</td>\n",
       "      <td>0.40</td>\n",
       "      <td>2.186</td>\n",
       "    </tr>\n",
       "  </tbody>\n",
       "</table>\n",
       "</div>"
      ],
      "text/plain": [
       "                 IBM  Microsoft  ORCL    SAP\n",
       "Date                                        \n",
       "2021-10-08  1.567878       0.56  0.32  2.189\n",
       "2021-11-13  1.640000       0.62  0.32  2.189\n",
       "2022-01-06  1.640000       0.62  0.32  2.189\n",
       "2022-02-13  1.640000       0.62  0.32  2.189\n",
       "2022-04-07  1.640000       0.62  0.32  2.189\n",
       "2022-05-15  1.650000       0.62  0.32  2.660\n",
       "2022-07-11  1.650000       0.62  0.32  2.660\n",
       "2022-08-13  1.650000       0.62  0.32  2.660\n",
       "2022-10-11  1.650000       0.62  0.32  2.660\n",
       "2022-11-12  1.650000       0.68  0.32  2.660\n",
       "2023-01-09  1.650000       0.68  0.32  2.660\n",
       "2023-02-12  1.650000       0.68  0.32  2.660\n",
       "2023-04-10  1.650000       0.68  0.40  2.660\n",
       "2023-05-12  1.660000       0.68  0.40  2.186\n",
       "2023-07-11  1.660000       0.68  0.40  2.186\n",
       "2023-08-12  1.660000       0.68  0.40  2.186\n",
       "2023-10-11  1.660000       0.68  0.40  2.186\n",
       "2023-11-12  1.660000       0.75  0.40  2.186\n",
       "2024-01-10  1.660000       0.75  0.40  2.186\n",
       "2024-02-11  1.660000       0.75  0.40  2.186"
      ]
     },
     "execution_count": 209,
     "metadata": {},
     "output_type": "execute_result"
    }
   ],
   "source": [
    "df_dividends.tail(20)"
   ]
  },
  {
   "cell_type": "code",
   "execution_count": 210,
   "metadata": {},
   "outputs": [
    {
     "data": {
      "image/png": "[encoded data removed]",
      "text/plain": [
       "<Figure size 2100x700 with 1 Axes>"
      ]
     },
     "metadata": {},
     "output_type": "display_data"
    }
   ],
   "source": [
    "df_top6 = df_dividends.apply(lambda x: x.nlargest(6).index.tolist(), axis=1)[-1]\n",
    "df_dividends = df_dividends.loc[:,df_top6]\n",
    "# Graficar las líneas\n",
    "plt.figure(figsize=(21, 7))\n",
    "for column in df_dividends.columns:\n",
    "    plt.plot(df_dividends.index, df_dividends[column], label=column)\n",
    "plt.xlabel('Fecha')\n",
    "plt.ylabel('Valor')\n",
    "plt.title('Dividend of stocks')\n",
    "plt.legend()\n",
    "plt.show()"
   ]
  },
  {
   "cell_type": "code",
   "execution_count": 211,
   "metadata": {},
   "outputs": [],
   "source": [
    "#SAP\n",
    "#ORCL\n",
    "#TSM\n",
    "#QCOM\n",
    "#AIR.PA\n",
    "#PFE\n",
    "#ARM\n",
    "#Analisis de volumen de acciones"
   ]
  }
 ],
 "metadata": {
  "kernelspec": {
   "display_name": "base",
   "language": "python",
   "name": "python3"
  },
  "language_info": {
   "codemirror_mode": {
    "name": "ipython",
    "version": 3
   },
   "file_extension": ".py",
   "mimetype": "text/x-python",
   "name": "python",
   "nbconvert_exporter": "python",
   "pygments_lexer": "ipython3",
   "version": "3.10.9"
  }
 },
 "nbformat": 4,
 "nbformat_minor": 2
}
